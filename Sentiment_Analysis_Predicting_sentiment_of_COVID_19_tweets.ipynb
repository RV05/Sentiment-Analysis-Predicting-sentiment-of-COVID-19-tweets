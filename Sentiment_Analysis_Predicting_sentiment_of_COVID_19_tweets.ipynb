{
  "nbformat": 4,
  "nbformat_minor": 0,
  "metadata": {
    "kernelspec": {
      "display_name": "Python 3",
      "language": "python",
      "name": "python3"
    },
    "language_info": {
      "codemirror_mode": {
        "name": "ipython",
        "version": 3
      },
      "file_extension": ".py",
      "mimetype": "text/x-python",
      "name": "python",
      "nbconvert_exporter": "python",
      "pygments_lexer": "ipython3",
      "version": "3.7.1"
    },
    "colab": {
      "name": "Sentiment Analysis : Predicting sentiment of COVID-19 tweets",
      "provenance": [],
      "collapsed_sections": [],
      "include_colab_link": true
    }
  },
  "cells": [
    {
      "cell_type": "markdown",
      "metadata": {
        "id": "view-in-github",
        "colab_type": "text"
      },
      "source": [
        "<a href=\"https://colab.research.google.com/github/RV05/Sentiment-Analysis-Predicting-sentiment-of-COVID-19-tweets/blob/main/Sentiment_Analysis_Predicting_sentiment_of_COVID_19_tweets.ipynb\" target=\"_parent\"><img src=\"https://colab.research.google.com/assets/colab-badge.svg\" alt=\"Open In Colab\"/></a>"
      ]
    },
    {
      "cell_type": "markdown",
      "metadata": {
        "id": "5mzRWYeFI_F-"
      },
      "source": [
        "# <b><u> Project Title : Sentiment Analysis : Predicting sentiment of COVID-19 tweets</u></b>"
      ]
    },
    {
      "cell_type": "markdown",
      "metadata": {
        "id": "jG1c9qMUJE_c"
      },
      "source": [
        "## <b> Problem Description </b>\n",
        "\n",
        "### This challenge asks you to build a classification model to predict the sentiment of COVID-19 tweets.The tweets have been pulled from Twitter and manual tagging has been done then.\n",
        "\n",
        "### The names and usernames have been given codes to avoid any privacy concerns.\n",
        "\n",
        "### You are given the following information:\n",
        "1. Location\n",
        "2. Tweet At\n",
        "3. Original Tweet\n",
        "4. Label"
      ]
    },
    {
      "cell_type": "code",
      "metadata": {
        "colab": {
          "base_uri": "https://localhost:8080/"
        },
        "id": "ffai7Vrr4JGf",
        "outputId": "0d6b3e67-8d33-41ab-9d12-59544ba59a3d"
      },
      "source": [
        "from google.colab import drive\n",
        "drive.mount('/content/drive')"
      ],
      "execution_count": 1,
      "outputs": [
        {
          "output_type": "stream",
          "text": [
            "Drive already mounted at /content/drive; to attempt to forcibly remount, call drive.mount(\"/content/drive\", force_remount=True).\n"
          ],
          "name": "stdout"
        }
      ]
    },
    {
      "cell_type": "code",
      "metadata": {
        "id": "YNLBkSJgzXw2"
      },
      "source": [
        "#Load the necessary python libraries\n",
        "import numpy as np\n",
        "import pandas as pd\n",
        "import matplotlib.pyplot as plt\n",
        "plt.style.use('ggplot')"
      ],
      "execution_count": 2,
      "outputs": []
    },
    {
      "cell_type": "code",
      "metadata": {
        "colab": {
          "base_uri": "https://localhost:8080/",
          "height": 289
        },
        "id": "-PTdBoC92zdw",
        "outputId": "021f3cca-182e-4689-8af5-01df415f7d35"
      },
      "source": [
        "message = pd.read_csv('/content/drive/MyDrive/alma/Coronavirus Tweets.csv',encoding='latin1')\n",
        "\n",
        "message.head()"
      ],
      "execution_count": 3,
      "outputs": [
        {
          "output_type": "execute_result",
          "data": {
            "text/html": [
              "<div>\n",
              "<style scoped>\n",
              "    .dataframe tbody tr th:only-of-type {\n",
              "        vertical-align: middle;\n",
              "    }\n",
              "\n",
              "    .dataframe tbody tr th {\n",
              "        vertical-align: top;\n",
              "    }\n",
              "\n",
              "    .dataframe thead th {\n",
              "        text-align: right;\n",
              "    }\n",
              "</style>\n",
              "<table border=\"1\" class=\"dataframe\">\n",
              "  <thead>\n",
              "    <tr style=\"text-align: right;\">\n",
              "      <th></th>\n",
              "      <th>UserName</th>\n",
              "      <th>ScreenName</th>\n",
              "      <th>Location</th>\n",
              "      <th>TweetAt</th>\n",
              "      <th>OriginalTweet</th>\n",
              "      <th>Sentiment</th>\n",
              "    </tr>\n",
              "  </thead>\n",
              "  <tbody>\n",
              "    <tr>\n",
              "      <th>0</th>\n",
              "      <td>3799</td>\n",
              "      <td>48751</td>\n",
              "      <td>London</td>\n",
              "      <td>16-03-2020</td>\n",
              "      <td>@MeNyrbie @Phil_Gahan @Chrisitv https://t.co/i...</td>\n",
              "      <td>Neutral</td>\n",
              "    </tr>\n",
              "    <tr>\n",
              "      <th>1</th>\n",
              "      <td>3800</td>\n",
              "      <td>48752</td>\n",
              "      <td>UK</td>\n",
              "      <td>16-03-2020</td>\n",
              "      <td>advice Talk to your neighbours family to excha...</td>\n",
              "      <td>Positive</td>\n",
              "    </tr>\n",
              "    <tr>\n",
              "      <th>2</th>\n",
              "      <td>3801</td>\n",
              "      <td>48753</td>\n",
              "      <td>Vagabonds</td>\n",
              "      <td>16-03-2020</td>\n",
              "      <td>Coronavirus Australia: Woolworths to give elde...</td>\n",
              "      <td>Positive</td>\n",
              "    </tr>\n",
              "    <tr>\n",
              "      <th>3</th>\n",
              "      <td>3802</td>\n",
              "      <td>48754</td>\n",
              "      <td>NaN</td>\n",
              "      <td>16-03-2020</td>\n",
              "      <td>My food stock is not the only one which is emp...</td>\n",
              "      <td>Positive</td>\n",
              "    </tr>\n",
              "    <tr>\n",
              "      <th>4</th>\n",
              "      <td>3803</td>\n",
              "      <td>48755</td>\n",
              "      <td>NaN</td>\n",
              "      <td>16-03-2020</td>\n",
              "      <td>Me, ready to go at supermarket during the #COV...</td>\n",
              "      <td>Extremely Negative</td>\n",
              "    </tr>\n",
              "  </tbody>\n",
              "</table>\n",
              "</div>"
            ],
            "text/plain": [
              "   UserName  ...           Sentiment\n",
              "0      3799  ...             Neutral\n",
              "1      3800  ...            Positive\n",
              "2      3801  ...            Positive\n",
              "3      3802  ...            Positive\n",
              "4      3803  ...  Extremely Negative\n",
              "\n",
              "[5 rows x 6 columns]"
            ]
          },
          "metadata": {
            "tags": []
          },
          "execution_count": 3
        }
      ]
    },
    {
      "cell_type": "code",
      "metadata": {
        "colab": {
          "base_uri": "https://localhost:8080/"
        },
        "id": "PJlxGpgJybZH",
        "outputId": "e240e8ef-7b82-429a-abe6-4649c8de67cc"
      },
      "source": [
        "message.shape"
      ],
      "execution_count": 4,
      "outputs": [
        {
          "output_type": "execute_result",
          "data": {
            "text/plain": [
              "(41157, 6)"
            ]
          },
          "metadata": {
            "tags": []
          },
          "execution_count": 4
        }
      ]
    },
    {
      "cell_type": "code",
      "metadata": {
        "colab": {
          "base_uri": "https://localhost:8080/"
        },
        "id": "IZj7Mi6TB8nx",
        "outputId": "d5850f1f-ce8b-4c0e-cc84-3dabaccf8256"
      },
      "source": [
        "message['Sentiment'].value_counts()"
      ],
      "execution_count": 5,
      "outputs": [
        {
          "output_type": "execute_result",
          "data": {
            "text/plain": [
              "Positive              11422\n",
              "Negative               9917\n",
              "Neutral                7713\n",
              "Extremely Positive     6624\n",
              "Extremely Negative     5481\n",
              "Name: Sentiment, dtype: int64"
            ]
          },
          "metadata": {
            "tags": []
          },
          "execution_count": 5
        }
      ]
    },
    {
      "cell_type": "code",
      "metadata": {
        "colab": {
          "base_uri": "https://localhost:8080/",
          "height": 320
        },
        "id": "2i9J9C5T2zau",
        "outputId": "4a38adc4-2a02-4428-caae-702a2a4ddd42"
      },
      "source": [
        "message.groupby('Sentiment').describe()"
      ],
      "execution_count": 6,
      "outputs": [
        {
          "output_type": "execute_result",
          "data": {
            "text/html": [
              "<div>\n",
              "<style scoped>\n",
              "    .dataframe tbody tr th:only-of-type {\n",
              "        vertical-align: middle;\n",
              "    }\n",
              "\n",
              "    .dataframe tbody tr th {\n",
              "        vertical-align: top;\n",
              "    }\n",
              "\n",
              "    .dataframe thead tr th {\n",
              "        text-align: left;\n",
              "    }\n",
              "\n",
              "    .dataframe thead tr:last-of-type th {\n",
              "        text-align: right;\n",
              "    }\n",
              "</style>\n",
              "<table border=\"1\" class=\"dataframe\">\n",
              "  <thead>\n",
              "    <tr>\n",
              "      <th></th>\n",
              "      <th colspan=\"8\" halign=\"left\">UserName</th>\n",
              "      <th colspan=\"8\" halign=\"left\">ScreenName</th>\n",
              "    </tr>\n",
              "    <tr>\n",
              "      <th></th>\n",
              "      <th>count</th>\n",
              "      <th>mean</th>\n",
              "      <th>std</th>\n",
              "      <th>min</th>\n",
              "      <th>25%</th>\n",
              "      <th>50%</th>\n",
              "      <th>75%</th>\n",
              "      <th>max</th>\n",
              "      <th>count</th>\n",
              "      <th>mean</th>\n",
              "      <th>std</th>\n",
              "      <th>min</th>\n",
              "      <th>25%</th>\n",
              "      <th>50%</th>\n",
              "      <th>75%</th>\n",
              "      <th>max</th>\n",
              "    </tr>\n",
              "    <tr>\n",
              "      <th>Sentiment</th>\n",
              "      <th></th>\n",
              "      <th></th>\n",
              "      <th></th>\n",
              "      <th></th>\n",
              "      <th></th>\n",
              "      <th></th>\n",
              "      <th></th>\n",
              "      <th></th>\n",
              "      <th></th>\n",
              "      <th></th>\n",
              "      <th></th>\n",
              "      <th></th>\n",
              "      <th></th>\n",
              "      <th></th>\n",
              "      <th></th>\n",
              "      <th></th>\n",
              "    </tr>\n",
              "  </thead>\n",
              "  <tbody>\n",
              "    <tr>\n",
              "      <th>Extremely Negative</th>\n",
              "      <td>5481.0</td>\n",
              "      <td>22983.268747</td>\n",
              "      <td>11948.964904</td>\n",
              "      <td>3803.0</td>\n",
              "      <td>12627.00</td>\n",
              "      <td>22071.0</td>\n",
              "      <td>33194.00</td>\n",
              "      <td>44952.0</td>\n",
              "      <td>5481.0</td>\n",
              "      <td>67935.268747</td>\n",
              "      <td>11948.964904</td>\n",
              "      <td>48755.0</td>\n",
              "      <td>57579.00</td>\n",
              "      <td>67023.0</td>\n",
              "      <td>78146.00</td>\n",
              "      <td>89904.0</td>\n",
              "    </tr>\n",
              "    <tr>\n",
              "      <th>Extremely Positive</th>\n",
              "      <td>6624.0</td>\n",
              "      <td>25043.485356</td>\n",
              "      <td>11820.205450</td>\n",
              "      <td>3810.0</td>\n",
              "      <td>15134.00</td>\n",
              "      <td>25293.0</td>\n",
              "      <td>35397.50</td>\n",
              "      <td>44950.0</td>\n",
              "      <td>6624.0</td>\n",
              "      <td>69995.485356</td>\n",
              "      <td>11820.205450</td>\n",
              "      <td>48762.0</td>\n",
              "      <td>60086.00</td>\n",
              "      <td>70245.0</td>\n",
              "      <td>80349.50</td>\n",
              "      <td>89902.0</td>\n",
              "    </tr>\n",
              "    <tr>\n",
              "      <th>Negative</th>\n",
              "      <td>9917.0</td>\n",
              "      <td>23907.040738</td>\n",
              "      <td>11853.953026</td>\n",
              "      <td>3808.0</td>\n",
              "      <td>13614.00</td>\n",
              "      <td>23703.0</td>\n",
              "      <td>34042.00</td>\n",
              "      <td>44955.0</td>\n",
              "      <td>9917.0</td>\n",
              "      <td>68859.040738</td>\n",
              "      <td>11853.953026</td>\n",
              "      <td>48760.0</td>\n",
              "      <td>58566.00</td>\n",
              "      <td>68655.0</td>\n",
              "      <td>78994.00</td>\n",
              "      <td>89907.0</td>\n",
              "    </tr>\n",
              "    <tr>\n",
              "      <th>Neutral</th>\n",
              "      <td>7713.0</td>\n",
              "      <td>24998.262025</td>\n",
              "      <td>11886.178214</td>\n",
              "      <td>3799.0</td>\n",
              "      <td>14731.00</td>\n",
              "      <td>25475.0</td>\n",
              "      <td>35292.00</td>\n",
              "      <td>44954.0</td>\n",
              "      <td>7713.0</td>\n",
              "      <td>69950.262025</td>\n",
              "      <td>11886.178214</td>\n",
              "      <td>48751.0</td>\n",
              "      <td>59683.00</td>\n",
              "      <td>70427.0</td>\n",
              "      <td>80244.00</td>\n",
              "      <td>89906.0</td>\n",
              "    </tr>\n",
              "    <tr>\n",
              "      <th>Positive</th>\n",
              "      <td>11422.0</td>\n",
              "      <td>24647.796183</td>\n",
              "      <td>11833.735049</td>\n",
              "      <td>3800.0</td>\n",
              "      <td>14430.75</td>\n",
              "      <td>24767.0</td>\n",
              "      <td>34975.75</td>\n",
              "      <td>44953.0</td>\n",
              "      <td>11422.0</td>\n",
              "      <td>69599.796183</td>\n",
              "      <td>11833.735049</td>\n",
              "      <td>48752.0</td>\n",
              "      <td>59382.75</td>\n",
              "      <td>69719.0</td>\n",
              "      <td>79927.75</td>\n",
              "      <td>89905.0</td>\n",
              "    </tr>\n",
              "  </tbody>\n",
              "</table>\n",
              "</div>"
            ],
            "text/plain": [
              "                   UserName                ... ScreenName         \n",
              "                      count          mean  ...        75%      max\n",
              "Sentiment                                  ...                    \n",
              "Extremely Negative   5481.0  22983.268747  ...   78146.00  89904.0\n",
              "Extremely Positive   6624.0  25043.485356  ...   80349.50  89902.0\n",
              "Negative             9917.0  23907.040738  ...   78994.00  89907.0\n",
              "Neutral              7713.0  24998.262025  ...   80244.00  89906.0\n",
              "Positive            11422.0  24647.796183  ...   79927.75  89905.0\n",
              "\n",
              "[5 rows x 16 columns]"
            ]
          },
          "metadata": {
            "tags": []
          },
          "execution_count": 6
        }
      ]
    },
    {
      "cell_type": "code",
      "metadata": {
        "id": "O4DeH1g62zXl",
        "colab": {
          "base_uri": "https://localhost:8080/",
          "height": 289
        },
        "outputId": "fba2f365-bd90-4d52-b870-e23eae4f0a70"
      },
      "source": [
        "message['length']=message['OriginalTweet'].apply(len)\n",
        "message.head()"
      ],
      "execution_count": 7,
      "outputs": [
        {
          "output_type": "execute_result",
          "data": {
            "text/html": [
              "<div>\n",
              "<style scoped>\n",
              "    .dataframe tbody tr th:only-of-type {\n",
              "        vertical-align: middle;\n",
              "    }\n",
              "\n",
              "    .dataframe tbody tr th {\n",
              "        vertical-align: top;\n",
              "    }\n",
              "\n",
              "    .dataframe thead th {\n",
              "        text-align: right;\n",
              "    }\n",
              "</style>\n",
              "<table border=\"1\" class=\"dataframe\">\n",
              "  <thead>\n",
              "    <tr style=\"text-align: right;\">\n",
              "      <th></th>\n",
              "      <th>UserName</th>\n",
              "      <th>ScreenName</th>\n",
              "      <th>Location</th>\n",
              "      <th>TweetAt</th>\n",
              "      <th>OriginalTweet</th>\n",
              "      <th>Sentiment</th>\n",
              "      <th>length</th>\n",
              "    </tr>\n",
              "  </thead>\n",
              "  <tbody>\n",
              "    <tr>\n",
              "      <th>0</th>\n",
              "      <td>3799</td>\n",
              "      <td>48751</td>\n",
              "      <td>London</td>\n",
              "      <td>16-03-2020</td>\n",
              "      <td>@MeNyrbie @Phil_Gahan @Chrisitv https://t.co/i...</td>\n",
              "      <td>Neutral</td>\n",
              "      <td>111</td>\n",
              "    </tr>\n",
              "    <tr>\n",
              "      <th>1</th>\n",
              "      <td>3800</td>\n",
              "      <td>48752</td>\n",
              "      <td>UK</td>\n",
              "      <td>16-03-2020</td>\n",
              "      <td>advice Talk to your neighbours family to excha...</td>\n",
              "      <td>Positive</td>\n",
              "      <td>237</td>\n",
              "    </tr>\n",
              "    <tr>\n",
              "      <th>2</th>\n",
              "      <td>3801</td>\n",
              "      <td>48753</td>\n",
              "      <td>Vagabonds</td>\n",
              "      <td>16-03-2020</td>\n",
              "      <td>Coronavirus Australia: Woolworths to give elde...</td>\n",
              "      <td>Positive</td>\n",
              "      <td>131</td>\n",
              "    </tr>\n",
              "    <tr>\n",
              "      <th>3</th>\n",
              "      <td>3802</td>\n",
              "      <td>48754</td>\n",
              "      <td>NaN</td>\n",
              "      <td>16-03-2020</td>\n",
              "      <td>My food stock is not the only one which is emp...</td>\n",
              "      <td>Positive</td>\n",
              "      <td>306</td>\n",
              "    </tr>\n",
              "    <tr>\n",
              "      <th>4</th>\n",
              "      <td>3803</td>\n",
              "      <td>48755</td>\n",
              "      <td>NaN</td>\n",
              "      <td>16-03-2020</td>\n",
              "      <td>Me, ready to go at supermarket during the #COV...</td>\n",
              "      <td>Extremely Negative</td>\n",
              "      <td>310</td>\n",
              "    </tr>\n",
              "  </tbody>\n",
              "</table>\n",
              "</div>"
            ],
            "text/plain": [
              "   UserName  ScreenName  ...           Sentiment length\n",
              "0      3799       48751  ...             Neutral    111\n",
              "1      3800       48752  ...            Positive    237\n",
              "2      3801       48753  ...            Positive    131\n",
              "3      3802       48754  ...            Positive    306\n",
              "4      3803       48755  ...  Extremely Negative    310\n",
              "\n",
              "[5 rows x 7 columns]"
            ]
          },
          "metadata": {
            "tags": []
          },
          "execution_count": 7
        }
      ]
    },
    {
      "cell_type": "code",
      "metadata": {
        "id": "9rGXTLgl2zUY"
      },
      "source": [
        "import matplotlib.pyplot as plt\n",
        "import seaborn as sns\n",
        "%matplotlib inline"
      ],
      "execution_count": 8,
      "outputs": []
    },
    {
      "cell_type": "code",
      "metadata": {
        "colab": {
          "base_uri": "https://localhost:8080/",
          "height": 589
        },
        "id": "S9NsUM4qLflt",
        "outputId": "e90c9d91-71a0-46e2-cb4d-d65c49368c86"
      },
      "source": [
        "message"
      ],
      "execution_count": 9,
      "outputs": [
        {
          "output_type": "execute_result",
          "data": {
            "text/html": [
              "<div>\n",
              "<style scoped>\n",
              "    .dataframe tbody tr th:only-of-type {\n",
              "        vertical-align: middle;\n",
              "    }\n",
              "\n",
              "    .dataframe tbody tr th {\n",
              "        vertical-align: top;\n",
              "    }\n",
              "\n",
              "    .dataframe thead th {\n",
              "        text-align: right;\n",
              "    }\n",
              "</style>\n",
              "<table border=\"1\" class=\"dataframe\">\n",
              "  <thead>\n",
              "    <tr style=\"text-align: right;\">\n",
              "      <th></th>\n",
              "      <th>UserName</th>\n",
              "      <th>ScreenName</th>\n",
              "      <th>Location</th>\n",
              "      <th>TweetAt</th>\n",
              "      <th>OriginalTweet</th>\n",
              "      <th>Sentiment</th>\n",
              "      <th>length</th>\n",
              "    </tr>\n",
              "  </thead>\n",
              "  <tbody>\n",
              "    <tr>\n",
              "      <th>0</th>\n",
              "      <td>3799</td>\n",
              "      <td>48751</td>\n",
              "      <td>London</td>\n",
              "      <td>16-03-2020</td>\n",
              "      <td>@MeNyrbie @Phil_Gahan @Chrisitv https://t.co/i...</td>\n",
              "      <td>Neutral</td>\n",
              "      <td>111</td>\n",
              "    </tr>\n",
              "    <tr>\n",
              "      <th>1</th>\n",
              "      <td>3800</td>\n",
              "      <td>48752</td>\n",
              "      <td>UK</td>\n",
              "      <td>16-03-2020</td>\n",
              "      <td>advice Talk to your neighbours family to excha...</td>\n",
              "      <td>Positive</td>\n",
              "      <td>237</td>\n",
              "    </tr>\n",
              "    <tr>\n",
              "      <th>2</th>\n",
              "      <td>3801</td>\n",
              "      <td>48753</td>\n",
              "      <td>Vagabonds</td>\n",
              "      <td>16-03-2020</td>\n",
              "      <td>Coronavirus Australia: Woolworths to give elde...</td>\n",
              "      <td>Positive</td>\n",
              "      <td>131</td>\n",
              "    </tr>\n",
              "    <tr>\n",
              "      <th>3</th>\n",
              "      <td>3802</td>\n",
              "      <td>48754</td>\n",
              "      <td>NaN</td>\n",
              "      <td>16-03-2020</td>\n",
              "      <td>My food stock is not the only one which is emp...</td>\n",
              "      <td>Positive</td>\n",
              "      <td>306</td>\n",
              "    </tr>\n",
              "    <tr>\n",
              "      <th>4</th>\n",
              "      <td>3803</td>\n",
              "      <td>48755</td>\n",
              "      <td>NaN</td>\n",
              "      <td>16-03-2020</td>\n",
              "      <td>Me, ready to go at supermarket during the #COV...</td>\n",
              "      <td>Extremely Negative</td>\n",
              "      <td>310</td>\n",
              "    </tr>\n",
              "    <tr>\n",
              "      <th>...</th>\n",
              "      <td>...</td>\n",
              "      <td>...</td>\n",
              "      <td>...</td>\n",
              "      <td>...</td>\n",
              "      <td>...</td>\n",
              "      <td>...</td>\n",
              "      <td>...</td>\n",
              "    </tr>\n",
              "    <tr>\n",
              "      <th>41152</th>\n",
              "      <td>44951</td>\n",
              "      <td>89903</td>\n",
              "      <td>Wellington City, New Zealand</td>\n",
              "      <td>14-04-2020</td>\n",
              "      <td>Airline pilots offering to stock supermarket s...</td>\n",
              "      <td>Neutral</td>\n",
              "      <td>102</td>\n",
              "    </tr>\n",
              "    <tr>\n",
              "      <th>41153</th>\n",
              "      <td>44952</td>\n",
              "      <td>89904</td>\n",
              "      <td>NaN</td>\n",
              "      <td>14-04-2020</td>\n",
              "      <td>Response to complaint not provided citing COVI...</td>\n",
              "      <td>Extremely Negative</td>\n",
              "      <td>138</td>\n",
              "    </tr>\n",
              "    <tr>\n",
              "      <th>41154</th>\n",
              "      <td>44953</td>\n",
              "      <td>89905</td>\n",
              "      <td>NaN</td>\n",
              "      <td>14-04-2020</td>\n",
              "      <td>You know itÂs getting tough when @KameronWild...</td>\n",
              "      <td>Positive</td>\n",
              "      <td>136</td>\n",
              "    </tr>\n",
              "    <tr>\n",
              "      <th>41155</th>\n",
              "      <td>44954</td>\n",
              "      <td>89906</td>\n",
              "      <td>NaN</td>\n",
              "      <td>14-04-2020</td>\n",
              "      <td>Is it wrong that the smell of hand sanitizer i...</td>\n",
              "      <td>Neutral</td>\n",
              "      <td>111</td>\n",
              "    </tr>\n",
              "    <tr>\n",
              "      <th>41156</th>\n",
              "      <td>44955</td>\n",
              "      <td>89907</td>\n",
              "      <td>i love you so much || he/him</td>\n",
              "      <td>14-04-2020</td>\n",
              "      <td>@TartiiCat Well new/used Rift S are going for ...</td>\n",
              "      <td>Negative</td>\n",
              "      <td>255</td>\n",
              "    </tr>\n",
              "  </tbody>\n",
              "</table>\n",
              "<p>41157 rows × 7 columns</p>\n",
              "</div>"
            ],
            "text/plain": [
              "       UserName  ScreenName  ...           Sentiment length\n",
              "0          3799       48751  ...             Neutral    111\n",
              "1          3800       48752  ...            Positive    237\n",
              "2          3801       48753  ...            Positive    131\n",
              "3          3802       48754  ...            Positive    306\n",
              "4          3803       48755  ...  Extremely Negative    310\n",
              "...         ...         ...  ...                 ...    ...\n",
              "41152     44951       89903  ...             Neutral    102\n",
              "41153     44952       89904  ...  Extremely Negative    138\n",
              "41154     44953       89905  ...            Positive    136\n",
              "41155     44954       89906  ...             Neutral    111\n",
              "41156     44955       89907  ...            Negative    255\n",
              "\n",
              "[41157 rows x 7 columns]"
            ]
          },
          "metadata": {
            "tags": []
          },
          "execution_count": 9
        }
      ]
    },
    {
      "cell_type": "code",
      "metadata": {
        "colab": {
          "base_uri": "https://localhost:8080/"
        },
        "id": "k5fAcApkK1XD",
        "outputId": "0c95d183-99f4-40fd-8e73-4480c1c7e37d"
      },
      "source": [
        "message['Sentiment'].value_counts()"
      ],
      "execution_count": 10,
      "outputs": [
        {
          "output_type": "execute_result",
          "data": {
            "text/plain": [
              "Positive              11422\n",
              "Negative               9917\n",
              "Neutral                7713\n",
              "Extremely Positive     6624\n",
              "Extremely Negative     5481\n",
              "Name: Sentiment, dtype: int64"
            ]
          },
          "metadata": {
            "tags": []
          },
          "execution_count": 10
        }
      ]
    },
    {
      "cell_type": "code",
      "metadata": {
        "colab": {
          "base_uri": "https://localhost:8080/",
          "height": 371
        },
        "id": "Z1pnBpx0KmCD",
        "outputId": "cd1c89cb-1955-4b50-cf46-a39715b6668d"
      },
      "source": [
        "message['Sentiment'].value_counts().plot(kind='bar')"
      ],
      "execution_count": 11,
      "outputs": [
        {
          "output_type": "execute_result",
          "data": {
            "text/plain": [
              "<matplotlib.axes._subplots.AxesSubplot at 0x7f106f2b5b10>"
            ]
          },
          "metadata": {
            "tags": []
          },
          "execution_count": 11
        },
        {
          "output_type": "display_data",
          "data": {
            "image/png": "[encoded data removed]",
            "text/plain": [
              "<Figure size 432x288 with 1 Axes>"
            ]
          },
          "metadata": {
            "tags": [],
            "needs_background": "light"
          }
        }
      ]
    },
    {
      "cell_type": "code",
      "metadata": {
        "colab": {
          "base_uri": "https://localhost:8080/",
          "height": 282
        },
        "id": "b_xnNvjvyyTU",
        "outputId": "baad70c9-62bc-4d11-c535-5afd6a2ddd80"
      },
      "source": [
        "message['length'].plot(kind='hist')"
      ],
      "execution_count": 12,
      "outputs": [
        {
          "output_type": "execute_result",
          "data": {
            "text/plain": [
              "<matplotlib.axes._subplots.AxesSubplot at 0x7f106ea686d0>"
            ]
          },
          "metadata": {
            "tags": []
          },
          "execution_count": 12
        },
        {
          "output_type": "display_data",
          "data": {
            "image/png": "[encoded data removed]",
            "text/plain": [
              "<Figure size 432x288 with 1 Axes>"
            ]
          },
          "metadata": {
            "tags": [],
            "needs_background": "light"
          }
        }
      ]
    },
    {
      "cell_type": "code",
      "metadata": {
        "colab": {
          "base_uri": "https://localhost:8080/"
        },
        "id": "JRvfDADS0mLd",
        "outputId": "9fd6414d-5d27-4424-9f3c-bec909382b13"
      },
      "source": [
        "message.length.describe()"
      ],
      "execution_count": 13,
      "outputs": [
        {
          "output_type": "execute_result",
          "data": {
            "text/plain": [
              "count    41157.000000\n",
              "mean       204.200160\n",
              "std         68.655129\n",
              "min         11.000000\n",
              "25%        151.000000\n",
              "50%        215.000000\n",
              "75%        259.000000\n",
              "max        355.000000\n",
              "Name: length, dtype: float64"
            ]
          },
          "metadata": {
            "tags": []
          },
          "execution_count": 13
        }
      ]
    },
    {
      "cell_type": "code",
      "metadata": {
        "id": "4JQH0ApjAmhv"
      },
      "source": [
        "message.Sentiment.replace({\"Extremely Negative\": 'Negative',\"Extremely Positive\": 'Positive'},inplace=True)"
      ],
      "execution_count": 15,
      "outputs": []
    },
    {
      "cell_type": "code",
      "metadata": {
        "id": "4LhQH-KyAtec",
        "colab": {
          "base_uri": "https://localhost:8080/",
          "height": 289
        },
        "outputId": "e63fb610-2f05-4aac-c6dd-f12bc159ea04"
      },
      "source": [
        "message.head()"
      ],
      "execution_count": 16,
      "outputs": [
        {
          "output_type": "execute_result",
          "data": {
            "text/html": [
              "<div>\n",
              "<style scoped>\n",
              "    .dataframe tbody tr th:only-of-type {\n",
              "        vertical-align: middle;\n",
              "    }\n",
              "\n",
              "    .dataframe tbody tr th {\n",
              "        vertical-align: top;\n",
              "    }\n",
              "\n",
              "    .dataframe thead th {\n",
              "        text-align: right;\n",
              "    }\n",
              "</style>\n",
              "<table border=\"1\" class=\"dataframe\">\n",
              "  <thead>\n",
              "    <tr style=\"text-align: right;\">\n",
              "      <th></th>\n",
              "      <th>UserName</th>\n",
              "      <th>ScreenName</th>\n",
              "      <th>Location</th>\n",
              "      <th>TweetAt</th>\n",
              "      <th>OriginalTweet</th>\n",
              "      <th>Sentiment</th>\n",
              "      <th>length</th>\n",
              "    </tr>\n",
              "  </thead>\n",
              "  <tbody>\n",
              "    <tr>\n",
              "      <th>0</th>\n",
              "      <td>3799</td>\n",
              "      <td>48751</td>\n",
              "      <td>London</td>\n",
              "      <td>16-03-2020</td>\n",
              "      <td>@MeNyrbie @Phil_Gahan @Chrisitv https://t.co/i...</td>\n",
              "      <td>Neutral</td>\n",
              "      <td>111</td>\n",
              "    </tr>\n",
              "    <tr>\n",
              "      <th>1</th>\n",
              "      <td>3800</td>\n",
              "      <td>48752</td>\n",
              "      <td>UK</td>\n",
              "      <td>16-03-2020</td>\n",
              "      <td>advice Talk to your neighbours family to excha...</td>\n",
              "      <td>Positive</td>\n",
              "      <td>237</td>\n",
              "    </tr>\n",
              "    <tr>\n",
              "      <th>2</th>\n",
              "      <td>3801</td>\n",
              "      <td>48753</td>\n",
              "      <td>Vagabonds</td>\n",
              "      <td>16-03-2020</td>\n",
              "      <td>Coronavirus Australia: Woolworths to give elde...</td>\n",
              "      <td>Positive</td>\n",
              "      <td>131</td>\n",
              "    </tr>\n",
              "    <tr>\n",
              "      <th>3</th>\n",
              "      <td>3802</td>\n",
              "      <td>48754</td>\n",
              "      <td>NaN</td>\n",
              "      <td>16-03-2020</td>\n",
              "      <td>My food stock is not the only one which is emp...</td>\n",
              "      <td>Positive</td>\n",
              "      <td>306</td>\n",
              "    </tr>\n",
              "    <tr>\n",
              "      <th>4</th>\n",
              "      <td>3803</td>\n",
              "      <td>48755</td>\n",
              "      <td>NaN</td>\n",
              "      <td>16-03-2020</td>\n",
              "      <td>Me, ready to go at supermarket during the #COV...</td>\n",
              "      <td>Negative</td>\n",
              "      <td>310</td>\n",
              "    </tr>\n",
              "  </tbody>\n",
              "</table>\n",
              "</div>"
            ],
            "text/plain": [
              "   UserName  ScreenName  ... Sentiment length\n",
              "0      3799       48751  ...   Neutral    111\n",
              "1      3800       48752  ...  Positive    237\n",
              "2      3801       48753  ...  Positive    131\n",
              "3      3802       48754  ...  Positive    306\n",
              "4      3803       48755  ...  Negative    310\n",
              "\n",
              "[5 rows x 7 columns]"
            ]
          },
          "metadata": {
            "tags": []
          },
          "execution_count": 16
        }
      ]
    },
    {
      "cell_type": "code",
      "metadata": {
        "colab": {
          "base_uri": "https://localhost:8080/"
        },
        "id": "A3Wl_21a8gu4",
        "outputId": "051b5a6c-9ad1-4e1f-9f89-44f2a76bd702"
      },
      "source": [
        "import nltk\n",
        "nltk.download('stopwords')"
      ],
      "execution_count": 17,
      "outputs": [
        {
          "output_type": "stream",
          "text": [
            "[nltk_data] Downloading package stopwords to /root/nltk_data...\n",
            "[nltk_data]   Package stopwords is already up-to-date!\n"
          ],
          "name": "stdout"
        },
        {
          "output_type": "execute_result",
          "data": {
            "text/plain": [
              "True"
            ]
          },
          "metadata": {
            "tags": []
          },
          "execution_count": 17
        }
      ]
    },
    {
      "cell_type": "code",
      "metadata": {
        "trusted": true,
        "_uuid": "76e62c93d7140b9fcded80fd9db639ba36d0d64f",
        "id": "SYhoneQtxLYV"
      },
      "source": [
        "import string\n",
        "from nltk.corpus import stopwords"
      ],
      "execution_count": 18,
      "outputs": []
    },
    {
      "cell_type": "code",
      "metadata": {
        "colab": {
          "base_uri": "https://localhost:8080/"
        },
        "id": "c5LvCpY0DLFQ",
        "outputId": "1e577dd7-1b5c-4aa9-e603-7721e23b2bec"
      },
      "source": [
        "stopwords.words('english')"
      ],
      "execution_count": 19,
      "outputs": [
        {
          "output_type": "execute_result",
          "data": {
            "text/plain": [
              "['i',\n",
              " 'me',\n",
              " 'my',\n",
              " 'myself',\n",
              " 'we',\n",
              " 'our',\n",
              " 'ours',\n",
              " 'ourselves',\n",
              " 'you',\n",
              " \"you're\",\n",
              " \"you've\",\n",
              " \"you'll\",\n",
              " \"you'd\",\n",
              " 'your',\n",
              " 'yours',\n",
              " 'yourself',\n",
              " 'yourselves',\n",
              " 'he',\n",
              " 'him',\n",
              " 'his',\n",
              " 'himself',\n",
              " 'she',\n",
              " \"she's\",\n",
              " 'her',\n",
              " 'hers',\n",
              " 'herself',\n",
              " 'it',\n",
              " \"it's\",\n",
              " 'its',\n",
              " 'itself',\n",
              " 'they',\n",
              " 'them',\n",
              " 'their',\n",
              " 'theirs',\n",
              " 'themselves',\n",
              " 'what',\n",
              " 'which',\n",
              " 'who',\n",
              " 'whom',\n",
              " 'this',\n",
              " 'that',\n",
              " \"that'll\",\n",
              " 'these',\n",
              " 'those',\n",
              " 'am',\n",
              " 'is',\n",
              " 'are',\n",
              " 'was',\n",
              " 'were',\n",
              " 'be',\n",
              " 'been',\n",
              " 'being',\n",
              " 'have',\n",
              " 'has',\n",
              " 'had',\n",
              " 'having',\n",
              " 'do',\n",
              " 'does',\n",
              " 'did',\n",
              " 'doing',\n",
              " 'a',\n",
              " 'an',\n",
              " 'the',\n",
              " 'and',\n",
              " 'but',\n",
              " 'if',\n",
              " 'or',\n",
              " 'because',\n",
              " 'as',\n",
              " 'until',\n",
              " 'while',\n",
              " 'of',\n",
              " 'at',\n",
              " 'by',\n",
              " 'for',\n",
              " 'with',\n",
              " 'about',\n",
              " 'against',\n",
              " 'between',\n",
              " 'into',\n",
              " 'through',\n",
              " 'during',\n",
              " 'before',\n",
              " 'after',\n",
              " 'above',\n",
              " 'below',\n",
              " 'to',\n",
              " 'from',\n",
              " 'up',\n",
              " 'down',\n",
              " 'in',\n",
              " 'out',\n",
              " 'on',\n",
              " 'off',\n",
              " 'over',\n",
              " 'under',\n",
              " 'again',\n",
              " 'further',\n",
              " 'then',\n",
              " 'once',\n",
              " 'here',\n",
              " 'there',\n",
              " 'when',\n",
              " 'where',\n",
              " 'why',\n",
              " 'how',\n",
              " 'all',\n",
              " 'any',\n",
              " 'both',\n",
              " 'each',\n",
              " 'few',\n",
              " 'more',\n",
              " 'most',\n",
              " 'other',\n",
              " 'some',\n",
              " 'such',\n",
              " 'no',\n",
              " 'nor',\n",
              " 'not',\n",
              " 'only',\n",
              " 'own',\n",
              " 'same',\n",
              " 'so',\n",
              " 'than',\n",
              " 'too',\n",
              " 'very',\n",
              " 's',\n",
              " 't',\n",
              " 'can',\n",
              " 'will',\n",
              " 'just',\n",
              " 'don',\n",
              " \"don't\",\n",
              " 'should',\n",
              " \"should've\",\n",
              " 'now',\n",
              " 'd',\n",
              " 'll',\n",
              " 'm',\n",
              " 'o',\n",
              " 're',\n",
              " 've',\n",
              " 'y',\n",
              " 'ain',\n",
              " 'aren',\n",
              " \"aren't\",\n",
              " 'couldn',\n",
              " \"couldn't\",\n",
              " 'didn',\n",
              " \"didn't\",\n",
              " 'doesn',\n",
              " \"doesn't\",\n",
              " 'hadn',\n",
              " \"hadn't\",\n",
              " 'hasn',\n",
              " \"hasn't\",\n",
              " 'haven',\n",
              " \"haven't\",\n",
              " 'isn',\n",
              " \"isn't\",\n",
              " 'ma',\n",
              " 'mightn',\n",
              " \"mightn't\",\n",
              " 'mustn',\n",
              " \"mustn't\",\n",
              " 'needn',\n",
              " \"needn't\",\n",
              " 'shan',\n",
              " \"shan't\",\n",
              " 'shouldn',\n",
              " \"shouldn't\",\n",
              " 'wasn',\n",
              " \"wasn't\",\n",
              " 'weren',\n",
              " \"weren't\",\n",
              " 'won',\n",
              " \"won't\",\n",
              " 'wouldn',\n",
              " \"wouldn't\"]"
            ]
          },
          "metadata": {
            "tags": []
          },
          "execution_count": 19
        }
      ]
    },
    {
      "cell_type": "code",
      "metadata": {
        "colab": {
          "base_uri": "https://localhost:8080/"
        },
        "id": "f8BF-BZHDlRX",
        "outputId": "a92ed8d9-1b35-4b80-dbc9-dd6559f9d72c"
      },
      "source": [
        "[punc for punc in string.punctuation]"
      ],
      "execution_count": 20,
      "outputs": [
        {
          "output_type": "execute_result",
          "data": {
            "text/plain": [
              "['!',\n",
              " '\"',\n",
              " '#',\n",
              " '$',\n",
              " '%',\n",
              " '&',\n",
              " \"'\",\n",
              " '(',\n",
              " ')',\n",
              " '*',\n",
              " '+',\n",
              " ',',\n",
              " '-',\n",
              " '.',\n",
              " '/',\n",
              " ':',\n",
              " ';',\n",
              " '<',\n",
              " '=',\n",
              " '>',\n",
              " '?',\n",
              " '@',\n",
              " '[',\n",
              " '\\\\',\n",
              " ']',\n",
              " '^',\n",
              " '_',\n",
              " '`',\n",
              " '{',\n",
              " '|',\n",
              " '}',\n",
              " '~']"
            ]
          },
          "metadata": {
            "tags": []
          },
          "execution_count": 20
        }
      ]
    },
    {
      "cell_type": "code",
      "metadata": {
        "trusted": true,
        "_uuid": "8ee6f7fc69b9efe438ba695c806d0c1f89bbe6e5",
        "id": "PRHoUfwDxLYW"
      },
      "source": [
        "def text_process(msg):\n",
        "    nopunc =[char for char in msg if char not in string.punctuation]\n",
        "    nopunc=''.join(nopunc)\n",
        "    return ' '.join([word for word in nopunc.split() if word.lower() not in stopwords.words('english')])"
      ],
      "execution_count": 21,
      "outputs": []
    },
    {
      "cell_type": "code",
      "metadata": {
        "trusted": true,
        "_uuid": "77eaa612dede5c0b89ceafbdc6e4f1e803f872b9",
        "id": "AJazoRvPxLYX",
        "colab": {
          "base_uri": "https://localhost:8080/",
          "height": 289
        },
        "outputId": "e0f730c8-9ccb-4761-9c93-67ba0282054d"
      },
      "source": [
        "message.head()"
      ],
      "execution_count": 22,
      "outputs": [
        {
          "output_type": "execute_result",
          "data": {
            "text/html": [
              "<div>\n",
              "<style scoped>\n",
              "    .dataframe tbody tr th:only-of-type {\n",
              "        vertical-align: middle;\n",
              "    }\n",
              "\n",
              "    .dataframe tbody tr th {\n",
              "        vertical-align: top;\n",
              "    }\n",
              "\n",
              "    .dataframe thead th {\n",
              "        text-align: right;\n",
              "    }\n",
              "</style>\n",
              "<table border=\"1\" class=\"dataframe\">\n",
              "  <thead>\n",
              "    <tr style=\"text-align: right;\">\n",
              "      <th></th>\n",
              "      <th>UserName</th>\n",
              "      <th>ScreenName</th>\n",
              "      <th>Location</th>\n",
              "      <th>TweetAt</th>\n",
              "      <th>OriginalTweet</th>\n",
              "      <th>Sentiment</th>\n",
              "      <th>length</th>\n",
              "    </tr>\n",
              "  </thead>\n",
              "  <tbody>\n",
              "    <tr>\n",
              "      <th>0</th>\n",
              "      <td>3799</td>\n",
              "      <td>48751</td>\n",
              "      <td>London</td>\n",
              "      <td>16-03-2020</td>\n",
              "      <td>@MeNyrbie @Phil_Gahan @Chrisitv https://t.co/i...</td>\n",
              "      <td>Neutral</td>\n",
              "      <td>111</td>\n",
              "    </tr>\n",
              "    <tr>\n",
              "      <th>1</th>\n",
              "      <td>3800</td>\n",
              "      <td>48752</td>\n",
              "      <td>UK</td>\n",
              "      <td>16-03-2020</td>\n",
              "      <td>advice Talk to your neighbours family to excha...</td>\n",
              "      <td>Positive</td>\n",
              "      <td>237</td>\n",
              "    </tr>\n",
              "    <tr>\n",
              "      <th>2</th>\n",
              "      <td>3801</td>\n",
              "      <td>48753</td>\n",
              "      <td>Vagabonds</td>\n",
              "      <td>16-03-2020</td>\n",
              "      <td>Coronavirus Australia: Woolworths to give elde...</td>\n",
              "      <td>Positive</td>\n",
              "      <td>131</td>\n",
              "    </tr>\n",
              "    <tr>\n",
              "      <th>3</th>\n",
              "      <td>3802</td>\n",
              "      <td>48754</td>\n",
              "      <td>NaN</td>\n",
              "      <td>16-03-2020</td>\n",
              "      <td>My food stock is not the only one which is emp...</td>\n",
              "      <td>Positive</td>\n",
              "      <td>306</td>\n",
              "    </tr>\n",
              "    <tr>\n",
              "      <th>4</th>\n",
              "      <td>3803</td>\n",
              "      <td>48755</td>\n",
              "      <td>NaN</td>\n",
              "      <td>16-03-2020</td>\n",
              "      <td>Me, ready to go at supermarket during the #COV...</td>\n",
              "      <td>Negative</td>\n",
              "      <td>310</td>\n",
              "    </tr>\n",
              "  </tbody>\n",
              "</table>\n",
              "</div>"
            ],
            "text/plain": [
              "   UserName  ScreenName  ... Sentiment length\n",
              "0      3799       48751  ...   Neutral    111\n",
              "1      3800       48752  ...  Positive    237\n",
              "2      3801       48753  ...  Positive    131\n",
              "3      3802       48754  ...  Positive    306\n",
              "4      3803       48755  ...  Negative    310\n",
              "\n",
              "[5 rows x 7 columns]"
            ]
          },
          "metadata": {
            "tags": []
          },
          "execution_count": 22
        }
      ]
    },
    {
      "cell_type": "code",
      "metadata": {
        "colab": {
          "base_uri": "https://localhost:8080/"
        },
        "id": "kv16g_3JCvyu",
        "outputId": "e15ce853-b050-4897-888f-f5a4a7f2d11d"
      },
      "source": [
        "pd.set_option('display.max_colwidth', -1)"
      ],
      "execution_count": 23,
      "outputs": [
        {
          "output_type": "stream",
          "text": [
            "/usr/local/lib/python3.7/dist-packages/ipykernel_launcher.py:1: FutureWarning: Passing a negative integer is deprecated in version 1.0 and will not be supported in future version. Instead, use None to not limit the column width.\n",
            "  \"\"\"Entry point for launching an IPython kernel.\n"
          ],
          "name": "stderr"
        }
      ]
    },
    {
      "cell_type": "code",
      "metadata": {
        "id": "qEShz7APCW0X"
      },
      "source": [
        "message['tokenized_message'] = message['OriginalTweet'].apply(text_process)"
      ],
      "execution_count": 24,
      "outputs": []
    },
    {
      "cell_type": "code",
      "metadata": {
        "colab": {
          "base_uri": "https://localhost:8080/",
          "height": 938
        },
        "id": "z5NC495DClx4",
        "outputId": "f3a3a671-5c82-4f0d-8ad3-423ae1446dc4"
      },
      "source": [
        "message.head()"
      ],
      "execution_count": 25,
      "outputs": [
        {
          "output_type": "execute_result",
          "data": {
            "text/html": [
              "<div>\n",
              "<style scoped>\n",
              "    .dataframe tbody tr th:only-of-type {\n",
              "        vertical-align: middle;\n",
              "    }\n",
              "\n",
              "    .dataframe tbody tr th {\n",
              "        vertical-align: top;\n",
              "    }\n",
              "\n",
              "    .dataframe thead th {\n",
              "        text-align: right;\n",
              "    }\n",
              "</style>\n",
              "<table border=\"1\" class=\"dataframe\">\n",
              "  <thead>\n",
              "    <tr style=\"text-align: right;\">\n",
              "      <th></th>\n",
              "      <th>UserName</th>\n",
              "      <th>ScreenName</th>\n",
              "      <th>Location</th>\n",
              "      <th>TweetAt</th>\n",
              "      <th>OriginalTweet</th>\n",
              "      <th>Sentiment</th>\n",
              "      <th>length</th>\n",
              "      <th>tokenized_message</th>\n",
              "    </tr>\n",
              "  </thead>\n",
              "  <tbody>\n",
              "    <tr>\n",
              "      <th>0</th>\n",
              "      <td>3799</td>\n",
              "      <td>48751</td>\n",
              "      <td>London</td>\n",
              "      <td>16-03-2020</td>\n",
              "      <td>@MeNyrbie @Phil_Gahan @Chrisitv https://t.co/iFz9FAn2Pa and https://t.co/xX6ghGFzCC and https://t.co/I2NlzdxNo8</td>\n",
              "      <td>Neutral</td>\n",
              "      <td>111</td>\n",
              "      <td>MeNyrbie PhilGahan Chrisitv httpstcoiFz9FAn2Pa httpstcoxX6ghGFzCC httpstcoI2NlzdxNo8</td>\n",
              "    </tr>\n",
              "    <tr>\n",
              "      <th>1</th>\n",
              "      <td>3800</td>\n",
              "      <td>48752</td>\n",
              "      <td>UK</td>\n",
              "      <td>16-03-2020</td>\n",
              "      <td>advice Talk to your neighbours family to exchange phone numbers create contact list with phone numbers of neighbours schools employer chemist GP set up online shopping accounts if poss adequate supplies of regular meds but not over order</td>\n",
              "      <td>Positive</td>\n",
              "      <td>237</td>\n",
              "      <td>advice Talk neighbours family exchange phone numbers create contact list phone numbers neighbours schools employer chemist GP set online shopping accounts poss adequate supplies regular meds order</td>\n",
              "    </tr>\n",
              "    <tr>\n",
              "      <th>2</th>\n",
              "      <td>3801</td>\n",
              "      <td>48753</td>\n",
              "      <td>Vagabonds</td>\n",
              "      <td>16-03-2020</td>\n",
              "      <td>Coronavirus Australia: Woolworths to give elderly, disabled dedicated shopping hours amid COVID-19 outbreak https://t.co/bInCA9Vp8P</td>\n",
              "      <td>Positive</td>\n",
              "      <td>131</td>\n",
              "      <td>Coronavirus Australia Woolworths give elderly disabled dedicated shopping hours amid COVID19 outbreak httpstcobInCA9Vp8P</td>\n",
              "    </tr>\n",
              "    <tr>\n",
              "      <th>3</th>\n",
              "      <td>3802</td>\n",
              "      <td>48754</td>\n",
              "      <td>NaN</td>\n",
              "      <td>16-03-2020</td>\n",
              "      <td>My food stock is not the only one which is empty...\\r\\r\\n\\r\\r\\nPLEASE, don't panic, THERE WILL BE ENOUGH FOOD FOR EVERYONE if you do not take more than you need. \\r\\r\\nStay calm, stay safe.\\r\\r\\n\\r\\r\\n#COVID19france #COVID_19 #COVID19 #coronavirus #confinement #Confinementotal #ConfinementGeneral https://t.co/zrlG0Z520j</td>\n",
              "      <td>Positive</td>\n",
              "      <td>306</td>\n",
              "      <td>food stock one empty PLEASE dont panic ENOUGH FOOD EVERYONE take need Stay calm stay safe COVID19france COVID19 COVID19 coronavirus confinement Confinementotal ConfinementGeneral httpstcozrlG0Z520j</td>\n",
              "    </tr>\n",
              "    <tr>\n",
              "      <th>4</th>\n",
              "      <td>3803</td>\n",
              "      <td>48755</td>\n",
              "      <td>NaN</td>\n",
              "      <td>16-03-2020</td>\n",
              "      <td>Me, ready to go at supermarket during the #COVID19 outbreak.\\r\\r\\n\\r\\r\\nNot because I'm paranoid, but because my food stock is litteraly empty. The #coronavirus is a serious thing, but please, don't panic. It causes shortage...\\r\\r\\n\\r\\r\\n#CoronavirusFrance #restezchezvous #StayAtHome #confinement https://t.co/usmuaLq72n</td>\n",
              "      <td>Negative</td>\n",
              "      <td>310</td>\n",
              "      <td>ready go supermarket COVID19 outbreak Im paranoid food stock litteraly empty coronavirus serious thing please dont panic causes shortage CoronavirusFrance restezchezvous StayAtHome confinement httpstcousmuaLq72n</td>\n",
              "    </tr>\n",
              "  </tbody>\n",
              "</table>\n",
              "</div>"
            ],
            "text/plain": [
              "   UserName  ...                                                                                                                                                                                                    tokenized_message\n",
              "0  3799      ...  MeNyrbie PhilGahan Chrisitv httpstcoiFz9FAn2Pa httpstcoxX6ghGFzCC httpstcoI2NlzdxNo8                                                                                                                               \n",
              "1  3800      ...  advice Talk neighbours family exchange phone numbers create contact list phone numbers neighbours schools employer chemist GP set online shopping accounts poss adequate supplies regular meds order               \n",
              "2  3801      ...  Coronavirus Australia Woolworths give elderly disabled dedicated shopping hours amid COVID19 outbreak httpstcobInCA9Vp8P                                                                                           \n",
              "3  3802      ...  food stock one empty PLEASE dont panic ENOUGH FOOD EVERYONE take need Stay calm stay safe COVID19france COVID19 COVID19 coronavirus confinement Confinementotal ConfinementGeneral httpstcozrlG0Z520j              \n",
              "4  3803      ...  ready go supermarket COVID19 outbreak Im paranoid food stock litteraly empty coronavirus serious thing please dont panic causes shortage CoronavirusFrance restezchezvous StayAtHome confinement httpstcousmuaLq72n\n",
              "\n",
              "[5 rows x 8 columns]"
            ]
          },
          "metadata": {
            "tags": []
          },
          "execution_count": 25
        }
      ]
    },
    {
      "cell_type": "code",
      "metadata": {
        "id": "u0AFdbGbBZ35",
        "colab": {
          "base_uri": "https://localhost:8080/"
        },
        "outputId": "23132d10-bd24-4e23-fcfa-3bdbffddae1c"
      },
      "source": [
        "message.shape"
      ],
      "execution_count": 26,
      "outputs": [
        {
          "output_type": "execute_result",
          "data": {
            "text/plain": [
              "(41157, 8)"
            ]
          },
          "metadata": {
            "tags": []
          },
          "execution_count": 26
        }
      ]
    },
    {
      "cell_type": "code",
      "metadata": {
        "trusted": true,
        "_uuid": "6557e2a23e6ca8afbc89c076225174ab5d4e3fb9",
        "id": "mzsEAboyxLYZ"
      },
      "source": [
        "from sklearn.feature_extraction.text import CountVectorizer"
      ],
      "execution_count": 27,
      "outputs": []
    },
    {
      "cell_type": "code",
      "metadata": {
        "trusted": true,
        "_uuid": "4b65ee4da31d8240d0c0bf15eb1efce5cc539be5",
        "id": "tr44OyLsxLYZ"
      },
      "source": [
        "vectorizer = CountVectorizer(max_df = 0.9,min_df = 10)\n",
        "X = vectorizer.fit_transform(message['tokenized_message'])"
      ],
      "execution_count": 28,
      "outputs": []
    },
    {
      "cell_type": "code",
      "metadata": {
        "colab": {
          "base_uri": "https://localhost:8080/"
        },
        "id": "ubeepgghERsj",
        "outputId": "d8fda6e6-dedf-4b8f-8ceb-89d406b46ac4"
      },
      "source": [
        "X.toarray()[4560]"
      ],
      "execution_count": 29,
      "outputs": [
        {
          "output_type": "execute_result",
          "data": {
            "text/plain": [
              "array([0, 0, 0, ..., 0, 0, 0])"
            ]
          },
          "metadata": {
            "tags": []
          },
          "execution_count": 29
        }
      ]
    },
    {
      "cell_type": "code",
      "metadata": {
        "colab": {
          "base_uri": "https://localhost:8080/"
        },
        "id": "f12FlMktDqWS",
        "outputId": "f5ec1dbd-7cd5-4df8-cb0e-847b27ca050e"
      },
      "source": [
        "print(vectorizer.get_feature_names())"
      ],
      "execution_count": 30,
      "outputs": [
        {
          "output_type": "stream",
          "text": [
            "['00', '000', '01', '03', '10', '100', '1000', '10000', '100000', '100k', '100s', '101', '10am', '10downingstreet', '10k', '10th', '11', '12', '120', '1200', '125', '13', '130', '14', '15', '150', '16', '17', '18', '1800', '18002199739', '18year', '19', '199', '1999', '19th', '1m', '1sanitizer', '1st', '20', '200', '2000', '2002', '2003', '2008', '200ml', '2014', '2015', '2016', '2018', '2019', '2019ncov', '2020', '2021', '20s', '21', '21daylockdown', '21dayslockdown', '22', '23', '24', '247', '25', '250', '2500', '25000', '25th', '26', '27', '28', '29', '2italy', '2k', '2m', '2nd', '2ply', '2pm', '2x', '30', '300', '3000', '30000', '31', '32', '33', '34', '35', '350', '3500', '35000', '35k', '36', '37', '38', '3d', '3m', '3ply', '3pm', '3rd', '3wuhan', '3x', '40', '400', '4000', '41', '42', '43', '44', '45', '46', '47', '48', '48hour', '49', '4pm', '4th', '50', '500', '5000', '50000', '500ml', '54', '55', '56', '57', '58', '5g', '5pm', '5th', '60', '600', '6000', '62', '64', '65', '66', '67', '6am', '6ft', '6pm', '6th', '6â', '70', '700', '70s', '71', '72', '75', '77', '7am', '7news', '7pm', '7th', '80', '800', '8000', '85', '8am', '8pm', '90', '900', '911', '95', '98', '99', '999', '9am', '9th', 'abc', 'abcnews', 'ability', 'able', 'abroad', 'absence', 'absolute', 'absolutely', 'absurd', 'abt', 'abuja', 'abuse', 'abused', 'abusing', 'accc', 'accelerate', 'accelerated', 'accelerating', 'accept', 'acceptable', 'accepted', 'accepting', 'access', 'accessible', 'accessing', 'accommodation', 'according', 'account', 'accounts', 'accurate', 'accused', 'achieve', 'acknowledge', 'across', 'act', 'acted', 'acting', 'action', 'actions', 'active', 'actively', 'activities', 'activity', 'actors', 'acts', 'actual', 'actually', 'ad', 'adapt', 'adapting', 'add', 'added', 'addiction', 'adding', 'addition', 'additional', 'additive', 'address', 'addressed', 'addresses', 'addressing', 'adds', 'adelaide', 'adequate', 'adhere', 'adhering', 'adjust', 'adjusted', 'adjusting', 'admin', 'administration', 'admit', 'adopt', 'adopted', 'ads', 'adult', 'adults', 'advance', 'advanced', 'advantage', 'adventure', 'adversity', 'advertising', 'advice', 'advise', 'advised', 'advises', 'advising', 'advisory', 'advocates', 'aerosol', 'af', 'affairs', 'affect', 'affected', 'affecting', 'affects', 'afford', 'affordable', 'afghanistan', 'afloat', 'afp', 'afraid', 'africa', 'african', 'aftermath', 'afternoon', 'ag', 'age', 'aged', 'agencies', 'agency', 'agenparl', 'agent', 'agents', 'aggressive', 'ago', 'agree', 'agreed', 'agreement', 'agri', 'agricultural', 'agriculture', 'ah', 'ahead', 'ai', 'aid', 'aids', 'aim', 'aimed', 'aims', 'aint', 'ainâ', 'air', 'airborne', 'airline', 'airlines', 'airport', 'airports', 'aisle', 'aisles', 'aka', 'al', 'alarm', 'alarming', 'alberta', 'albertsons', 'alcohol', 'alcoholbased', 'alcoholic', 'aldi', 'aldiaustralia', 'aldiuk', 'alert', 'alerts', 'alex', 'alibaba', 'alike', 'alive', 'all', 'allah', 'allegedly', 'allergies', 'alleviate', 'allocated', 'allow', 'allowed', 'allowing', 'allows', 'almost', 'aloe', 'alone', 'alonetogether', 'along', 'alongside', 'alot', 'already', 'alright', 'also', 'altered', 'alternate', 'alternative', 'alternatives', 'although', 'always', 'amazing', 'amazon', 'amazonfresh', 'amazonuk', 'ambulance', 'america', 'american', 'americans', 'americas', 'americaâ', 'amid', 'amidst', 'amitshah', 'ammo', 'among', 'amongst', 'amount', 'amounts', 'amp', 'ample', 'amzn', 'analysis', 'analyst', 'analysts', 'analytics', 'and', 'andor', 'andrew', 'angel', 'angela', 'angeles', 'angry', 'animal', 'animals', 'announce', 'announced', 'announcement', 'announcements', 'announces', 'announcing', 'annoying', 'annual', 'another', 'answer', 'answered', 'answering', 'answers', 'anti', 'antibacterial', 'anticipate', 'anticipated', 'anticipation', 'antiviral', 'antonio', 'anxiety', 'anxious', 'anybody', 'anymore', 'anyone', 'anything', 'anytime', 'anyway', 'anywhere', 'aoc', 'ap', 'apart', 'apartment', 'apocalypse', 'apologise', 'apologize', 'app', 'appalling', 'apparel', 'apparent', 'apparently', 'appeal', 'appealing', 'appear', 'appeared', 'appearing', 'appears', 'applaud', 'apple', 'apples', 'appliances', 'application', 'applications', 'applied', 'applies', 'apply', 'appointment', 'appointments', 'appreciate', 'appreciated', 'appreciation', 'approach', 'approaches', 'appropriate', 'appropriately', 'approval', 'approve', 'approved', 'approximately', 'apps', 'apr', 'april', 'ar', 'arab', 'arabia', 'area', 'areas', 'arent', 'arenâ', 'argue', 'arguing', 'arising', 'arizona', 'arm', 'armed', 'arms', 'army', 'around', 'arrange', 'arrangements', 'arrest', 'arrested', 'arrival', 'arrive', 'arrived', 'arriving', 'arrows', 'arseholes', 'art', 'article', 'articles', 'artificial', 'artificially', 'artist', 'artists', 'arvindkejriwal', 'asap', 'asda', 'asdaserviceteam', 'ashamed', 'ashley', 'asia', 'asian', 'aside', 'ask', 'askebay', 'asked', 'asking', 'asks', 'aspects', 'ass', 'assess', 'assessment', 'asset', 'assets', 'asshole', 'assholes', 'assist', 'assistance', 'assistant', 'assistants', 'associate', 'associated', 'associates', 'association', 'assume', 'assuming', 'assure', 'assured', 'assures', 'asthma', 'astronomical', 'asymptomatic', 'ate', 'athletes', 'athome', 'atlanta', 'atleast', 'atm', 'atms', 'atrisk', 'atta', 'attached', 'attack', 'attacking', 'attacks', 'attempt', 'attempting', 'attempts', 'attend', 'attendants', 'attending', 'attention', 'attitude', 'attitudes', 'attorney', 'attorneys', 'au', 'auction', 'audience', 'audio', 'august', 'ausbiz', 'auspol', 'aussie', 'austin', 'australia', 'australian', 'australians', 'australias', 'australiaâ', 'authorities', 'authority', 'auto', 'automatic', 'automatically', 'automation', 'automotive', 'avail', 'availability', 'available', 'ave', 'average', 'aviation', 'avoid', 'avoided', 'avoiding', 'aware', 'awareness', 'away', 'awesome', 'awful', 'az', 'aâ', 'b2b', 'b4', 'babies', 'baby', 'back', 'bacon', 'bacteria', 'bacterial', 'bad', 'badly', 'bag', 'bagging', 'bags', 'bail', 'bailout', 'bailouts', 'baked', 'baker', 'bakery', 'baking', 'balance', 'ball', 'ban', 'bananas', 'band', 'bandana', 'bangladesh', 'bank', 'bankers', 'banking', 'bankrupt', 'bankruptcy', 'banks', 'banned', 'banning', 'bans', 'bar', 'bare', 'barely', 'bargain', 'barrel', 'barrels', 'barren', 'barrier', 'barriers', 'bars', 'base', 'based', 'basic', 'basically', 'basics', 'basis', 'basket', 'baskets', 'bastard', 'bastards', 'bat', 'batch', 'bathroom', 'battered', 'battle', 'battles', 'battling', 'bay', 'bazaar', 'bbb', 'bbc', 'bbcbreakfast', 'bbcbreaking', 'bbcnews', 'bc', 'bcg', 'bcpoli', 'beach', 'beaches', 'beans', 'bear', 'beast', 'beat', 'beautiful', 'beauty', 'became', 'become', 'becomes', 'becoming', 'bed', 'beds', 'beef', 'beer', 'beers', 'beg', 'began', 'begging', 'begin', 'beginning', 'begins', 'begun', 'behalf', 'behave', 'behaving', 'behavior', 'behavioral', 'behaviors', 'behaviour', 'behaviours', 'behind', 'beijing', 'beings', 'bekind', 'belgium', 'believe', 'believed', 'believes', 'believing', 'bell', 'belt', 'benchmark', 'beneficiaries', 'benefit', 'benefiting', 'benefits', 'bengaluru', 'bent', 'berlin', 'bernie', 'berniesanders', 'besafe', 'besides', 'best', 'bet', 'better', 'beverage', 'beverages', 'beware', 'beyond', 'bezos', 'bid', 'bidding', 'bidet', 'big', 'bigger', 'biggest', 'bike', 'bill', 'billion', 'billionaires', 'billions', 'bills', 'bin', 'binge', 'bins', 'bio', 'bird', 'birds', 'birth', 'birthday', 'birx', 'bit', 'bitch', 'bitcoin', 'bits', 'biz', 'black', 'blame', 'blaming', 'bleach', 'bleak', 'bless', 'blessed', 'block', 'blockchain', 'blocked', 'blocking', 'blocks', 'blog', 'blood', 'bloody', 'bloomberg', 'blow', 'blowing', 'blows', 'blue', 'board', 'bodies', 'body', 'bog', 'bogus', 'bond', 'bonds', 'bonus', 'bonuses', 'book', 'booked', 'booking', 'bookings', 'books', 'boom', 'boomers', 'booming', 'boost', 'boosting', 'boots', 'booze', 'border', 'borders', 'bored', 'boredom', 'boris', 'borisjohnson', 'born', 'borrowers', 'boss', 'bosses', 'boston', 'bother', 'bottle', 'bottled', 'bottles', 'bottom', 'bought', 'bounce', 'bound', 'bout', 'box', 'boxes', 'boy', 'boycott', 'boycotthul', 'boyfriend', 'boys', 'brace', 'bracing', 'brad', 'bradpaisley', 'bragging', 'brain', 'branch', 'brand', 'branding', 'brands', 'brave', 'braved', 'bread', 'break', 'breakdown', 'breakfast', 'breaking', 'breakingnews', 'breaks', 'breath', 'breathe', 'breathing', 'brent', 'brescia', 'breweries', 'brexit', 'brick', 'brickandmortar', 'brief', 'briefing', 'briefings', 'bright', 'brilliant', 'bring', 'bringing', 'brings', 'britain', 'british', 'britons', 'brits', 'bro', 'broadband', 'broke', 'broken', 'brooklyn', 'brother', 'brothers', 'brought', 'brown', 'browse', 'browsing', 'brussels', 'bs', 'btc', 'btw', 'bubble', 'buck', 'budget', 'budgets', 'buffer', 'build', 'building', 'buildings', 'built', 'bulk', 'bulkbuying', 'bullshit', 'bump', 'bunch', 'burden', 'bureau', 'bus', 'buses', 'bushcraft', 'business', 'businesses', 'businessnews', 'bust', 'busy', 'butcher', 'butchers', 'butter', 'buy', 'buybacks', 'buyer', 'buyers', 'buying', 'buyingâ', 'buys', 'ca', 'cabinet', 'cable', 'cafe', 'cafes', 'cake', 'cakes', 'calculator', 'calgary', 'california', 'californialockdown', 'californians', 'call', 'called', 'calling', 'calls', 'calm', 'calpol', 'cambridge', 'came', 'camera', 'camp', 'campaign', 'campaigns', 'campus', 'canada', 'canadas', 'canadian', 'canadians', 'canberra', 'cancel', 'canceled', 'cancellation', 'cancellations', 'cancelled', 'cancelling', 'cancer', 'candidate', 'candy', 'cannabis', 'canned', 'cannot', 'canonindia', 'cans', 'cant', 'canâ', 'cap', 'capacity', 'capital', 'capitalism', 'capitalist', 'capped', 'caps', 'car', 'carbon', 'card', 'cardboard', 'cards', 'care', 'career', 'careful', 'carefully', 'caregivers', 'carers', 'cares', 'cargo', 'caring', 'carolina', 'carried', 'carrier', 'carriers', 'carry', 'carrying', 'cars', 'cart', 'cartel', 'carton', 'cartoon', 'carts', 'case', 'cases', 'cash', 'cashapp', 'cashier', 'cashiers', 'cashing', 'cashless', 'cat', 'catch', 'catching', 'categories', 'category', 'cater', 'catering', 'cats', 'cattle', 'caught', 'cause', 'caused', 'causes', 'causing', 'caution', 'cautious', 'cbc', 'cbd', 'cbs', 'cbsnews', 'cc', 'ccp', 'ccpvirus', 'cdc', 'cdcgov', 'cdnpoli', 'ce', 'celebrate', 'celebrating', 'celebration', 'celebrities', 'celebrity', 'cell', 'cent', 'center', 'centers', 'central', 'centre', 'centres', 'cents', 'century', 'ceo', 'ceos', 'cereal', 'certain', 'certainly', 'certified', 'cfpb', 'chain', 'chains', 'chair', 'chairman', 'challenge', 'challenges', 'challenging', 'chance', 'chancellor', 'chances', 'change', 'changed', 'changes', 'changing', 'channel', 'channels', 'chaos', 'charge', 'charged', 'charges', 'charging', 'charitable', 'charities', 'charity', 'charmin', 'chart', 'charts', 'chat', 'chatting', 'cheap', 'cheaper', 'cheapest', 'cheat', 'check', 'checked', 'checking', 'checklist', 'checkout', 'checkouts', 'checks', 'cheers', 'cheese', 'chef', 'chemical', 'chemicals', 'chemist', 'chemists', 'chest', 'chicago', 'chicken', 'chickens', 'chief', 'child', 'childcare', 'children', 'chill', 'china', 'chinaliedandpeopledied', 'chinaliedpeopledied', 'chinas', 'chinavirus', 'chinaâ', 'chinese', 'chinesevirus', 'chinesewuhanvirus', 'chips', 'chloroquine', 'chocolate', 'choice', 'choices', 'choose', 'chopped', 'chose', 'chris', 'christ', 'christian', 'christmas', 'church', 'churches', 'cigarettes', 'cinema', 'circle', 'circuit', 'circumstances', 'cities', 'citizen', 'citizens', 'city', 'civil', 'claim', 'claimed', 'claiming', 'claims', 'clap', 'clapping', 'clarify', 'clarity', 'class', 'classed', 'classes', 'classic', 'classified', 'classify', 'clean', 'cleaned', 'cleaner', 'cleaners', 'cleaning', 'cleanliness', 'clear', 'cleared', 'clearing', 'clearly', 'clerk', 'clerks', 'cleveland', 'click', 'client', 'clients', 'climate', 'climatechange', 'clinic', 'clinical', 'clip', 'clock', 'clorox', 'close', 'closed', 'closely', 'closer', 'closes', 'closing', 'closings', 'closure', 'closures', 'cloth', 'clothes', 'clothing', 'cloud', 'clowns', 'club', 'clubs', 'clue', 'clues', 'cm', 'cma', 'cmagovuk', 'cmomaharashtra', 'cnbc', 'cnn', 'co', 'co2', 'coal', 'coast', 'code', 'coffee', 'coincidence', 'coins', 'cold', 'coles', 'collaboration', 'collapse', 'collapsed', 'collapses', 'collapsing', 'colleague', 'colleagues', 'collect', 'collected', 'collecting', 'collection', 'collections', 'collective', 'collectors', 'college', 'color', 'colorado', 'colours', 'column', 'com', 'combat', 'combating', 'combination', 'combined', 'come', 'comedy', 'comes', 'comfort', 'comfortable', 'comic', 'comics', 'coming', 'comment', 'comments', 'commerce', 'commercial', 'commission', 'commissioner', 'commissions', 'commit', 'commitment', 'committed', 'committee', 'commodities', 'commodity', 'common', 'commonsense', 'communicate', 'communication', 'communications', 'communist', 'communities', 'community', 'companies', 'company', 'companyâ', 'compare', 'compared', 'compares', 'compassion', 'compensate', 'compensation', 'compete', 'competing', 'competition', 'competitive', 'compiled', 'complain', 'complaining', 'complaint', 'complaints', 'complete', 'completely', 'complex', 'compliance', 'complicated', 'complications', 'complimentary', 'comply', 'comprehensive', 'compromised', 'computer', 'computers', 'con', 'concept', 'concern', 'concerned', 'concerning', 'concerns', 'concert', 'condition', 'conditions', 'condoms', 'conduct', 'conducted', 'conference', 'confidence', 'confident', 'confined', 'confinement', 'confirm', 'confirmed', 'confirms', 'confused', 'confusion', 'congress', 'connect', 'connected', 'connection', 'connections', 'conscious', 'consequence', 'consequences', 'conservatives', 'consider', 'considerate', 'consideration', 'considered', 'considering', 'considers', 'consistent', 'conspiracy', 'constant', 'constantly', 'construction', 'consume', 'consumed', 'consumer', 'consumerbehavior', 'consumerbehaviour', 'consumerconfidence', 'consumerfacing', 'consumerfriendly', 'consumerinsights', 'consumerprotection', 'consumerrights', 'consumers', 'consumersâ', 'consumerâ', 'consuming', 'consumption', 'contact', 'contacted', 'contactless', 'contacts', 'contagion', 'contagious', 'contain', 'container', 'containers', 'containing', 'containment', 'contains', 'contaminated', 'contamination', 'content', 'contest', 'contestalert', 'context', 'contingency', 'continue', 'continued', 'continues', 'continuing', 'contract', 'contracted', 'contracting', 'contractions', 'contracts', 'contrast', 'contribute', 'contributing', 'contribution', 'control', 'controlled', 'controlling', 'controls', 'convenience', 'convenient', 'conversation', 'converted', 'convid19', 'convid19uk', 'convinced', 'cook', 'cooked', 'cookies', 'cooking', 'cooks', 'cool', 'coop', 'cooper', 'cooperate', 'cooperation', 'coordinated', 'coordinator', 'cope', 'coping', 'copper', 'cops', 'copy', 'core', 'corn', 'corner', 'cornwall', 'coro', 'corona', 'coronaalert', 'coronacrisis', 'coronacrisisuk', 'coronaindia', 'coronainpakistan', 'coronalockdown', 'coronamemes', 'coronaoutbreak', 'coronapandemic', 'coronapandemie', 'coronapocalypse', 'coronapocolypse', 'coronauk', 'coronaupdate', 'coronav', 'coronavid19', 'coronavillains', 'coronavirus', 'coronavirusau', 'coronavirusaus', 'coronavirusaustralia', 'coronaviruscanada', 'coronaviruschallenge', 'coronavirusindia', 'coronavirusinindia', 'coronavirusinpakistan', 'coronavirusinsa', 'coronaviruslockdown', 'coronaviruslockdownuk', 'coronavirusmemes', 'coronavirusnewyork', 'coronavirusnz', 'coronavirusoutbreak', 'coronavirusoutbreakindia', 'coronaviruspakistan', 'coronaviruspandemic', 'coronavirusrelated', 'coronavirussa', 'coronavirussouthafrica', 'coronavirustruth', 'coronavirusuk', 'coronavirusupdate', 'coronavirusupdates', 'coronavirususa', 'coronavirusâ', 'coronavtj', 'coronavã', 'corp', 'corporate', 'corporation', 'corporations', 'corps', 'correct', 'correction', 'correctly', 'corrupt', 'corruption', 'corvid19', 'corvid19uk', 'cos', 'cost', 'costco', 'costing', 'costs', 'cotton', 'cough', 'coughed', 'coughing', 'coughs', 'could', 'couldnt', 'couldnâ', 'council', 'count', 'countdown', 'counter', 'counters', 'counties', 'counting', 'countless', 'countries', 'country', 'countrys', 'countryâ', 'counts', 'county', 'couple', 'coupled', 'couples', 'coupons', 'courage', 'courier', 'couriers', 'course', 'courses', 'court', 'courtesy', 'cousin', 'cov', 'covd19', 'cover', 'coverage', 'covered', 'covering', 'coverings', 'covers', 'covi', 'covid', 'covid19', 'covid19au', 'covid19aus', 'covid19australia', 'covid19canada', 'covid19india', 'covid19ireland', 'covid19ke', 'covid19nigeria', 'covid19nz', 'covid19on', 'covid19ontario', 'covid19out', 'covid19outbreak', 'covid19pandemic', 'covid19ph', 'covid19related', 'covid19s', 'covid19sa', 'covid19southafrica', 'covid19ug', 'covid19uk', 'covid19us', 'covid19usa', 'covid19â', 'covid2019', 'covid2019au', 'covid2019india', 'covid2019uk', 'covidagenparl', 'covidcanada', 'covididiots', 'covidindia', 'covidiot', 'covidiots', 'covidontario', 'coworkers', 'coz', 'cpg', 'cr', 'crack', 'crackdown', 'cracking', 'craft', 'crap', 'crash', 'crashed', 'crashing', 'craziness', 'crazy', 'cre', 'cream', 'create', 'created', 'creates', 'creating', 'creative', 'creativity', 'credit', 'crews', 'cried', 'crime', 'criminal', 'criminals', 'crises', 'crisis', 'crisisâ', 'crisp', 'critical', 'crooks', 'crop', 'crops', 'crore', 'cross', 'crossing', 'crowd', 'crowded', 'crowding', 'crowds', 'crucial', 'crude', 'crudeoil', 'cruel', 'cruise', 'crush', 'crushed', 'cry', 'crying', 'crypto', 'cryptocurrency', 'cs', 'cstores', 'ct', 'cue', 'culture', 'cunts', 'cuomo', 'cupboards', 'curb', 'curbs', 'curbside', 'cure', 'cures', 'curfew', 'curfews', 'curious', 'currencies', 'currency', 'current', 'currently', 'curtail', 'curve', 'cushion', 'custom', 'customer', 'customers', 'customersâ', 'cut', 'cute', 'cuts', 'cutting', 'cuz', 'cvs', 'cx', 'cyber', 'cybersecurity', 'cycle', 'cyrilramaphosa', 'da', 'dad', 'daily', 'dailymailuk', 'dairy', 'dallas', 'damage', 'damaged', 'damaging', 'damn', 'dan', 'dance', 'dang', 'danger', 'dangerous', 'dangers', 'danielandrewsmp', 'danish', 'dankmemes', 'dark', 'dash', 'data', 'database', 'date', 'dates', 'dating', 'daughter', 'daughters', 'david', 'dawn', 'day', 'days', 'dc', 'de', 'dead', 'deadline', 'deadly', 'deal', 'dealers', 'dealing', 'deals', 'dealt', 'dear', 'death', 'deaths', 'debate', 'debit', 'debt', 'decade', 'decades', 'december', 'decent', 'decide', 'decided', 'decimated', 'decision', 'decisions', 'deck', 'declaration', 'declare', 'declared', 'declares', 'declaring', 'decline', 'declined', 'declines', 'declining', 'decrease', 'decreased', 'decreases', 'dedicate', 'dedicated', 'deemed', 'deep', 'deeper', 'deeply', 'defeat', 'defense', 'deferred', 'deficit', 'definitely', 'definition', 'del', 'delay', 'delayed', 'delays', 'delhi', 'deli', 'deliberately', 'delicious', 'deliver', 'delivered', 'deliveries', 'delivering', 'deliveroo', 'delivers', 'delivery', 'dem', 'demand', 'demanding', 'demands', 'demandâ', 'democrat', 'democratic', 'democrats', 'denied', 'denmark', 'department', 'depend', 'dependent', 'depending', 'depends', 'depleted', 'deposit', 'depot', 'depressed', 'depressing', 'depression', 'dept', 'deputy', 'described', 'deserve', 'deserved', 'deserves', 'design', 'designated', 'designed', 'designer', 'designs', 'desk', 'despair', 'desperate', 'desperately', 'desperation', 'despicable', 'despite', 'destroy', 'destroyed', 'destroying', 'destruction', 'detail', 'detailed', 'details', 'determine', 'determined', 'detroit', 'dettol', 'devastating', 'develop', 'developed', 'developing', 'development', 'developments', 'device', 'devices', 'dey', 'di', 'diabetes', 'diagnosed', 'diamond', 'diarrhea', 'diary', 'dick', 'didnt', 'didnâ', 'die', 'died', 'dies', 'diesel', 'diet', 'difference', 'different', 'differently', 'difficult', 'difficulties', 'difficulty', 'dig', 'digest', 'digital', 'digitalmarketing', 'dilemma', 'dining', 'dinner', 'dip', 'dire', 'direct', 'directed', 'direction', 'directive', 'directly', 'director', 'directors', 'directtoconsumer', 'dirty', 'dis', 'disabilities', 'disability', 'disabled', 'disappear', 'disappointed', 'disaster', 'discount', 'discounted', 'discounts', 'discover', 'discovered', 'discretionary', 'discuss', 'discussed', 'discusses', 'discussing', 'discussion', 'discussions', 'disease', 'diseases', 'disgrace', 'disgraceful', 'disgusted', 'disgusting', 'dish', 'disinfect', 'disinfectant', 'disinfectants', 'disinfecting', 'disinfection', 'disney', 'display', 'disposable', 'dispute', 'disrupt', 'disrupted', 'disruption', 'disruptions', 'distance', 'distanced', 'distancing', 'distant', 'distilleries', 'distillers', 'distillery', 'distribute', 'distributed', 'distributing', 'distribution', 'distributors', 'district', 'disturbing', 'dive', 'dividend', 'division', 'diy', 'dm', 'dna', 'doc', 'doctor', 'doctors', 'document', 'doesnt', 'doesnâ', 'dog', 'dogs', 'dollar', 'dollars', 'domestic', 'donald', 'donaldtrump', 'donate', 'donated', 'donates', 'donating', 'donation', 'donations', 'done', 'donors', 'dont', 'dontbeaspreader', 'dontpanic', 'donâ', 'doomsday', 'door', 'doors', 'doorstep', 'double', 'doubled', 'doubling', 'doubt', 'doug', 'dow', 'dowjones', 'download', 'downloads', 'downs', 'downside', 'downtown', 'downturn', 'downward', 'dozen', 'dozens', 'dr', 'drag', 'dragged', 'dramatic', 'dramatically', 'drastic', 'drastically', 'drawing', 'dream', 'dreams', 'dress', 'dressed', 'drharshvardhan', 'dried', 'drink', 'drinking', 'drinks', 'drive', 'driven', 'driver', 'drivers', 'drives', 'drivethru', 'driving', 'drone', 'drones', 'drop', 'droplets', 'dropped', 'dropping', 'drops', 'drove', 'drug', 'drugs', 'drugstore', 'dry', 'dtc', 'dubai', 'dude', 'due', 'dumb', 'dump', 'dumped', 'dumping', 'duration', 'dust', 'dutch', 'duties', 'duty', 'dwindling', 'dying', 'dystopian', 'eagle', 'earlier', 'early', 'earn', 'earned', 'earning', 'earnings', 'earth', 'earthquake', 'ease', 'easier', 'easily', 'easing', 'east', 'easter', 'eastern', 'eastersunday', 'easy', 'easyfundraising', 'eat', 'eaten', 'eating', 'eats', 'ebay', 'ebayuk', 'ebt', 'ecommerce', 'economic', 'economically', 'economiccrisis', 'economics', 'economies', 'economist', 'economists', 'economy', 'ed', 'edge', 'edition', 'editor', 'editorial', 'edmonton', 'educate', 'education', 'effect', 'effected', 'effective', 'effectively', 'effects', 'efficient', 'effort', 'efforts', 'eg', 'egg', 'eggs', 'egypt', 'eh', 'eight', 'either', 'el', 'elbow', 'elderly', 'elders', 'elected', 'election', 'elections', 'electric', 'electricity', 'electronic', 'electronics', 'eligible', 'eliminate', 'elite', 'else', 'elsewhere', 'em', 'email', 'emails', 'emarketer', 'emerge', 'emerged', 'emergencies', 'emergency', 'emerging', 'emotional', 'empathy', 'employ', 'employed', 'employee', 'employees', 'employer', 'employers', 'employment', 'emptied', 'empty', 'emptying', 'emptyshelves', 'emts', 'en', 'enable', 'enabling', 'enact', 'encourage', 'encouraged', 'encourages', 'encouraging', 'end', 'ended', 'ending', 'endless', 'ends', 'endure', 'enemy', 'energy', 'enforce', 'enforced', 'enforcement', 'enforcing', 'engage', 'engaged', 'engagement', 'engaging', 'england', 'english', 'enhanced', 'enjoy', 'enjoying', 'enormous', 'enough', 'ensure', 'ensuring', 'enter', 'entered', 'entering', 'enterprise', 'enters', 'entertainment', 'entire', 'entirely', 'entities', 'entitled', 'entrance', 'entrances', 'entrepreneur', 'entry', 'environment', 'environmental', 'epidemic', 'episode', 'equal', 'equally', 'equipment', 'equity', 'equivalent', 'er', 'era', 'errands', 'escape', 'esp', 'especially', 'essays', 'essential', 'essentially', 'essentials', 'essentialworker', 'essentialworkers', 'essentialâ', 'est', 'establishments', 'estate', 'estimate', 'estimated', 'estimates', 'et', 'etc', 'ethanol', 'ethical', 'ethics', 'eu', 'eucommission', 'euro', 'europe', 'european', 'eve', 'even', 'evening', 'event', 'events', 'eventually', 'ever', 'everlywell', 'every', 'everybody', 'everyday', 'everyone', 'everyones', 'everyoneâ', 'everything', 'everywhere', 'eviction', 'evictions', 'evidence', 'evil', 'evolution', 'evolve', 'evolving', 'ex', 'exacerbated', 'exact', 'exactly', 'examines', 'example', 'examples', 'exceed', 'excellent', 'except', 'exception', 'excess', 'excessive', 'exchange', 'excited', 'exciting', 'exclusive', 'exclusively', 'excuse', 'exec', 'execs', 'executive', 'executives', 'exempt', 'exercise', 'exhausted', 'exist', 'existing', 'exit', 'exorbitant', 'expand', 'expanded', 'expanding', 'expands', 'expansion', 'expect', 'expectations', 'expected', 'expecting', 'expects', 'expenses', 'expensive', 'experience', 'experienced', 'experiences', 'experiencing', 'expert', 'experts', 'expired', 'explain', 'explained', 'explaining', 'explains', 'explode', 'exploit', 'exploitation', 'exploiting', 'explore', 'explores', 'exploring', 'exponentially', 'export', 'exporting', 'exports', 'expose', 'exposed', 'exposing', 'exposure', 'express', 'extend', 'extended', 'extending', 'extends', 'extension', 'extensive', 'extent', 'extortionate', 'extra', 'extraordinary', 'extreme', 'extremely', 'eye', 'eyes', 'fabric', 'face', 'facebook', 'faced', 'facemask', 'facemasks', 'faces', 'facial', 'facilitate', 'facilities', 'facility', 'facing', 'fact', 'factbox', 'factor', 'factories', 'factors', 'factory', 'facts', 'fail', 'failed', 'failing', 'fails', 'failure', 'fair', 'fairly', 'faith', 'fake', 'fakenews', 'fall', 'fallen', 'falling', 'fallout', 'falls', 'false', 'falsely', 'fam', 'families', 'family', 'familyâ', 'famous', 'fan', 'fans', 'fantastic', 'fao', 'faqs', 'far', 'fares', 'fargo', 'farm', 'farmer', 'farmers', 'farming', 'farms', 'farmworkers', 'fascinating', 'fashion', 'fast', 'faster', 'fastest', 'fastfood', 'fat', 'fatal', 'fatalities', 'father', 'fauci', 'fault', 'favor', 'favorite', 'favourite', 'fb', 'fcc', 'fck', 'fda', 'fear', 'fearful', 'fears', 'feature', 'features', 'featuring', 'feb', 'february', 'fed', 'federal', 'fedex', 'feds', 'fee', 'feed', 'feedback', 'feeding', 'feel', 'feeling', 'feelings', 'feels', 'fees', 'feet', 'fell', 'fellow', 'felt', 'fema', 'fever', 'fewer', 'ffs', 'field', 'fields', 'fight', 'fightcovid19', 'fighting', 'fights', 'figure', 'figured', 'figures', 'fiji', 'fijian', 'fijinews', 'file', 'filed', 'fill', 'filled', 'filling', 'film', 'filmed', 'films', 'filter', 'filthy', 'final', 'finally', 'finance', 'finances', 'financial', 'financially', 'find', 'finding', 'findings', 'finds', 'fine', 'fined', 'fines', 'finger', 'fingers', 'finish', 'finished', 'finland', 'finminindia', 'fintech', 'fire', 'firearms', 'fired', 'firefighters', 'firm', 'firms', 'first', 'fiscal', 'fish', 'fishermen', 'fishing', 'fit', 'fitness', 'fitting', 'five', 'fix', 'fixed', 'fixes', 'fixing', 'fl', 'flat', 'flatten', 'flattening', 'flattenthecurve', 'flexibility', 'flexible', 'flies', 'flight', 'flights', 'flipkart', 'flood', 'flooding', 'floor', 'floors', 'florida', 'floridians', 'flour', 'flow', 'flowers', 'flows', 'flu', 'flush', 'fly', 'flying', 'fmcg', 'focus', 'focused', 'focusing', 'folk', 'folks', 'follow', 'followed', 'followers', 'following', 'follows', 'food', 'foodbank', 'foodbanks', 'fooddelivery', 'foodindustry', 'foods', 'foodsafety', 'foodsecurity', 'foodservice', 'foodshortage', 'foodshortages', 'foodstuff', 'foodstuffs', 'foodsupply', 'foodwaste', 'foodâ', 'fool', 'fools', 'foot', 'football', 'footfall', 'footing', 'forbes', 'force', 'forced', 'forces', 'forcing', 'ford', 'fordnation', 'forecast', 'forecasts', 'foreign', 'foreseeable', 'forever', 'forex', 'forget', 'forgot', 'forgotten', 'form', 'former', 'forms', 'formula', 'fort', 'fortnight', 'fortunate', 'forum', 'forward', 'fossil', 'found', 'foundation', 'founder', 'four', 'fourth', 'fox', 'foxnews', 'fr', 'fracking', 'fractured', 'fragile', 'france', 'francisco', 'fraud', 'fraudsters', 'fraudulent', 'freaking', 'fred', 'free', 'freedom', 'freeze', 'freezer', 'freezers', 'freight', 'french', 'frenzy', 'frequent', 'frequently', 'fresh', 'friday', 'fridayfeeling', 'fridaythoughts', 'fridge', 'fridges', 'friend', 'friendly', 'friends', 'frightening', 'frm', 'front', 'frontline', 'frontliners', 'frontlines', 'frozen', 'fruit', 'fruits', 'frustrating', 'ft', 'ftc', 'fuck', 'fucked', 'fuckin', 'fucking', 'fucks', 'fuel', 'fueled', 'fuels', 'fulfill', 'fulfillment', 'full', 'fully', 'fun', 'function', 'fund', 'funding', 'funds', 'funeral', 'funny', 'furlough', 'furloughed', 'furloughs', 'furniture', 'future', 'futures', 'fyi', 'gain', 'gained', 'gains', 'gallon', 'gallons', 'game', 'games', 'gamestop', 'gaming', 'gang', 'gap', 'gaps', 'garage', 'garbage', 'garden', 'gardening', 'garlic', 'gary', 'gas', 'gasoline', 'gasprices', 'gate', 'gates', 'gather', 'gathering', 'gatherings', 'gauging', 'gave', 'gavinnewsom', 'gaza', 'gazette', 'gb', 'gcc', 'gdp', 'gear', 'gears', 'gel', 'gen', 'general', 'generally', 'generated', 'generation', 'generations', 'generous', 'genius', 'genomics', 'genuine', 'genuinely', 'george', 'georgia', 'germ', 'german', 'germany', 'germs', 'gesture', 'get', 'gets', 'getting', 'ghana', 'ghost', 'giant', 'giants', 'gift', 'gifts', 'gin', 'ginger', 'girl', 'girls', 'give', 'giveawayalert', 'given', 'gives', 'giving', 'glad', 'glass', 'glasses', 'global', 'globally', 'globe', 'glove', 'gloves', 'glut', 'gluten', 'gmb', 'go', 'goal', 'goals', 'god', 'godrej', 'goes', 'goggles', 'going', 'gold', 'golden', 'golf', 'gone', 'gonna', 'good', 'goodness', 'goods', 'google', 'googlenews', 'gop', 'got', 'goto', 'gotta', 'gotten', 'gouging', 'gov', 'governance', 'government', 'governments', 'governmentâ', 'governor', 'governors', 'govmurphy', 'govt', 'govts', 'govuk', 'gowns', 'gp', 'grab', 'grabbed', 'grabbing', 'grace', 'grade', 'grain', 'grains', 'grand', 'grandma', 'grandparents', 'grant', 'granted', 'grants', 'grapple', 'grapples', 'grateful', 'gratitude', 'great', 'greater', 'greatest', 'greatly', 'greece', 'greed', 'greedy', 'green', 'grew', 'grip', 'grocer', 'groceries', 'grocers', 'grocery', 'groceryindustry', 'groceryshopping', 'grocerystore', 'grocerystores', 'groceryworkers', 'grossly', 'ground', 'group', 'groups', 'grow', 'growers', 'growing', 'grown', 'grows', 'growth', 'gt', 'gtgt', 'gtgtgt', 'guarantee', 'guaranteed', 'guard', 'guardian', 'guards', 'guess', 'guessing', 'guest', 'guests', 'guidance', 'guide', 'guidelines', 'guilty', 'gulf', 'gun', 'guns', 'guy', 'guys', 'gym', 'gyms', 'habit', 'habits', 'hackers', 'haha', 'hair', 'halal', 'half', 'hall', 'halloween', 'halt', 'halted', 'hamster', 'hand', 'handed', 'handing', 'handle', 'handled', 'handles', 'handling', 'hands', 'handsanitiser', 'handsanitizer', 'handsanitizers', 'handwash', 'handwashing', 'handy', 'hang', 'hanging', 'happen', 'happened', 'happening', 'happens', 'happy', 'hard', 'harder', 'hardest', 'hardly', 'hardship', 'hardships', 'hardware', 'hardworking', 'harm', 'harmful', 'harper', 'harvest', 'harvesting', 'harvey', 'hashtag', 'hasnt', 'hasnâ', 'hate', 'hats', 'haul', 'havent', 'havenâ', 'havoc', 'hawaii', 'hazard', 'hd', 'head', 'headed', 'heading', 'headline', 'headlines', 'headquarters', 'heads', 'health', 'healthcare', 'healthcareheroes', 'healthy', 'hear', 'heard', 'hearing', 'heart', 'heartbreaking', 'heartfelt', 'hearts', 'heavily', 'heavy', 'heb', 'heck', 'hedge', 'heightened', 'held', 'hell', 'hello', 'help', 'helpeachother', 'helped', 'helpers', 'helpful', 'helping', 'helpline', 'helps', 'hemp', 'hence', 'herald', 'herd', 'heres', 'hereâ', 'hero', 'heroes', 'heros', 'hes', 'hey', 'heâ', 'hi', 'hidden', 'hide', 'hiding', 'high', 'higher', 'highest', 'highlight', 'highlighted', 'highlighting', 'highlights', 'highly', 'highrisk', 'highs', 'hike', 'hiked', 'hikes', 'hiking', 'hilarious', 'hill', 'hindustan', 'hint', 'hire', 'hiring', 'historic', 'historical', 'history', 'hit', 'hits', 'hitting', 'hmm', 'ho', 'hoard', 'hoarded', 'hoarder', 'hoarders', 'hoarding', 'hoax', 'hold', 'holders', 'holding', 'holds', 'hole', 'holiday', 'holidays', 'hollywood', 'holy', 'home', 'homebound', 'homedelivery', 'homeless', 'homemade', 'homeowners', 'homes', 'homeschooling', 'hometown', 'homeworld', 'homeâ', 'honest', 'honestly', 'hong', 'honor', 'honour', 'hoosiers', 'hope', 'hopefully', 'hopes', 'hoping', 'hording', 'horrible', 'horror', 'hospital', 'hospitality', 'hospitalized', 'hospitals', 'host', 'hosted', 'hosting', 'hot', 'hotel', 'hotels', 'hotline', 'hour', 'hourly', 'hours', 'house', 'household', 'households', 'houses', 'housewares', 'housing', 'housingmarket', 'houston', 'howard', 'however', 'hows', 'howâ', 'hr', 'hrs', 'ht', 'https', 'hub', 'hubby', 'hubs', 'huffpost', 'hug', 'huge', 'hugely', 'huh', 'hul', 'hulnews', 'human', 'humanitarian', 'humanity', 'humans', 'humble', 'humor', 'hundreds', 'hungary', 'hunger', 'hungry', 'hunker', 'hunt', 'hunting', 'hurricane', 'hurry', 'hurt', 'hurting', 'hurts', 'husband', 'hydcitypolice', 'hyderabad', 'hydro', 'hydroxychloroquine', 'hygiene', 'hygienic', 'hypermarket', 'hysteria', 'hyvee', 'ice', 'iceland', 'icelandfoods', 'icis', 'icu', 'icymi', 'id', 'idea', 'ideal', 'ideas', 'identified', 'identify', 'identity', 'idiot', 'idiots', 'idk', 'ids', 'ie', 'if', 'ig', 'iga', 'ignite', 'ignorance', 'ignorant', 'ignore', 'ignored', 'ignoring', 'ikea', 'ill', 'illegal', 'illinois', 'illness', 'illnesses', 'illustration', 'im', 'image', 'images', 'imagine', 'imf', 'immediate', 'immediately', 'immigrant', 'immigrants', 'immune', 'immunity', 'immunocompromised', 'impact', 'impacted', 'impacting', 'impacts', 'impending', 'implement', 'implemented', 'implementing', 'implications', 'import', 'importance', 'important', 'importantly', 'imported', 'importers', 'imports', 'impose', 'imposed', 'impossible', 'impressed', 'improve', 'improved', 'improvement', 'imran', 'imrankhanpti', 'in', 'inadequate', 'inbox', 'inc', 'incase', 'incident', 'incindia', 'incl', 'include', 'included', 'includes', 'including', 'income', 'incomes', 'incompetent', 'increase', 'increased', 'increases', 'increasing', 'increasingly', 'incredible', 'incredibly', 'indeed', 'indefinitely', 'indemand', 'independent', 'index', 'india', 'indiafightscorona', 'indiafightscoronavirus', 'indian', 'indiana', 'indians', 'indias', 'indicates', 'indicating', 'indicative', 'individual', 'individuals', 'indoor', 'indoors', 'induced', 'industrial', 'industries', 'industry', 'inevitable', 'infect', 'infected', 'infecting', 'infection', 'infections', 'infectious', 'inflate', 'inflated', 'inflating', 'inflation', 'influence', 'influx', 'info', 'infographic', 'inform', 'informal', 'information', 'informed', 'infrared', 'infrastructure', 'ingredient', 'ingredients', 'initial', 'initiative', 'initiatives', 'inner', 'innovation', 'innovative', 'inperson', 'inputs', 'insane', 'insanity', 'insecurity', 'inside', 'insider', 'insight', 'insightful', 'insights', 'insist', 'inspiration', 'inspire', 'inspired', 'inspiring', 'instacart', 'instagram', 'install', 'installed', 'instance', 'instant', 'instead', 'institute', 'institutions', 'instore', 'instructed', 'instructions', 'insufficient', 'insulin', 'insurance', 'insurers', 'intelligence', 'intend', 'intended', 'intensifies', 'intensive', 'intentionally', 'interact', 'interaction', 'interactions', 'interactive', 'interest', 'interested', 'interesting', 'interests', 'interim', 'internal', 'international', 'internet', 'intervene', 'intervention', 'interview', 'interviewed', 'interviews', 'inthistogether', 'introduce', 'introduced', 'introducing', 'inventories', 'inventory', 'invest', 'investigate', 'investigated', 'investigating', 'investigation', 'investing', 'investment', 'investments', 'investor', 'investors', 'inviting', 'involved', 'involves', 'involving', 'inâ', 'iorestoacasa', 'iot', 'iowa', 'iphone', 'iran', 'iranian', 'iraq', 'ireland', 'irish', 'ironic', 'irony', 'irresponsible', 'irvpaswan', 'island', 'isle', 'isles', 'isnt', 'isnâ', 'isolate', 'isolated', 'isolating', 'isolation', 'isopropyl', 'israel', 'issue', 'issued', 'issues', 'issuing', 'it', 'italian', 'italians', 'italy', 'item', 'items', 'itll', 'itvnews', 'itâ', 'ive', 'iâ', 'jacindaardern', 'jack', 'jacked', 'jacking', 'jail', 'james', 'jan', 'janatacurfew', 'janitors', 'january', 'japan', 'japanese', 'jason', 'jeff', 'jeffbezos', 'jennifer', 'jerk', 'jersey', 'jesus', 'ji', 'jim', 'job', 'jobless', 'jobs', 'joe', 'joebiden', 'joes', 'joeâ', 'john', 'johnson', 'join', 'joined', 'joining', 'joins', 'joint', 'joke', 'jokes', 'joking', 'jones', 'jordan', 'journal', 'journaling', 'journalists', 'journey', 'joy', 'judge', 'judging', 'juice', 'july', 'jump', 'jumped', 'jumps', 'june', 'junk', 'justice', 'justintrudeau', 'justsaying', 'kaduna', 'kag', 'kagutamuseveni', 'kansas', 'kantar', 'karen', 'karma', 'keep', 'keeping', 'keeps', 'keepyourdistance', 'kelly', 'kentucky', 'kenya', 'kenyan', 'kenyans', 'kept', 'key', 'keyworker', 'keyworkers', 'kg', 'khan', 'kick', 'kicked', 'kicks', 'kid', 'kidding', 'kidney', 'kids', 'kill', 'killed', 'killer', 'killing', 'kills', 'kimberly', 'kind', 'kinda', 'kindly', 'kindness', 'kinds', 'king', 'kingdom', 'kirana', 'kit', 'kitchen', 'kitchens', 'kits', 'kleenex', 'kn95', 'knees', 'knew', 'knock', 'know', 'knowing', 'knowledge', 'known', 'knows', 'kong', 'korea', 'kroger', 'ktrtrs', 'kudos', 'kuwait', 'la', 'lab', 'labels', 'labor', 'labour', 'labourers', 'labs', 'lack', 'lacking', 'ladies', 'lady', 'lagos', 'laid', 'lake', 'lakh', 'lamb', 'land', 'landlords', 'landscape', 'lane', 'lanes', 'language', 'laptops', 'large', 'largely', 'larger', 'largest', 'las', 'last', 'lasting', 'lasts', 'late', 'lately', 'later', 'latest', 'latex', 'latin', 'latter', 'laugh', 'laughed', 'laughing', 'laughter', 'launch', 'launched', 'launches', 'launching', 'laundry', 'law', 'lawmakers', 'laws', 'lawsuit', 'lawsuits', 'lawyer', 'lay', 'layer', 'layers', 'layoffs', 'lazy', 'lbc', 'lbs', 'le', 'lead', 'leader', 'leaders', 'leadership', 'leading', 'leads', 'learn', 'learned', 'learning', 'learnt', 'least', 'leave', 'leaves', 'leaving', 'led', 'lee', 'left', 'leg', 'legal', 'legislation', 'legit', 'leilani', 'leisure', 'lenders', 'lending', 'length', 'les', 'less', 'lesson', 'lessons', 'let', 'lets', 'letter', 'letters', 'letting', 'lettuce', 'letâ', 'level', 'levels', 'leverage', 'lhfang', 'library', 'license', 'licenses', 'lick', 'licked', 'licking', 'lidl', 'lidlgb', 'lie', 'lied', 'lies', 'life', 'lifeline', 'lifesaving', 'lifestyle', 'lifetime', 'lift', 'lifted', 'light', 'lights', 'like', 'likely', 'likes', 'limit', 'limited', 'limiting', 'limits', 'line', 'linen', 'lines', 'lineup', 'lingers', 'lining', 'link', 'linked', 'linkedin', 'links', 'liquid', 'liquidity', 'liquor', 'list', 'listed', 'listen', 'listening', 'listing', 'listings', 'lists', 'literally', 'litre', 'litres', 'little', 'live', 'lived', 'liverpool', 'lives', 'livestock', 'living', 'lka', 'll', 'lmao', 'lng', 'load', 'loaded', 'loading', 'loads', 'loaf', 'loan', 'loans', 'loblaws', 'local', 'locally', 'locals', 'located', 'location', 'locations', 'lock', 'lockdown', 'lockdown21', 'lockdowneffect', 'lockdownextension', 'lockdownnow', 'lockdowns', 'lockdownuk', 'lockdownuknow', 'locked', 'locusts', 'log', 'logic', 'logistical', 'logistics', 'logo', 'lol', 'london', 'londonlockdown', 'lonely', 'long', 'longer', 'longterm', 'loo', 'look', 'looked', 'looking', 'looks', 'looming', 'looroll', 'loose', 'looting', 'lord', 'lorry', 'los', 'losangeles', 'lose', 'loses', 'losing', 'loss', 'losses', 'lost', 'lot', 'lots', 'lottery', 'louis', 'love', 'loved', 'lovely', 'loving', 'low', 'lower', 'lowered', 'lowering', 'lowers', 'lowes', 'lowest', 'lowincome', 'lows', 'loyal', 'loyalty', 'lt', 'ltd', 'luck', 'luckily', 'lucky', 'lulu', 'lunch', 'lung', 'luxury', 'lvmh', 'lying', 'lysol', 'machine', 'machines', 'mad', 'maddow', 'made', 'madness', 'maga', 'magnitude', 'maharashtra', 'mail', 'mailonline', 'main', 'maine', 'mainly', 'mainstream', 'maintain', 'maintaining', 'maintenance', 'majeure', 'major', 'majority', 'make', 'maker', 'makers', 'makes', 'makeup', 'making', 'malaria', 'malaysia', 'malicious', 'mall', 'malls', 'man', 'manage', 'managed', 'management', 'manager', 'managers', 'managing', 'manchester', 'mandatory', 'mankind', 'manufacture', 'manufactured', 'manufacturer', 'manufacturers', 'manufacturing', 'many', 'map', 'mar', 'march', 'margins', 'marijuana', 'mark', 'marked', 'market', 'marketcrash', 'marketers', 'marketing', 'marketplace', 'marketresearch', 'markets', 'marking', 'marks', 'marksandspencer', 'mart', 'martin', 'maryland', 'mask', 'masked', 'masks', 'masks4all', 'mass', 'massachusetts', 'masses', 'massive', 'massively', 'match', 'mate', 'material', 'materials', 'math', 'matt', 'matter', 'matters', 'matthancock', 'max', 'maximum', 'may', 'maybe', 'mayor', 'mbs', 'mbuhari', 'mcdonalds', 'mcdonaldâ', 'mckinsey', 'mco', 'md', 'meal', 'meals', 'mean', 'meaning', 'means', 'meant', 'meantime', 'meanwhile', 'measure', 'measures', 'meat', 'meats', 'med', 'media', 'medical', 'medicare', 'medication', 'medications', 'medicine', 'medicines', 'medics', 'medium', 'meds', 'medtwitter', 'meet', 'meeting', 'meetings', 'meets', 'mega', 'melbourne', 'member', 'members', 'membership', 'meme', 'memes', 'men', 'mental', 'mentalhealth', 'mention', 'mentioned', 'menu', 'merch', 'merchandise', 'merchants', 'merkel', 'mess', 'message', 'messages', 'messaging', 'met', 'metal', 'metals', 'meter', 'meters', 'method', 'methods', 'metre', 'metres', 'metro', 'mexico', 'meâ', 'miami', 'michael', 'michigan', 'microsoft', 'mid', 'middle', 'midnight', 'midst', 'midwest', 'mifi', 'might', 'migrant', 'mike', 'mild', 'mile', 'miles', 'military', 'milk', 'milkman', 'millennials', 'million', 'millionaire', 'millions', 'mills', 'min', 'mind', 'mindful', 'minds', 'mindset', 'mine', 'miners', 'mini', 'minimal', 'minimise', 'minimize', 'minimum', 'mining', 'minister', 'ministers', 'ministry', 'minnesota', 'mins', 'minute', 'minutes', 'misery', 'misinformation', 'misleading', 'miss', 'missed', 'missing', 'mission', 'missouri', 'mistakes', 'mitigate', 'mix', 'mixed', 'mkt', 'ml', 'mn', 'mo', 'moaning', 'mobile', 'mobility', 'mode', 'model', 'models', 'modern', 'modi', 'mohfwindia', 'mohkenya', 'mom', 'moment', 'moments', 'momentum', 'moms', 'monday', 'mondaymorning', 'mondaymotivation', 'mondaymotivaton', 'mondaythoughts', 'monetary', 'money', 'monitor', 'monitoring', 'monopoly', 'month', 'monthly', 'months', 'mood', 'moody', 'moral', 'moratorium', 'moreover', 'morning', 'moron', 'morons', 'morrison', 'morrisons', 'mortar', 'mortgage', 'mortgages', 'moscow', 'mostly', 'mother', 'mothers', 'motion', 'mount', 'mounting', 'mouth', 'mouths', 'move', 'moved', 'movement', 'movements', 'moves', 'movie', 'movies', 'moving', 'mp', 'mps', 'mr', 'mrx', 'msm', 'msnbc', 'mtn', 'much', 'multiple', 'multiyear', 'mum', 'mumbai', 'murphy', 'museveni', 'music', 'musicians', 'muslim', 'must', 'mutual', 'mystery', 'myths', 'n95', 'n95mask', 'n95masks', 'na', 'nail', 'name', 'named', 'names', 'nappies', 'narendramodi', 'narrative', 'nascent', 'nashville', 'nasty', 'nation', 'national', 'nations', 'nationwide', 'nationâ', 'natural', 'naturally', 'nature', 'navigate', 'navigating', 'nba', 'nbcnews', 'nc', 'near', 'nearby', 'nearest', 'nearly', 'nebraska', 'necessarily', 'necessary', 'necessities', 'necessity', 'need', 'needed', 'needing', 'needless', 'needs', 'needy', 'negative', 'negatively', 'negotiations', 'neighbor', 'neighborhood', 'neighborhoods', 'neighbors', 'neighbour', 'neighbourhood', 'neighbours', 'neither', 'nervous', 'net', 'netflix', 'netherlands', 'network', 'networks', 'never', 'new', 'newest', 'newjersey', 'newly', 'newnormal', 'news', 'newsletter', 'newspapers', 'newyork', 'newyorkcity', 'newzealand', 'next', 'nhs', 'nhscovidheroes', 'nhsheroes', 'nhsstaff', 'nhsuk', 'nhsworkers', 'ni', 'nice', 'nicely', 'nielsen', 'nigeria', 'nigerian', 'nigerians', 'night', 'nightmare', 'nights', 'nike', 'nine', 'nj', 'no', 'nobody', 'nofood', 'non', 'none', 'nonessential', 'nonperishable', 'nonprofit', 'nonprofits', 'nonsense', 'noodles', 'noon', 'nope', 'nordstrom', 'norm', 'normal', 'normalcy', 'normally', 'normalâ', 'north', 'northern', 'nose', 'note', 'noted', 'notes', 'nothing', 'notice', 'noticed', 'noticing', 'notification', 'novel', 'november', 'nowadays', 'nowhere', 'nowâ', 'npr', 'nsitharaman', 'nsw', 'number', 'numbers', 'numerous', 'nurse', 'nurses', 'nursing', 'nutrition', 'nutritious', 'nuts', 'ny', 'nyc', 'nycmayor', 'nygovcuomo', 'nys', 'nyse', 'nytimes', 'nz', 'nzherald', 'obesity', 'obey', 'obligations', 'observation', 'observations', 'observe', 'observed', 'observing', 'obvious', 'obviously', 'ocado', 'occupancy', 'occurred', 'ocd', 'october', 'odd', 'odisha', 'offer', 'offered', 'offering', 'offers', 'office', 'officer', 'officers', 'offices', 'official', 'officially', 'officials', 'offline', 'offset', 'often', 'oh', 'ohio', 'oil', 'oilandgas', 'oilprice', 'oilprices', 'oilpricewar', 'oilproducing', 'ok', 'okay', 'oklahoma', 'old', 'older', 'olympics', 'oman', 'omg', 'one', 'ones', 'ongoing', 'onion', 'online', 'onlineshopping', 'onpoli', 'onset', 'ontario', 'onto', 'oott', 'op', 'opec', 'open', 'opened', 'opening', 'openings', 'opens', 'operate', 'operating', 'operation', 'operational', 'operations', 'operator', 'operators', 'opinion', 'opinions', 'opportunistic', 'opportunities', 'opportunity', 'opposed', 'opposite', 'opposition', 'opt', 'optimism', 'optimistic', 'option', 'options', 'orange', 'order', 'ordered', 'ordering', 'orders', 'ordinary', 'oregon', 'org', 'organic', 'organisation', 'organisations', 'organised', 'organization', 'organizations', 'organized', 'original', 'others', 'otherwise', 'ottawa', 'ounce', 'outbreak', 'outbreaks', 'outcomes', 'outdoor', 'outdoors', 'outfit', 'outlet', 'outlets', 'outlines', 'outlook', 'output', 'outrageous', 'outside', 'outâ', 'overall', 'overcharging', 'overcome', 'overdrive', 'overheard', 'overlooked', 'overnight', 'overseas', 'oversupply', 'overtime', 'overwhelmed', 'overwhelming', 'owe', 'owing', 'owned', 'owner', 'owners', 'owns', 'oz', 'pa', 'pace', 'pacific', 'pack', 'package', 'packaged', 'packages', 'packaging', 'packed', 'packet', 'packets', 'packs', 'pads', 'page', 'pages', 'paid', 'pain', 'paint', 'pair', 'paisley', 'pakistan', 'pandemia', 'pandemic', 'pandemics', 'pandemicâ', 'panel', 'panic', 'panicbuy', 'panicbuyers', 'panicbuying', 'panicbuyinguk', 'panickbuying', 'panickbuyinguk', 'panicked', 'panicking', 'panicshopping', 'panicâ', 'pantries', 'pantry', 'pants', 'paper', 'papers', 'papertowels', 'paracetamol', 'paramedics', 'paranoid', 'parcel', 'parcels', 'parent', 'parents', 'park', 'parking', 'parks', 'parliament', 'part', 'partial', 'participating', 'particles', 'particular', 'particularly', 'parties', 'partner', 'partnered', 'partnering', 'partners', 'partnership', 'parts', 'parttime', 'party', 'pass', 'passed', 'passengers', 'passes', 'passing', 'passover', 'past', 'pasta', 'patel', 'path', 'pathetic', 'patience', 'patient', 'patients', 'patrons', 'pattern', 'patterns', 'paul', 'pause', 'paused', 'pay', 'paycheck', 'payday', 'paying', 'payment', 'payments', 'paypal', 'pays', 'pc', 'pe', 'peace', 'peak', 'peas', 'peeps', 'pelosi', 'penalties', 'pending', 'pennsylvania', 'penny', 'pension', 'pensioners', 'people', 'peoples', 'peopleâ', 'per', 'percent', 'percentage', 'perceptions', 'perfect', 'perfectly', 'performance', 'performing', 'perfume', 'perhaps', 'period', 'perishable', 'permanent', 'permanently', 'permission', 'permitted', 'person', 'personal', 'personally', 'personnel', 'persons', 'perspective', 'perspectives', 'pet', 'peter', 'petition', 'petrochemical', 'petrochemicals', 'petrol', 'petroleum', 'petrolprice', 'pets', 'ph', 'pharma', 'pharmaceutical', 'pharmacies', 'pharmacists', 'pharmacy', 'phase', 'philippines', 'phishing', 'phone', 'phones', 'photo', 'photography', 'photos', 'physical', 'physicaldistancing', 'physically', 'pic', 'pick', 'picked', 'picking', 'picknpay', 'pickup', 'pics', 'picture', 'pictures', 'piece', 'pieces', 'piersmorgan', 'pile', 'piled', 'piling', 'pin', 'pipeline', 'piss', 'pissed', 'pittsburgh', 'pivot', 'pivoting', 'pivots', 'pizza', 'place', 'placed', 'places', 'placing', 'plague', 'plain', 'plan', 'plane', 'planet', 'planned', 'planning', 'plans', 'plant', 'planting', 'plants', 'plastic', 'plate', 'platform', 'platforms', 'play', 'played', 'player', 'players', 'playing', 'plea', 'pleasant', 'please', 'pleased', 'pledge', 'pledges', 'plentiful', 'plenty', 'plexiglass', 'pls', 'plummet', 'plummeted', 'plummeting', 'plummets', 'plunge', 'plunged', 'plunges', 'plunging', 'plus', 'ply', 'plz', 'pm', 'pmoindia', 'pneumonia', 'pocket', 'pockets', 'podcast', 'poetry', 'point', 'pointed', 'pointing', 'pointless', 'points', 'police', 'policies', 'policy', 'polish', 'polite', 'political', 'politicians', 'politics', 'poll', 'pollution', 'pool', 'poop', 'poor', 'poorer', 'poorly', 'pop', 'popped', 'popping', 'popular', 'population', 'populations', 'pork', 'port', 'portable', 'portal', 'portfolio', 'portion', 'pos', 'pose', 'posed', 'poses', 'position', 'positions', 'positive', 'positives', 'possibility', 'possible', 'possibly', 'post', 'postal', 'postcoronavirus', 'postcovid19', 'posted', 'posting', 'postmen', 'postpone', 'postponed', 'posts', 'pot', 'potato', 'potatoes', 'potential', 'potentially', 'potus', 'poultry', 'pound', 'pounds', 'poverty', 'powder', 'power', 'powerful', 'powers', 'ppe', 'ppes', 'ppl', 'pr', 'practical', 'practice', 'practiced', 'practices', 'practicing', 'practise', 'practising', 'praise', 'praised', 'prank', 'pray', 'prayer', 'prayers', 'praying', 'pre', 'precaution', 'precautionary', 'precautions', 'precious', 'precovid19', 'predict', 'predicted', 'predictions', 'predicts', 'prefer', 'preferences', 'preferred', 'pregnant', 'premier', 'premises', 'premium', 'premiums', 'prep', 'preparation', 'prepare', 'prepared', 'preparedness', 'prepares', 'preparing', 'prepper', 'preppers', 'prepping', 'pres', 'prescription', 'prescriptions', 'presence', 'present', 'presented', 'presents', 'preserve', 'president', 'presidential', 'press', 'pressure', 'pressures', 'pretending', 'pretty', 'prevailing', 'prevent', 'preventing', 'prevention', 'preventive', 'prevents', 'previous', 'previously', 'prey', 'price', 'priced', 'pricegougers', 'pricegouging', 'prices', 'pricesâ', 'pricing', 'pricks', 'primarily', 'primary', 'prime', 'print', 'printed', 'printing', 'prior', 'priorities', 'prioritise', 'prioritize', 'prioritizing', 'priority', 'prison', 'privacy', 'private', 'privilege', 'privileged', 'pro', 'proactive', 'probably', 'problem', 'problems', 'procedures', 'proceeds', 'process', 'processed', 'processes', 'processing', 'processors', 'procurement', 'produce', 'produced', 'producer', 'producers', 'produces', 'producing', 'product', 'production', 'productive', 'products', 'prof', 'professional', 'professionals', 'professor', 'profile', 'profit', 'profiteer', 'profiteering', 'profiteers', 'profiting', 'profits', 'program', 'programme', 'programs', 'progress', 'project', 'projected', 'projects', 'promise', 'promised', 'promising', 'promote', 'promoting', 'promotion', 'prompted', 'prompts', 'proof', 'prop', 'propaganda', 'proper', 'properly', 'properties', 'property', 'proposal', 'proposals', 'propose', 'proposed', 'prosecuted', 'prospect', 'prospects', 'protect', 'protected', 'protecting', 'protection', 'protections', 'protective', 'protects', 'protectthenhs', 'protein', 'protest', 'protocol', 'protocols', 'proud', 'prove', 'proved', 'proven', 'proves', 'provide', 'provided', 'provider', 'providers', 'provides', 'providing', 'province', 'proving', 'provision', 'provisions', 'proximity', 'ps', 'psa', 'psychologist', 'psychology', 'pt', 'pub', 'public', 'publication', 'publichealth', 'publicly', 'published', 'publix', 'pubs', 'pull', 'pulled', 'pulling', 'pulse', 'pulses', 'pulte', 'pump', 'pumping', 'pumps', 'punch', 'pune', 'purchase', 'purchased', 'purchases', 'purchasing', 'pure', 'purell', 'purpose', 'purposely', 'purposes', 'push', 'pushed', 'pushes', 'pushing', 'put', 'putin', 'puts', 'putting', 'puzzle', 'q1', 'q2', 'qampa', 'qanon', 'qatar', 'qualify', 'quality', 'quantities', 'quantity', 'quarantine', 'quarantineactivities', 'quarantineandchill', 'quarantinebirthday', 'quarantined', 'quarantinediaries', 'quarantinelife', 'quarantines', 'quarantining', 'quaratinelife', 'quarentinelife', 'quarter', 'quarterly', 'que', 'quebec', 'queens', 'queensland', 'question', 'questionable', 'questions', 'queue', 'queued', 'queueing', 'queues', 'queuing', 'quick', 'quicker', 'quickly', 'quicktake', 'quiet', 'quit', 'quite', 'quote', 'quoted', 'quotes', 'race', 'racing', 'racism', 'racist', 'radically', 'radio', 'raid', 'raided', 'raiding', 'rail', 'railways', 'rain', 'raise', 'raised', 'raises', 'raising', 'rakamoto', 'rally', 'ram', 'ramen', 'ramp', 'ramping', 'ran', 'ranchers', 'random', 'randomly', 'range', 'rant', 'rapid', 'rapidly', 'rare', 'rate', 'rates', 'rather', 'ratings', 'ration', 'rationed', 'rationing', 'rations', 'raw', 'rbi', 'rd', 're', 'reach', 'reached', 'reaches', 'reaching', 'react', 'reacting', 'reaction', 'reactions', 'read', 'readers', 'readily', 'reading', 'ready', 'real', 'realdonaldtrump', 'realestate', 'realise', 'realised', 'realistic', 'reality', 'realize', 'realized', 'realizing', 'really', 'realtime', 'realtor', 'reason', 'reasonable', 'reasons', 'reassure', 'reassuring', 'rebound', 'recap', 'receipt', 'receive', 'received', 'receives', 'receiving', 'recent', 'recently', 'recession', 'recipe', 'recipes', 'recipients', 'reckon', 'recognize', 'recommend', 'recommendations', 'recommended', 'recommends', 'record', 'recorded', 'records', 'recover', 'recovered', 'recovering', 'recovery', 'recruit', 'recruiting', 'recycling', 'red', 'redistribute', 'redistribution', 'reduce', 'reduced', 'reduces', 'reducing', 'reduction', 'reductions', 'reeling', 'refer', 'reference', 'reflect', 'reflected', 'reflects', 'reform', 'refrain', 'refugees', 'refund', 'refunds', 'refuse', 'refused', 'refuses', 'refusing', 'regard', 'regarding', 'regardless', 'regards', 'regime', 'region', 'regional', 'regions', 'register', 'registered', 'registers', 'registration', 'regular', 'regularly', 'regulate', 'regulated', 'regulation', 'regulations', 'regulators', 'regulatory', 'relate', 'related', 'relating', 'relation', 'relationship', 'relationships', 'relative', 'relatively', 'relatives', 'relax', 'relaxed', 'release', 'released', 'releases', 'relevant', 'reliable', 'reliance', 'relief', 'relieve', 'religion', 'rely', 'relying', 'remain', 'remained', 'remaining', 'remains', 'remember', 'remembered', 'remind', 'reminded', 'reminder', 'reminding', 'reminds', 'remote', 'remotely', 'remove', 'removed', 'removing', 'rent', 'rental', 'rentals', 'renting', 'rents', 'reopen', 'reopening', 'rep', 'repair', 'repeat', 'replace', 'replacement', 'replenish', 'replied', 'reply', 'report', 'reported', 'reportedly', 'reporter', 'reporters', 'reporting', 'reports', 'repost', 'represent', 'representatives', 'representing', 'republican', 'republicans', 'request', 'requested', 'requesting', 'requests', 'require', 'required', 'requirements', 'requires', 'requiring', 'rescue', 'research', 'researchers', 'reserve', 'reserved', 'reserves', 'reshaping', 'resident', 'residential', 'residents', 'resilience', 'resilient', 'resist', 'resort', 'resource', 'resources', 'respect', 'respected', 'respectful', 'respecting', 'respectively', 'respirators', 'respiratory', 'respond', 'responded', 'respondents', 'responder', 'responders', 'responding', 'responds', 'response', 'responses', 'responsibility', 'responsible', 'responsibly', 'rest', 'restaurant', 'restaurants', 'restock', 'restocked', 'restocking', 'restrict', 'restricted', 'restricting', 'restriction', 'restrictions', 'result', 'resulted', 'resulting', 'results', 'resume', 'retail', 'retaildive', 'retailer', 'retailers', 'retailing', 'retailnews', 'retailtech', 'retailworkers', 'rethink', 'retired', 'retirement', 'return', 'returned', 'returning', 'returns', 'retweet', 'reusable', 'reuters', 'reveal', 'revealed', 'reveals', 'revenue', 'revenues', 'review', 'revised', 'revolution', 'reward', 'rewards', 'ri', 'rice', 'rich', 'richard', 'richest', 'rid', 'ride', 'ridiculous', 'right', 'rightly', 'rights', 'ring', 'riots', 'rip', 'ripoff', 'ripped', 'ripping', 'ripple', 'rise', 'risen', 'rises', 'rishisunak', 'rising', 'risk', 'risking', 'risks', 'risky', 'rn', 'road', 'roads', 'rob', 'robbery', 'robert', 'robocalls', 'robot', 'robots', 'robust', 'rock', 'role', 'roles', 'roll', 'rolled', 'rolling', 'rolls', 'rome', 'rona', 'roof', 'room', 'rooms', 'rose', 'rot', 'rough', 'roughly', 'round', 'rounds', 'roundtable', 'roundup', 'route', 'routes', 'routine', 'routines', 'row', 'royal', 'rs', 'rt', 'rub', 'rubber', 'rubbing', 'rude', 'rule', 'rules', 'rumours', 'run', 'running', 'runs', 'rural', 'rus', 'rush', 'rushed', 'rushing', 'russia', 'russian', 'russians', 'rwanda', 'rx', 'sa', 'sacrifice', 'sacrifices', 'sad', 'sadly', 'safe', 'safeguard', 'safely', 'safer', 'saferathome', 'safest', 'safety', 'safetyfirst', 'safeway', 'safeâ', 'said', 'sainsbury', 'sainsburys', 'sainsburyâ', 'sake', 'salaries', 'salary', 'sale', 'sales', 'salt', 'salute', 'sample', 'samples', 'sampp', 'san', 'sanctions', 'sandwich', 'sanitary', 'sanitation', 'sanitiser', 'sanitisers', 'sanitization', 'sanitize', 'sanitized', 'sanitizer', 'sanitizers', 'sanitizerâ', 'sanitizing', 'sanity', 'sars', 'sarscov2', 'sat', 'saturday', 'saturdaymorning', 'saturdaythoughts', 'sauce', 'saudi', 'saudiarabia', 'saudis', 'save', 'saved', 'saving', 'savings', 'saw', 'say', 'saying', 'says', 'sc', 'scale', 'scam', 'scammers', 'scams', 'scarce', 'scarcity', 'scare', 'scared', 'scarf', 'scary', 'scenario', 'scenarios', 'scene', 'scenes', 'scent', 'schedule', 'scheduled', 'scheme', 'schemes', 'school', 'schools', 'science', 'sciences', 'scientific', 'scientists', 'scmpnews', 'score', 'scored', 'scores', 'scotland', 'scott', 'scottish', 'scottmorrisonmp', 'scramble', 'scrambling', 'screen', 'screening', 'screens', 'screw', 'screwed', 'scrubs', 'scum', 'se', 'sea', 'seafood', 'search', 'searches', 'searching', 'season', 'seasonal', 'seattle', 'second', 'seconds', 'secret', 'secretary', 'section', 'sector', 'sectors', 'secure', 'securing', 'security', 'see', 'seed', 'seeds', 'seeing', 'seek', 'seeking', 'seeks', 'seem', 'seemed', 'seems', 'seen', 'sees', 'segment', 'select', 'selected', 'selection', 'self', 'selfcare', 'selfemployed', 'selfish', 'selfishness', 'selfisolate', 'selfisolating', 'selfisolation', 'selfquarantine', 'sell', 'seller', 'sellers', 'selling', 'sells', 'sem', 'sen', 'senate', 'senatemajldr', 'senator', 'senators', 'send', 'sending', 'sends', 'senior', 'seniors', 'sense', 'sensible', 'sensibly', 'sensitive', 'sent', 'sentence', 'sentiment', 'seo', 'separate', 'sephora', 'series', 'serious', 'seriously', 'seriousness', 'serve', 'served', 'serves', 'service', 'services', 'serving', 'session', 'set', 'sets', 'setting', 'settle', 'seven', 'several', 'severe', 'severely', 'severity', 'sex', 'sf', 'shake', 'shale', 'shall', 'shame', 'shameful', 'shameless', 'shaming', 'shampoo', 'shape', 'shaping', 'share', 'shared', 'shareholders', 'shares', 'sharing', 'sharp', 'sharply', 'shaws', 'shed', 'sheep', 'sheer', 'sheet', 'sheets', 'shelf', 'shell', 'shelter', 'shelteringinplace', 'shelterinplace', 'shelters', 'shelves', 'shes', 'sheâ', 'shield', 'shields', 'shift', 'shifted', 'shifting', 'shifts', 'ship', 'shipment', 'shipments', 'shipped', 'shipping', 'ships', 'shirt', 'shit', 'shits', 'shitty', 'shock', 'shocked', 'shocking', 'shocks', 'shoes', 'shoot', 'shooting', 'shop', 'shopify', 'shopkeeper', 'shopkeepers', 'shoplocal', 'shoponline', 'shopped', 'shopper', 'shoppers', 'shopping', 'shoppingonline', 'shoppingâ', 'shoprite', 'shopritestores', 'shops', 'shore', 'short', 'shortage', 'shortages', 'shortterm', 'shot', 'shoulder', 'shouldnt', 'shouldnâ', 'shout', 'shoutout', 'show', 'showed', 'shower', 'showing', 'shown', 'shows', 'shrinking', 'sht', 'shut', 'shutdown', 'shutdowns', 'shutoffs', 'shuts', 'shuttered', 'shutting', 'sick', 'sickening', 'sickness', 'side', 'sight', 'sign', 'signage', 'signal', 'signals', 'signed', 'significant', 'significantly', 'signing', 'signs', 'silly', 'silver', 'similar', 'simple', 'simply', 'simulation', 'since', 'singapore', 'singing', 'single', 'sink', 'sir', 'sister', 'sit', 'site', 'sites', 'sitting', 'situation', 'situations', 'six', 'size', 'sizes', 'sketch', 'skill', 'skilled', 'skills', 'skin', 'skincare', 'skip', 'sky', 'skynews', 'skype', 'skyrocket', 'skyrocketed', 'skyrocketing', 'skytv', 'skyuk', 'slammed', 'slap', 'slash', 'slashed', 'slashes', 'slashing', 'sleep', 'slide', 'slides', 'slightly', 'slip', 'slot', 'slots', 'slow', 'slowdown', 'slowed', 'slower', 'slowing', 'slowly', 'slows', 'slump', 'small', 'smallbiz', 'smallbusiness', 'smaller', 'smart', 'smartphone', 'smell', 'smh', 'smile', 'smiling', 'smith', 'smm', 'smoke', 'smoking', 'smooth', 'sms', 'snack', 'snacks', 'snap', 'snapshot', 'sneeze', 'sneezed', 'sneezes', 'sneezing', 'soap', 'soaps', 'soar', 'soared', 'soaring', 'soars', 'sobeys', 'socal', 'social', 'socialdistanacing', 'socialdistance', 'socialdistancing', 'socialdistancingnow', 'socialism', 'socialist', 'socially', 'socialmedia', 'societies', 'society', 'soft', 'software', 'sold', 'soldiers', 'solely', 'solid', 'solidarity', 'solution', 'solutions', 'solve', 'solved', 'somebody', 'somehow', 'someone', 'something', 'sometimes', 'somewhat', 'somewhere', 'son', 'song', 'soon', 'sooner', 'sorry', 'sort', 'sought', 'soul', 'sound', 'sounds', 'soup', 'source', 'sources', 'sourcing', 'south', 'southafrica', 'southern', 'soybean', 'space', 'spaces', 'spain', 'spam', 'spanish', 'spar', 'spare', 'sparked', 'sparking', 'sparks', 'spat', 'speak', 'speakerpelosi', 'speaking', 'speaks', 'special', 'specialist', 'specially', 'species', 'specific', 'specifically', 'speech', 'speed', 'spell', 'spend', 'spending', 'spent', 'spike', 'spiked', 'spikes', 'spiking', 'spin', 'spirit', 'spirits', 'spit', 'spitting', 'spoke', 'spoken', 'sports', 'spot', 'spots', 'spotted', 'spray', 'sprayed', 'sprays', 'spread', 'spreading', 'spreads', 'spree', 'spring', 'spx', 'spy', 'square', 'squeeze', 'srilanka', 'ssa', 'ssupnow', 'st', 'stability', 'stabilize', 'stable', 'stackers', 'stacking', 'staff', 'staffing', 'staffs', 'stage', 'stages', 'staggering', 'stake', 'stakeholders', 'stall', 'stalls', 'stamps', 'stance', 'stand', 'standard', 'standards', 'standing', 'stands', 'standstill', 'staple', 'staples', 'star', 'starbucks', 'stark', 'stars', 'start', 'started', 'starting', 'starts', 'startup', 'startups', 'starvation', 'starve', 'starving', 'stash', 'state', 'stated', 'statement', 'states', 'statewide', 'stateâ', 'stating', 'station', 'stations', 'statistics', 'stats', 'status', 'stay', 'stayathome', 'stayathomeandstaysafe', 'stayathomechallenge', 'stayathomeorder', 'stayathomesavelives', 'stayed', 'stayhealthy', 'stayhome', 'stayhomechallenge', 'stayhomesavelives', 'stayhomestaysafe', 'staying', 'stays', 'staysafe', 'staysafestayhome', 'staysafeug', 'staythefhome', 'steady', 'steal', 'stealing', 'steam', 'steel', 'steep', 'stem', 'step', 'stepped', 'stepping', 'steps', 'steve', 'stick', 'sticking', 'sticks', 'still', 'stimulate', 'stimulus', 'stock', 'stocked', 'stockers', 'stocking', 'stockmarket', 'stockpile', 'stockpiled', 'stockpilers', 'stockpiling', 'stockpilinguk', 'stocks', 'stockup', 'stolen', 'stood', 'stop', 'stophoarding', 'stoppanicbuying', 'stopped', 'stopping', 'stops', 'stopstockpiling', 'stopthespread', 'storage', 'store', 'stores', 'storeâ', 'stories', 'storing', 'storm', 'story', 'straight', 'strain', 'strained', 'stranded', 'strange', 'stranger', 'strangers', 'strategic', 'strategies', 'strategy', 'stream', 'streaming', 'street', 'streets', 'strength', 'stress', 'stressed', 'stressful', 'strict', 'stricter', 'strictly', 'strike', 'strikes', 'strip', 'stripped', 'stripping', 'strong', 'stronger', 'strongly', 'struck', 'structural', 'structure', 'struggle', 'struggled', 'struggles', 'struggling', 'stuck', 'student', 'students', 'studies', 'study', 'studying', 'stuff', 'stuffs', 'stupid', 'stupidity', 'style', 'sub', 'subject', 'submit', 'subscribe', 'subscription', 'subsequent', 'subsides', 'substantial', 'substantially', 'substitute', 'suburban', 'success', 'successful', 'successfully', 'suck', 'sucks', 'sudden', 'suddenly', 'suffer', 'suffered', 'suffering', 'sufficient', 'sugar', 'suggest', 'suggested', 'suggesting', 'suggestion', 'suggestions', 'suggests', 'suit', 'suits', 'sum', 'summary', 'summer', 'sun', 'sunday', 'sundaymorning', 'sundaythoughts', 'sunshine', 'super', 'superheroes', 'supermarket', 'supermarkets', 'supermarketâ', 'supplements', 'supplied', 'supplier', 'suppliers', 'supplies', 'supply', 'supplychain', 'supplychains', 'supplying', 'support', 'supported', 'supporting', 'supportlocal', 'supports', 'suppose', 'supposed', 'sure', 'surely', 'surface', 'surfaces', 'surge', 'surged', 'surges', 'surgical', 'surging', 'surplus', 'surprise', 'surprised', 'surprising', 'surprisingly', 'surreal', 'surrounding', 'survey', 'surveyed', 'surveys', 'survival', 'survivalist', 'survive', 'survived', 'surviving', 'susannareid100', 'susceptible', 'suspect', 'suspected', 'suspend', 'suspended', 'suspending', 'suspends', 'suspension', 'suspicious', 'sustain', 'sustainability', 'sustainable', 'swear', 'sweep', 'sweeping', 'sweet', 'swiss', 'switch', 'switched', 'switching', 'switzerland', 'sydney', 'symbol', 'symptom', 'symptoms', 'system', 'systems', 'sâ', 'table', 'tables', 'tablets', 'tackle', 'tackling', 'tactics', 'tag', 'take', 'takeaway', 'takeaways', 'taken', 'takeout', 'takes', 'taking', 'talk', 'talked', 'talking', 'talks', 'tampa', 'tank', 'tanks', 'tap', 'tape', 'target', 'targeted', 'targeting', 'targets', 'tariffs', 'task', 'tasks', 'taste', 'tata', 'taught', 'tax', 'taxes', 'taxi', 'taxpayers', 'tea', 'teach', 'teachers', 'teaching', 'team', 'teams', 'tearful', 'tears', 'tech', 'technical', 'technicians', 'technologies', 'technology', 'teen', 'teenagers', 'teens', 'telecom', 'telegraph', 'telehealth', 'telemedicine', 'telephone', 'television', 'tell', 'telling', 'tells', 'temp', 'temperature', 'temperatures', 'temporarily', 'temporary', 'ten', 'tenants', 'tennessee', 'tensions', 'term', 'terminal', 'terms', 'terrible', 'terrified', 'terrifying', 'territory', 'terror', 'terroristic', 'tesco', 'tescos', 'test', 'tested', 'testing', 'tests', 'texans', 'texas', 'text', 'texts', 'tf', 'tfl', 'th', 'thailand', 'thank', 'thanked', 'thankful', 'thankfully', 'thanking', 'thanks', 'thankyou', 'thats', 'thatâ', 'the', 'theaters', 'theft', 'thehill', 'theme', 'theory', 'therapy', 'there', 'therefore', 'theres', 'thereâ', 'thermometer', 'thermometers', 'thesun', 'thewalkingdead', 'theyll', 'theyre', 'theyve', 'theyâ', 'theâ', 'thick', 'thin', 'thing', 'things', 'think', 'thinking', 'thinks', 'thinkwithgoogle', 'third', 'this', 'tho', 'thoroughly', 'though', 'thought', 'thoughtful', 'thoughts', 'thousand', 'thousands', 'thread', 'threat', 'threaten', 'threatened', 'threatening', 'threatens', 'threats', 'three', 'thresholds', 'threw', 'thrive', 'throat', 'throughout', 'throw', 'throwing', 'thrown', 'thru', 'thursday', 'thursdaythoughts', 'thus', 'thx', 'ticket', 'tickets', 'tied', 'tight', 'tiktok', 'til', 'till', 'tills', 'tim', 'time', 'timeline', 'timely', 'times', 'timing', 'tin', 'tinned', 'tins', 'tiny', 'tip', 'tipping', 'tips', 'tire', 'tired', 'tirelessly', 'tissue', 'tissues', 'to', 'tobacco', 'today', 'todays', 'todayâ', 'together', 'togo', 'toilet', 'toiletpaper', 'toiletpaperapocalypse', 'toiletpaperchallenge', 'toiletpapercrisis', 'toiletpaperemergency', 'toiletpapergate', 'toiletpaperpanic', 'toiletpapershortage', 'toiletpaperwars', 'toiletries', 'toiletroll', 'toiletrollchallenge', 'toilets', 'tokyo', 'told', 'toll', 'tom', 'tomatoes', 'tomorrow', 'ton', 'tonight', 'tonnes', 'tons', 'took', 'tool', 'tools', 'top', 'topic', 'topics', 'tops', 'toronto', 'tory', 'total', 'totally', 'touch', 'touched', 'touching', 'tough', 'tougher', 'tour', 'tourism', 'tourists', 'toward', 'towards', 'towel', 'towels', 'town', 'towns', 'toxic', 'toys', 'toâ', 'tp', 'track', 'tracked', 'tracker', 'tracking', 'trade', 'trader', 'traders', 'trading', 'traditional', 'traffic', 'tragedy', 'tragic', 'train', 'trained', 'training', 'trains', 'transaction', 'transactions', 'transfer', 'transfers', 'transformation', 'transformed', 'transit', 'transition', 'transmission', 'transmitted', 'transparency', 'transport', 'transportation', 'transunion', 'trapped', 'trash', 'travel', 'traveling', 'travelling', 'treat', 'treated', 'treating', 'treatment', 'treatments', 'treats', 'tree', 'tremendous', 'trend', 'trending', 'trends', 'trial', 'trials', 'trick', 'tried', 'tries', 'trigger', 'triggered', 'trillion', 'trip', 'triple', 'tripled', 'trips', 'trolley', 'trolleys', 'trollies', 'troops', 'trouble', 'truce', 'truck', 'truckers', 'trucking', 'trucks', 'trudeau', 'true', 'truly', 'trump', 'trump2020', 'trumppandemic', 'trumps', 'trumpvirus', 'trumpâ', 'trust', 'trusted', 'truth', 'try', 'trying', 'tshirt', 'tshirts', 'tube', 'tuesday', 'tuesdaythoughts', 'tumble', 'tumbled', 'tumbling', 'tuna', 'tune', 'tuned', 'turbo', 'turkey', 'turmoil', 'turn', 'turned', 'turning', 'turns', 'tv', 'tvs', 'tweet', 'tweeted', 'tweeting', 'tweets', 'twice', 'twisted', 'twitter', 'two', 'tx', 'type', 'types', 'typical', 'typically', 'uae', 'uber', 'ubereats', 'ufcw', 'uganda', 'ugh', 'ugly', 'uk', 'ukchange', 'ukgoverment', 'uklockdown', 'ukraine', 'uks', 'ukâ', 'ultimate', 'ultimately', 'un', 'unable', 'unacceptable', 'unavailable', 'unbelievable', 'uncertain', 'uncertainties', 'uncertainty', 'unchanged', 'underlying', 'understand', 'understanding', 'undervalued', 'underway', 'unemployed', 'unemployment', 'unexpected', 'unfair', 'unfairly', 'unfolding', 'unfortunately', 'unilever', 'union', 'unions', 'unique', 'unit', 'unite', 'united', 'unitedstates', 'units', 'unity', 'universal', 'universities', 'university', 'unknown', 'unless', 'unlike', 'unlikely', 'unlimited', 'unnecessarily', 'unnecessary', 'unpaid', 'unprecedented', 'unreal', 'unrest', 'unsafe', 'unscrupulous', 'unsung', 'unused', 'unusual', 'upcoming', 'update', 'updated', 'updates', 'updating', 'upends', 'upon', 'upper', 'ups', 'upset', 'upside', 'upstream', 'uptick', 'uptodate', 'upward', 'upâ', 'ur', 'urban', 'urge', 'urged', 'urgency', 'urgent', 'urgently', 'urges', 'urging', 'us', 'usa', 'usage', 'usatoday', 'usd', 'usda', 'use', 'used', 'useful', 'useless', 'user', 'users', 'uses', 'usfda', 'using', 'usps', 'usual', 'usually', 'usâ', 'utilities', 'utility', 'utmost', 'utter', 'utterly', 'uv', 'va', 'vacation', 'vaccine', 'vaccines', 'valid', 'valley', 'valuable', 'value', 'valued', 'values', 'van', 'vancouver', 'vans', 'variety', 'various', 'vast', 've', 'veg', 'vegan', 'vegas', 'vegetable', 'vegetables', 'vegetarian', 'veggies', 'vehicle', 'vehicles', 'vendor', 'vendors', 'venezuela', 'ventilator', 'ventilators', 'venture', 'ventured', 'venturing', 'vera', 'verbally', 'verge', 'verify', 'verizon', 'vermont', 'version', 'versus', 'via', 'vice', 'victim', 'victims', 'victoria', 'video', 'videos', 'view', 'views', 'vigilant', 'village', 'villages', 'violating', 'violence', 'viral', 'virginia', 'virtual', 'virtually', 'virus', 'viruscorona', 'viruses', 'virusâ', 'visa', 'visit', 'visited', 'visiting', 'visitors', 'visits', 'vital', 'vitamin', 'vitamins', 'vodafone', 'vodafoneuk', 'vodka', 'voice', 'volatile', 'volatility', 'volume', 'volumes', 'volunteer', 'volunteers', 'vote', 'voted', 'voting', 'voucher', 'vouchers', 'vp', 'vr', 'vs', 'vulnerability', 'vulnerable', 'wa', 'wage', 'wages', 'wait', 'waited', 'waiting', 'waitrose', 'waive', 'waived', 'waiving', 'wake', 'wakeup', 'wales', 'walgreens', 'walk', 'walked', 'walking', 'walks', 'wall', 'wallet', 'wallstreet', 'walmart', 'wankers', 'wanna', 'want', 'wanted', 'wanting', 'wants', 'war', 'ward', 'warehouse', 'warehouses', 'warehousing', 'warm', 'warn', 'warned', 'warning', 'warnings', 'warns', 'wars', 'wary', 'wash', 'washed', 'washing', 'washington', 'washingtonpost', 'washyourhands', 'wasnt', 'wasnâ', 'waste', 'wasted', 'wasting', 'watch', 'watchdog', 'watched', 'watching', 'water', 'wave', 'waves', 'way', 'ways', 'we', 'weak', 'weakened', 'weaker', 'wealth', 'wealthy', 'weapon', 'weapons', 'wear', 'wearing', 'weather', 'web', 'webinar', 'webpage', 'website', 'websitedesign', 'websites', 'wed', 'wedding', 'wednesday', 'wednesdaymotivation', 'wednesdaythoughts', 'wednesdaywisdom', 'weed', 'week', 'weekend', 'weekends', 'weekly', 'weeks', 'weekâ', 'wegmans', 'weighs', 'weight', 'weird', 'welcome', 'welfare', 'well', 'wellbeing', 'wellness', 'wells', 'went', 'wereinthistogether', 'werent', 'west', 'western', 'wet', 'weve', 'weâ', 'wfh', 'wfp', 'wh', 'whammy', 'whatever', 'whats', 'whatsapp', 'whatsoever', 'whatâ', 'wheat', 'wheel', 'wheels', 'whenever', 'wheres', 'wherever', 'whether', 'whilst', 'whiskey', 'white', 'whitehouse', 'whoever', 'whole', 'wholefoods', 'wholesale', 'wholesalers', 'whos', 'whose', 'whove', 'whoâ', 'wic', 'wide', 'widely', 'widespread', 'wife', 'wild', 'wildlife', 'william', 'willing', 'win', 'wind', 'window', 'windows', 'wine', 'wing', 'winner', 'winners', 'winning', 'wins', 'winter', 'wipe', 'wiped', 'wipes', 'wiping', 'wisconsin', 'wisdom', 'wise', 'wish', 'wishes', 'wishing', 'within', 'without', 'witness', 'witnessed', 'witnessing', 'wks', 'wo', 'woes', 'woke', 'woman', 'women', 'wonder', 'wonderful', 'wondering', 'wonders', 'wont', 'wonâ', 'woods', 'woolies', 'woolworths', 'word', 'words', 'wore', 'work', 'worked', 'worker', 'workers', 'workersâ', 'workforce', 'workfromhome', 'working', 'workingfromhome', 'workout', 'workplace', 'works', 'world', 'worldhealthday', 'worlds', 'worldwide', 'worldâ', 'worn', 'worried', 'worries', 'worry', 'worrying', 'worse', 'worst', 'worth', 'would', 'wouldnt', 'wouldnâ', 'wow', 'wrapped', 'write', 'writes', 'writing', 'writingcommnunity', 'written', 'wrong', 'wrote', 'wsj', 'wtf', 'wti', 'wuhan', 'wuhancoronavirus', 'wuhanvirus', 'wwd', 'wwii', 'ya', 'yall', 'yeah', 'year', 'years', 'yeast', 'yell', 'yelled', 'yellow', 'yep', 'yes', 'yesterday', 'yet', 'yo', 'york', 'yorkers', 'yorkshire', 'youd', 'youll', 'young', 'younger', 'youre', 'youth', 'youtube', 'youve', 'youâ', 'yoy', 'yr', 'yrs', 'yyc', 'yâ', 'zealand', 'zero', 'zimbabwe', 'zombie', 'zombies', 'zone', 'zoom']\n"
          ],
          "name": "stdout"
        }
      ]
    },
    {
      "cell_type": "code",
      "metadata": {
        "colab": {
          "base_uri": "https://localhost:8080/"
        },
        "id": "baqeY1_NDthi",
        "outputId": "bacf83b0-7681-4d86-e103-8c65a5eaf56e"
      },
      "source": [
        "len(vectorizer.get_feature_names())"
      ],
      "execution_count": 31,
      "outputs": [
        {
          "output_type": "execute_result",
          "data": {
            "text/plain": [
              "6844"
            ]
          },
          "metadata": {
            "tags": []
          },
          "execution_count": 31
        }
      ]
    },
    {
      "cell_type": "code",
      "metadata": {
        "colab": {
          "base_uri": "https://localhost:8080/"
        },
        "id": "oJ8tf5mBNFPF",
        "outputId": "10390a6a-0279-4238-9597-e63bdf119d2c"
      },
      "source": [
        "X.toarray().shape"
      ],
      "execution_count": 32,
      "outputs": [
        {
          "output_type": "execute_result",
          "data": {
            "text/plain": [
              "(41157, 6844)"
            ]
          },
          "metadata": {
            "tags": []
          },
          "execution_count": 32
        }
      ]
    },
    {
      "cell_type": "code",
      "metadata": {
        "id": "a0G5X5aMMTS_"
      },
      "source": [
        "import sys\n",
        "import numpy\n",
        "numpy.set_printoptions(threshold=sys.maxsize)"
      ],
      "execution_count": 33,
      "outputs": []
    },
    {
      "cell_type": "code",
      "metadata": {
        "colab": {
          "base_uri": "https://localhost:8080/",
          "height": 52
        },
        "id": "ZK_aF8jnNKmy",
        "outputId": "76152b0c-8060-470c-97ae-dc3e8382f81c"
      },
      "source": [
        "message.iloc[4065]['tokenized_message']"
      ],
      "execution_count": 34,
      "outputs": [
        {
          "output_type": "execute_result",
          "data": {
            "application/vnd.google.colaboratory.intrinsic+json": {
              "type": "string"
            },
            "text/plain": [
              "'least grocery store chains food companies audit products stocksell folks leaving products shelf time like food industry probably isnÂ\\x92t calling coronavirus'"
            ]
          },
          "metadata": {
            "tags": []
          },
          "execution_count": 34
        }
      ]
    },
    {
      "cell_type": "code",
      "metadata": {
        "colab": {
          "base_uri": "https://localhost:8080/"
        },
        "id": "qRa--2B7HEfj",
        "outputId": "cbb3befa-2e34-457c-f6fd-d196cf2aa667"
      },
      "source": [
        "sum(X.toarray()[4065])"
      ],
      "execution_count": 35,
      "outputs": [
        {
          "output_type": "execute_result",
          "data": {
            "text/plain": [
              "19"
            ]
          },
          "metadata": {
            "tags": []
          },
          "execution_count": 35
        }
      ]
    },
    {
      "cell_type": "code",
      "metadata": {
        "colab": {
          "base_uri": "https://localhost:8080/"
        },
        "id": "MkSfQxcyM8Zd",
        "outputId": "3e41984b-721d-47f1-a9d2-a099d8a035cb"
      },
      "source": [
        "X.toarray()[4065]"
      ],
      "execution_count": 36,
      "outputs": [
        {
          "output_type": "execute_result",
          "data": {
            "text/plain": [
              "array([0, 0, 0, 0, 0, 0, 0, 0, 0, 0, 0, 0, 0, 0, 0, 0, 0, 0, 0, 0, 0, 0,\n",
              "       0, 0, 0, 0, 0, 0, 0, 0, 0, 0, 0, 0, 0, 0, 0, 0, 0, 0, 0, 0, 0, 0,\n",
              "       0, 0, 0, 0, 0, 0, 0, 0, 0, 0, 0, 0, 0, 0, 0, 0, 0, 0, 0, 0, 0, 0,\n",
              "       0, 0, 0, 0, 0, 0, 0, 0, 0, 0, 0, 0, 0, 0, 0, 0, 0, 0, 0, 0, 0, 0,\n",
              "       0, 0, 0, 0, 0, 0, 0, 0, 0, 0, 0, 0, 0, 0, 0, 0, 0, 0, 0, 0, 0, 0,\n",
              "       0, 0, 0, 0, 0, 0, 0, 0, 0, 0, 0, 0, 0, 0, 0, 0, 0, 0, 0, 0, 0, 0,\n",
              "       0, 0, 0, 0, 0, 0, 0, 0, 0, 0, 0, 0, 0, 0, 0, 0, 0, 0, 0, 0, 0, 0,\n",
              "       0, 0, 0, 0, 0, 0, 0, 0, 0, 0, 0, 0, 0, 0, 0, 0, 0, 0, 0, 0, 0, 0,\n",
              "       0, 0, 0, 0, 0, 0, 0, 0, 0, 0, 0, 0, 0, 0, 0, 0, 0, 0, 0, 0, 0, 0,\n",
              "       0, 0, 0, 0, 0, 0, 0, 0, 0, 0, 0, 0, 0, 0, 0, 0, 0, 0, 0, 0, 0, 0,\n",
              "       0, 0, 0, 0, 0, 0, 0, 0, 0, 0, 0, 0, 0, 0, 0, 0, 0, 0, 0, 0, 0, 0,\n",
              "       0, 0, 0, 0, 0, 0, 0, 0, 0, 0, 0, 0, 0, 0, 0, 0, 0, 0, 0, 0, 0, 0,\n",
              "       0, 0, 0, 0, 0, 0, 0, 0, 0, 0, 0, 0, 0, 0, 0, 0, 0, 0, 0, 0, 0, 0,\n",
              "       0, 0, 0, 0, 0, 0, 0, 0, 0, 0, 0, 0, 0, 0, 0, 0, 0, 0, 0, 0, 0, 0,\n",
              "       0, 0, 0, 0, 0, 0, 0, 0, 0, 0, 0, 0, 0, 0, 0, 0, 0, 0, 0, 0, 0, 0,\n",
              "       0, 0, 0, 0, 0, 0, 0, 0, 0, 0, 0, 0, 0, 0, 0, 0, 0, 0, 0, 0, 0, 0,\n",
              "       0, 0, 0, 0, 0, 0, 0, 0, 0, 0, 0, 0, 0, 0, 0, 0, 0, 0, 0, 0, 0, 0,\n",
              "       0, 0, 0, 0, 0, 0, 0, 0, 0, 0, 0, 0, 0, 0, 0, 0, 0, 0, 0, 0, 0, 0,\n",
              "       0, 0, 0, 0, 0, 0, 0, 0, 0, 0, 0, 0, 0, 0, 0, 0, 0, 0, 0, 0, 0, 0,\n",
              "       0, 0, 0, 0, 0, 0, 0, 0, 0, 0, 0, 0, 0, 0, 0, 0, 0, 0, 0, 0, 0, 0,\n",
              "       0, 0, 0, 0, 0, 0, 0, 0, 0, 0, 0, 0, 0, 0, 0, 0, 0, 0, 0, 0, 0, 0,\n",
              "       0, 0, 0, 0, 0, 0, 0, 0, 0, 0, 0, 0, 0, 0, 0, 0, 0, 0, 0, 0, 0, 0,\n",
              "       0, 0, 0, 0, 0, 0, 0, 0, 0, 0, 0, 0, 0, 0, 0, 0, 0, 0, 0, 0, 0, 0,\n",
              "       0, 0, 0, 0, 0, 0, 0, 0, 0, 0, 0, 0, 0, 0, 0, 0, 0, 0, 0, 0, 0, 0,\n",
              "       0, 0, 0, 0, 0, 0, 0, 0, 0, 0, 0, 0, 0, 0, 0, 0, 0, 0, 0, 0, 0, 0,\n",
              "       0, 0, 0, 0, 0, 0, 0, 0, 0, 0, 0, 0, 0, 0, 0, 0, 0, 0, 0, 0, 0, 0,\n",
              "       0, 0, 0, 0, 0, 0, 0, 0, 0, 0, 0, 0, 0, 0, 0, 0, 0, 0, 0, 0, 0, 0,\n",
              "       0, 0, 0, 0, 0, 0, 0, 0, 0, 0, 0, 0, 0, 0, 0, 0, 0, 0, 0, 0, 0, 0,\n",
              "       0, 0, 0, 0, 0, 0, 0, 0, 0, 0, 0, 0, 0, 0, 0, 0, 0, 0, 0, 0, 0, 0,\n",
              "       0, 0, 0, 0, 0, 0, 0, 0, 0, 0, 0, 0, 0, 0, 0, 0, 0, 0, 0, 0, 0, 0,\n",
              "       0, 0, 0, 0, 0, 0, 0, 0, 0, 0, 0, 0, 0, 0, 0, 0, 0, 0, 0, 0, 0, 0,\n",
              "       0, 0, 0, 0, 0, 0, 0, 0, 0, 0, 0, 0, 0, 0, 0, 0, 0, 0, 0, 0, 0, 0,\n",
              "       0, 0, 0, 0, 0, 0, 0, 0, 0, 0, 0, 0, 0, 0, 0, 0, 0, 0, 0, 0, 0, 0,\n",
              "       0, 0, 0, 0, 0, 0, 0, 0, 0, 0, 0, 0, 0, 0, 0, 0, 0, 0, 0, 0, 0, 0,\n",
              "       0, 0, 0, 0, 0, 0, 0, 0, 0, 0, 0, 0, 0, 0, 0, 0, 0, 0, 0, 0, 0, 0,\n",
              "       0, 0, 0, 0, 0, 0, 0, 0, 0, 0, 0, 0, 0, 0, 0, 0, 0, 0, 0, 0, 0, 0,\n",
              "       0, 0, 0, 0, 0, 0, 0, 0, 0, 0, 0, 0, 0, 0, 0, 0, 0, 0, 0, 0, 0, 0,\n",
              "       0, 0, 0, 0, 0, 0, 0, 0, 0, 0, 0, 0, 0, 0, 0, 0, 0, 0, 0, 0, 0, 0,\n",
              "       0, 0, 0, 0, 0, 0, 0, 0, 0, 0, 0, 0, 0, 0, 0, 0, 0, 0, 0, 0, 0, 0,\n",
              "       0, 0, 0, 0, 0, 0, 0, 0, 0, 0, 0, 0, 0, 0, 0, 0, 0, 0, 0, 0, 0, 0,\n",
              "       0, 0, 0, 0, 0, 0, 0, 0, 0, 0, 0, 0, 0, 0, 0, 0, 0, 0, 0, 0, 0, 0,\n",
              "       0, 0, 0, 0, 0, 0, 0, 0, 0, 0, 0, 0, 0, 0, 0, 0, 0, 0, 0, 0, 0, 0,\n",
              "       1, 0, 0, 0, 0, 0, 0, 0, 0, 0, 0, 0, 0, 0, 0, 0, 0, 0, 0, 0, 0, 0,\n",
              "       0, 0, 0, 0, 0, 0, 0, 0, 0, 0, 0, 0, 0, 0, 0, 0, 0, 0, 0, 0, 0, 0,\n",
              "       0, 0, 0, 0, 0, 0, 0, 0, 0, 0, 0, 0, 0, 0, 0, 0, 0, 0, 0, 0, 0, 0,\n",
              "       0, 0, 0, 0, 0, 0, 0, 0, 0, 0, 0, 0, 0, 0, 0, 0, 0, 0, 0, 0, 0, 0,\n",
              "       0, 0, 0, 0, 0, 0, 0, 0, 0, 0, 0, 0, 0, 0, 0, 0, 0, 0, 0, 0, 0, 0,\n",
              "       0, 0, 0, 0, 0, 0, 0, 0, 0, 0, 0, 0, 1, 0, 0, 0, 0, 0, 0, 0, 0, 0,\n",
              "       0, 0, 0, 0, 0, 0, 0, 0, 0, 0, 0, 0, 0, 0, 0, 0, 0, 0, 0, 0, 0, 0,\n",
              "       0, 0, 0, 0, 0, 0, 0, 0, 0, 0, 0, 0, 0, 0, 0, 0, 0, 0, 0, 0, 0, 0,\n",
              "       0, 0, 0, 0, 0, 0, 0, 0, 0, 0, 0, 0, 0, 0, 0, 0, 0, 0, 0, 0, 0, 0,\n",
              "       0, 0, 0, 0, 0, 0, 0, 0, 0, 0, 0, 0, 0, 0, 0, 0, 0, 0, 0, 0, 0, 0,\n",
              "       0, 0, 0, 0, 0, 0, 0, 0, 0, 0, 0, 0, 0, 0, 0, 0, 0, 0, 0, 0, 0, 0,\n",
              "       0, 0, 0, 0, 0, 0, 0, 0, 0, 0, 0, 0, 0, 0, 0, 0, 0, 0, 0, 0, 0, 0,\n",
              "       0, 0, 0, 0, 0, 0, 0, 0, 0, 0, 0, 0, 0, 0, 0, 0, 0, 0, 0, 0, 0, 0,\n",
              "       0, 0, 0, 0, 0, 0, 0, 0, 0, 0, 0, 0, 0, 0, 0, 0, 0, 0, 0, 0, 0, 0,\n",
              "       0, 0, 0, 0, 0, 0, 0, 0, 0, 0, 0, 0, 0, 0, 0, 0, 0, 0, 0, 0, 0, 0,\n",
              "       0, 0, 0, 0, 1, 0, 0, 0, 0, 0, 0, 0, 0, 0, 0, 0, 0, 0, 0, 0, 0, 0,\n",
              "       0, 0, 0, 0, 0, 0, 0, 0, 0, 0, 0, 0, 0, 0, 0, 0, 0, 0, 0, 0, 0, 0,\n",
              "       0, 0, 0, 0, 0, 0, 0, 0, 0, 0, 0, 0, 0, 0, 0, 0, 0, 0, 0, 0, 0, 0,\n",
              "       0, 0, 0, 0, 0, 0, 0, 0, 0, 0, 0, 0, 0, 0, 0, 0, 0, 0, 0, 0, 0, 0,\n",
              "       0, 0, 0, 0, 0, 0, 0, 0, 0, 0, 0, 0, 0, 0, 0, 0, 0, 0, 0, 0, 0, 0,\n",
              "       0, 0, 0, 0, 0, 0, 0, 0, 0, 0, 0, 0, 0, 0, 0, 0, 0, 0, 0, 0, 0, 0,\n",
              "       0, 0, 0, 0, 0, 0, 0, 0, 0, 0, 0, 0, 0, 0, 0, 0, 0, 0, 0, 0, 0, 0,\n",
              "       0, 0, 0, 0, 0, 0, 0, 0, 0, 0, 0, 0, 0, 0, 0, 0, 0, 0, 0, 0, 0, 1,\n",
              "       0, 0, 0, 0, 0, 0, 0, 0, 0, 0, 0, 0, 0, 0, 0, 0, 0, 0, 0, 0, 0, 0,\n",
              "       0, 0, 0, 0, 0, 0, 0, 0, 0, 0, 0, 0, 0, 0, 0, 0, 0, 0, 0, 0, 0, 0,\n",
              "       0, 0, 0, 0, 0, 0, 0, 0, 0, 0, 0, 0, 0, 0, 0, 0, 0, 0, 0, 0, 0, 0,\n",
              "       0, 0, 0, 0, 0, 0, 0, 0, 0, 0, 0, 0, 0, 0, 0, 0, 0, 0, 0, 0, 0, 0,\n",
              "       0, 0, 0, 0, 0, 0, 0, 0, 0, 0, 0, 0, 0, 0, 0, 0, 0, 0, 0, 0, 0, 0,\n",
              "       0, 0, 0, 0, 0, 0, 0, 0, 0, 0, 0, 0, 0, 0, 0, 0, 0, 0, 0, 0, 0, 0,\n",
              "       0, 0, 0, 0, 0, 0, 0, 0, 0, 0, 0, 0, 0, 0, 0, 0, 0, 0, 0, 0, 0, 0,\n",
              "       0, 0, 0, 0, 0, 0, 0, 0, 0, 0, 0, 0, 0, 0, 0, 0, 0, 0, 0, 0, 0, 0,\n",
              "       0, 0, 0, 0, 0, 0, 0, 0, 0, 0, 0, 0, 0, 0, 0, 0, 0, 0, 0, 0, 0, 0,\n",
              "       0, 0, 0, 0, 0, 0, 0, 0, 0, 0, 0, 0, 0, 0, 0, 0, 0, 0, 0, 0, 0, 0,\n",
              "       0, 0, 0, 0, 0, 0, 0, 0, 0, 0, 0, 0, 0, 0, 0, 0, 0, 0, 0, 0, 0, 0,\n",
              "       0, 0, 0, 0, 0, 0, 0, 0, 0, 0, 0, 0, 0, 0, 0, 0, 0, 0, 0, 0, 0, 0,\n",
              "       0, 0, 0, 0, 0, 0, 0, 0, 0, 0, 0, 0, 0, 0, 0, 0, 0, 0, 0, 0, 0, 0,\n",
              "       0, 0, 0, 0, 0, 0, 0, 0, 0, 0, 0, 0, 0, 0, 0, 0, 0, 0, 0, 0, 0, 0,\n",
              "       0, 0, 0, 0, 0, 0, 0, 0, 0, 0, 0, 0, 0, 0, 0, 0, 0, 0, 0, 0, 0, 0,\n",
              "       0, 0, 0, 0, 0, 0, 0, 0, 0, 0, 0, 0, 0, 0, 0, 0, 0, 0, 0, 0, 0, 0,\n",
              "       0, 0, 0, 0, 0, 0, 0, 0, 0, 0, 0, 0, 0, 0, 0, 0, 0, 0, 0, 0, 0, 0,\n",
              "       0, 0, 0, 0, 0, 0, 0, 0, 0, 0, 0, 0, 0, 0, 0, 0, 0, 0, 0, 0, 0, 0,\n",
              "       0, 0, 0, 0, 0, 0, 0, 0, 0, 0, 0, 0, 0, 0, 0, 0, 0, 0, 0, 0, 0, 0,\n",
              "       0, 0, 0, 0, 0, 0, 0, 0, 0, 0, 0, 0, 0, 0, 0, 0, 0, 0, 0, 0, 0, 0,\n",
              "       0, 0, 0, 0, 0, 0, 0, 0, 0, 0, 0, 0, 0, 0, 0, 0, 0, 0, 0, 0, 0, 0,\n",
              "       0, 0, 0, 0, 0, 0, 0, 0, 0, 0, 0, 0, 0, 0, 0, 0, 0, 0, 0, 0, 0, 0,\n",
              "       0, 0, 0, 0, 0, 0, 0, 0, 0, 0, 0, 0, 0, 0, 0, 0, 0, 0, 0, 0, 0, 0,\n",
              "       0, 0, 0, 0, 0, 0, 0, 0, 0, 0, 0, 0, 0, 0, 0, 0, 0, 0, 0, 0, 0, 0,\n",
              "       0, 0, 0, 0, 0, 0, 0, 0, 0, 0, 0, 0, 0, 0, 0, 0, 0, 0, 0, 0, 0, 0,\n",
              "       0, 0, 0, 0, 0, 0, 0, 0, 0, 0, 0, 0, 0, 0, 0, 0, 0, 0, 0, 0, 0, 0,\n",
              "       0, 0, 0, 0, 0, 0, 0, 0, 0, 0, 0, 0, 0, 0, 0, 0, 0, 0, 0, 0, 0, 0,\n",
              "       0, 0, 0, 0, 0, 0, 0, 0, 0, 0, 0, 0, 0, 0, 0, 0, 0, 0, 0, 0, 0, 0,\n",
              "       0, 0, 0, 0, 0, 0, 0, 0, 0, 0, 0, 0, 0, 0, 0, 0, 0, 0, 0, 0, 0, 0,\n",
              "       0, 0, 0, 0, 0, 0, 0, 0, 0, 0, 0, 0, 0, 0, 0, 0, 0, 0, 0, 0, 0, 0,\n",
              "       0, 0, 0, 0, 0, 0, 0, 0, 0, 0, 0, 0, 0, 0, 0, 0, 0, 0, 0, 0, 0, 0,\n",
              "       0, 0, 0, 0, 0, 0, 0, 0, 0, 0, 0, 0, 0, 0, 0, 0, 0, 0, 0, 0, 0, 0,\n",
              "       0, 0, 0, 0, 0, 0, 0, 0, 0, 0, 0, 0, 0, 0, 0, 0, 0, 0, 0, 0, 0, 0,\n",
              "       0, 0, 0, 0, 0, 0, 0, 0, 0, 0, 0, 0, 0, 0, 0, 0, 0, 0, 0, 0, 0, 0,\n",
              "       0, 0, 0, 0, 0, 0, 0, 0, 0, 0, 0, 0, 0, 0, 0, 0, 0, 0, 0, 0, 0, 0,\n",
              "       0, 0, 0, 0, 0, 0, 0, 0, 0, 0, 0, 0, 0, 0, 0, 0, 0, 0, 0, 0, 0, 0,\n",
              "       0, 0, 0, 0, 0, 0, 0, 0, 0, 0, 0, 0, 0, 0, 0, 0, 0, 0, 0, 0, 0, 0,\n",
              "       0, 0, 0, 0, 0, 0, 0, 0, 0, 0, 0, 0, 0, 0, 0, 0, 0, 0, 0, 0, 0, 0,\n",
              "       0, 0, 0, 0, 0, 0, 0, 0, 0, 0, 0, 0, 0, 0, 0, 0, 0, 0, 0, 0, 0, 0,\n",
              "       0, 0, 0, 0, 0, 0, 0, 0, 0, 0, 0, 0, 0, 0, 0, 0, 0, 0, 0, 0, 0, 0,\n",
              "       0, 0, 0, 0, 0, 0, 0, 0, 0, 0, 0, 0, 0, 0, 0, 0, 0, 0, 0, 0, 0, 0,\n",
              "       0, 0, 0, 0, 0, 0, 0, 0, 0, 0, 0, 0, 0, 0, 0, 0, 0, 0, 0, 0, 0, 0,\n",
              "       0, 0, 0, 0, 0, 0, 0, 0, 0, 0, 0, 0, 0, 0, 0, 0, 0, 0, 0, 0, 0, 0,\n",
              "       0, 0, 0, 0, 0, 0, 0, 0, 0, 0, 0, 0, 0, 0, 0, 0, 0, 0, 0, 0, 0, 0,\n",
              "       0, 0, 0, 0, 0, 0, 0, 0, 0, 0, 0, 0, 0, 0, 0, 0, 0, 0, 0, 0, 0, 0,\n",
              "       0, 0, 0, 0, 0, 0, 0, 0, 0, 0, 0, 0, 0, 0, 0, 0, 0, 0, 0, 0, 0, 0,\n",
              "       0, 0, 0, 0, 0, 0, 0, 0, 0, 0, 0, 0, 0, 0, 0, 0, 0, 0, 0, 0, 0, 0,\n",
              "       0, 0, 0, 0, 0, 0, 0, 0, 0, 0, 0, 0, 0, 0, 0, 0, 1, 0, 0, 0, 0, 0,\n",
              "       2, 0, 0, 0, 0, 0, 0, 0, 0, 0, 0, 0, 0, 0, 0, 0, 0, 0, 0, 0, 0, 0,\n",
              "       0, 0, 0, 0, 0, 0, 0, 0, 0, 0, 0, 0, 0, 0, 0, 0, 0, 0, 0, 0, 0, 0,\n",
              "       0, 0, 0, 0, 0, 0, 0, 0, 0, 0, 0, 0, 0, 0, 0, 0, 0, 0, 0, 0, 0, 0,\n",
              "       0, 0, 0, 0, 0, 0, 0, 0, 0, 0, 0, 0, 0, 0, 0, 0, 0, 0, 0, 0, 0, 0,\n",
              "       0, 0, 0, 0, 0, 0, 0, 0, 0, 0, 0, 0, 0, 0, 0, 0, 0, 0, 0, 0, 0, 0,\n",
              "       0, 0, 0, 0, 0, 0, 0, 0, 0, 0, 0, 0, 0, 0, 0, 0, 0, 0, 0, 0, 0, 0,\n",
              "       0, 0, 0, 0, 0, 0, 0, 0, 0, 0, 0, 0, 0, 0, 0, 0, 0, 0, 0, 0, 0, 0,\n",
              "       0, 0, 0, 0, 0, 0, 0, 0, 0, 0, 0, 0, 0, 0, 0, 0, 0, 0, 0, 0, 0, 0,\n",
              "       0, 0, 0, 0, 0, 0, 0, 0, 0, 0, 0, 0, 0, 0, 0, 0, 0, 0, 0, 0, 0, 0,\n",
              "       0, 0, 0, 0, 0, 0, 0, 0, 0, 0, 0, 0, 0, 0, 0, 0, 0, 0, 0, 0, 0, 0,\n",
              "       0, 0, 0, 0, 0, 0, 0, 0, 0, 0, 0, 0, 0, 0, 0, 0, 0, 0, 0, 0, 0, 0,\n",
              "       0, 0, 0, 0, 0, 0, 0, 0, 0, 0, 0, 0, 0, 0, 0, 0, 0, 0, 0, 0, 0, 0,\n",
              "       0, 0, 0, 0, 0, 0, 0, 0, 0, 0, 1, 0, 0, 0, 0, 0, 0, 0, 0, 0, 0, 0,\n",
              "       0, 0, 0, 0, 0, 0, 0, 0, 0, 0, 0, 0, 0, 0, 0, 0, 0, 0, 0, 0, 0, 0,\n",
              "       0, 0, 0, 0, 0, 0, 0, 0, 0, 0, 0, 0, 0, 0, 0, 0, 0, 0, 0, 0, 0, 0,\n",
              "       0, 0, 0, 0, 0, 0, 0, 0, 0, 0, 0, 0, 0, 0, 0, 0, 0, 0, 0, 0, 0, 0,\n",
              "       0, 0, 0, 0, 0, 0, 0, 0, 0, 0, 0, 0, 0, 0, 0, 0, 0, 0, 0, 0, 0, 0,\n",
              "       0, 0, 0, 0, 0, 0, 0, 0, 0, 0, 0, 0, 0, 0, 0, 0, 0, 0, 0, 0, 0, 0,\n",
              "       0, 0, 0, 0, 0, 0, 0, 0, 0, 0, 0, 0, 0, 0, 0, 0, 0, 0, 0, 0, 0, 0,\n",
              "       0, 0, 0, 0, 0, 0, 0, 0, 0, 0, 0, 0, 0, 0, 0, 0, 0, 0, 0, 0, 0, 0,\n",
              "       0, 0, 0, 0, 0, 0, 0, 0, 0, 0, 0, 0, 0, 0, 0, 0, 0, 0, 0, 0, 0, 0,\n",
              "       0, 0, 0, 0, 0, 0, 0, 0, 0, 0, 0, 0, 0, 0, 0, 0, 0, 0, 0, 0, 0, 0,\n",
              "       0, 0, 0, 0, 0, 0, 0, 0, 0, 0, 0, 0, 0, 0, 0, 0, 0, 0, 0, 0, 0, 0,\n",
              "       0, 0, 0, 0, 0, 0, 0, 0, 0, 0, 0, 0, 0, 0, 0, 0, 0, 0, 0, 0, 0, 0,\n",
              "       0, 0, 0, 0, 0, 0, 0, 0, 0, 0, 0, 0, 0, 0, 0, 0, 0, 0, 0, 0, 0, 0,\n",
              "       0, 0, 0, 0, 0, 0, 0, 0, 0, 0, 0, 0, 0, 0, 0, 0, 0, 0, 0, 0, 0, 0,\n",
              "       0, 0, 0, 0, 0, 0, 0, 0, 0, 0, 0, 0, 0, 0, 0, 0, 0, 0, 0, 0, 0, 0,\n",
              "       0, 0, 0, 0, 0, 0, 0, 0, 0, 0, 0, 0, 0, 0, 0, 0, 0, 0, 0, 0, 0, 0,\n",
              "       0, 0, 0, 0, 0, 0, 0, 0, 0, 0, 0, 0, 0, 0, 0, 0, 0, 0, 0, 0, 0, 0,\n",
              "       0, 0, 0, 0, 0, 0, 0, 0, 0, 0, 0, 0, 0, 0, 0, 0, 0, 0, 0, 0, 0, 0,\n",
              "       0, 0, 0, 0, 0, 0, 0, 0, 0, 0, 0, 0, 0, 1, 0, 0, 0, 0, 0, 0, 0, 0,\n",
              "       0, 0, 0, 0, 0, 0, 0, 0, 0, 0, 0, 0, 0, 0, 0, 0, 0, 0, 0, 0, 0, 0,\n",
              "       0, 0, 0, 0, 0, 0, 0, 0, 0, 0, 0, 0, 0, 0, 0, 0, 0, 0, 0, 0, 0, 0,\n",
              "       0, 0, 0, 0, 0, 0, 0, 0, 0, 0, 0, 0, 0, 0, 0, 0, 0, 0, 0, 0, 0, 0,\n",
              "       0, 0, 0, 0, 0, 0, 0, 0, 0, 0, 0, 0, 0, 0, 0, 0, 0, 0, 0, 0, 0, 0,\n",
              "       0, 0, 0, 0, 0, 0, 0, 0, 0, 0, 0, 0, 0, 0, 0, 0, 0, 0, 0, 0, 0, 0,\n",
              "       0, 0, 0, 1, 0, 0, 0, 0, 0, 0, 0, 0, 0, 0, 0, 0, 0, 0, 0, 0, 0, 0,\n",
              "       0, 0, 0, 0, 0, 0, 0, 0, 0, 0, 0, 0, 0, 0, 0, 0, 0, 0, 0, 0, 0, 0,\n",
              "       0, 0, 0, 0, 0, 0, 0, 0, 0, 0, 0, 0, 0, 0, 0, 0, 0, 0, 0, 0, 0, 0,\n",
              "       0, 0, 0, 0, 0, 0, 0, 0, 0, 0, 0, 0, 0, 0, 0, 0, 0, 0, 0, 0, 0, 0,\n",
              "       0, 0, 0, 0, 0, 0, 0, 0, 0, 0, 0, 0, 0, 0, 0, 0, 0, 0, 0, 0, 0, 0,\n",
              "       0, 0, 0, 0, 0, 0, 0, 0, 0, 0, 0, 0, 0, 0, 0, 0, 0, 0, 0, 0, 0, 0,\n",
              "       0, 0, 0, 0, 0, 0, 0, 0, 0, 0, 0, 0, 0, 0, 0, 0, 0, 0, 0, 0, 0, 0,\n",
              "       0, 0, 0, 0, 0, 0, 0, 0, 0, 0, 0, 0, 0, 0, 0, 0, 0, 0, 0, 0, 0, 0,\n",
              "       0, 0, 0, 0, 0, 0, 0, 0, 0, 0, 0, 0, 0, 0, 0, 0, 0, 0, 0, 0, 0, 0,\n",
              "       0, 0, 0, 0, 0, 0, 0, 0, 0, 0, 0, 0, 0, 0, 0, 0, 0, 0, 1, 0, 0, 1,\n",
              "       0, 0, 0, 0, 0, 0, 0, 0, 0, 0, 0, 0, 0, 0, 0, 0, 0, 0, 0, 0, 0, 0,\n",
              "       0, 0, 0, 0, 0, 0, 0, 0, 0, 0, 0, 0, 0, 0, 0, 0, 0, 0, 0, 0, 0, 0,\n",
              "       0, 0, 0, 1, 0, 0, 0, 0, 0, 0, 0, 0, 0, 0, 0, 0, 0, 0, 0, 0, 0, 0,\n",
              "       0, 0, 0, 0, 0, 0, 0, 0, 0, 0, 0, 0, 0, 0, 0, 0, 0, 0, 0, 0, 0, 0,\n",
              "       0, 0, 0, 0, 0, 0, 0, 0, 0, 0, 0, 0, 0, 0, 0, 0, 0, 0, 0, 0, 0, 0,\n",
              "       0, 0, 0, 0, 0, 0, 0, 0, 0, 0, 0, 0, 0, 0, 0, 0, 0, 0, 0, 0, 0, 0,\n",
              "       0, 0, 0, 0, 0, 0, 0, 0, 0, 0, 0, 0, 0, 0, 0, 0, 0, 0, 0, 0, 0, 0,\n",
              "       0, 0, 0, 0, 0, 0, 0, 0, 0, 0, 0, 0, 0, 0, 0, 0, 0, 0, 0, 0, 0, 0,\n",
              "       0, 0, 0, 0, 0, 0, 0, 0, 0, 0, 0, 0, 0, 0, 0, 0, 0, 0, 0, 0, 0, 0,\n",
              "       0, 0, 0, 0, 0, 0, 0, 0, 0, 0, 0, 0, 0, 0, 0, 0, 0, 0, 0, 0, 0, 0,\n",
              "       0, 0, 0, 0, 0, 0, 0, 0, 0, 0, 0, 0, 0, 0, 0, 0, 0, 0, 0, 0, 0, 0,\n",
              "       0, 0, 0, 0, 0, 0, 0, 0, 0, 0, 0, 0, 0, 0, 0, 0, 0, 0, 0, 0, 0, 0,\n",
              "       0, 0, 0, 0, 0, 0, 0, 0, 0, 0, 0, 0, 0, 0, 0, 0, 0, 0, 0, 0, 0, 0,\n",
              "       0, 0, 0, 0, 0, 0, 0, 0, 0, 0, 0, 0, 0, 0, 0, 0, 0, 0, 0, 0, 0, 0,\n",
              "       0, 0, 0, 0, 0, 0, 0, 0, 0, 0, 0, 0, 0, 0, 0, 0, 0, 0, 0, 0, 0, 0,\n",
              "       0, 0, 0, 0, 0, 0, 0, 0, 0, 0, 0, 0, 0, 0, 0, 0, 0, 0, 0, 0, 0, 0,\n",
              "       0, 0, 0, 0, 0, 0, 0, 0, 0, 0, 0, 0, 0, 0, 0, 0, 0, 0, 0, 0, 0, 0,\n",
              "       0, 0, 0, 0, 0, 0, 0, 0, 0, 0, 0, 0, 0, 0, 0, 0, 0, 0, 0, 0, 0, 0,\n",
              "       0, 0, 0, 0, 0, 0, 0, 0, 0, 0, 0, 0, 0, 0, 0, 0, 0, 0, 0, 0, 0, 0,\n",
              "       0, 0, 0, 0, 0, 0, 0, 0, 0, 0, 0, 0, 0, 0, 0, 0, 0, 0, 0, 0, 0, 0,\n",
              "       0, 0, 0, 0, 0, 0, 0, 0, 0, 0, 0, 0, 0, 0, 0, 0, 0, 0, 0, 0, 0, 0,\n",
              "       0, 0, 0, 0, 0, 0, 0, 0, 0, 0, 0, 0, 0, 0, 0, 0, 0, 0, 0, 0, 0, 0,\n",
              "       0, 0, 0, 0, 0, 0, 0, 0, 0, 0, 0, 0, 0, 0, 0, 0, 0, 0, 0, 0, 0, 0,\n",
              "       0, 0, 0, 0, 0, 0, 0, 0, 0, 0, 0, 0, 0, 0, 0, 0, 0, 0, 0, 0, 0, 0,\n",
              "       0, 0, 0, 0, 0, 0, 0, 0, 0, 0, 0, 0, 0, 0, 0, 0, 0, 0, 0, 0, 0, 0,\n",
              "       0, 0, 0, 0, 0, 0, 0, 0, 0, 0, 0, 0, 0, 0, 0, 0, 0, 0, 0, 0, 0, 0,\n",
              "       0, 0, 0, 0, 0, 0, 0, 0, 0, 0, 0, 0, 0, 0, 0, 0, 0, 0, 0, 0, 0, 0,\n",
              "       0, 0, 0, 0, 0, 0, 0, 0, 0, 0, 0, 0, 0, 0, 0, 0, 0, 0, 0, 0, 0, 0,\n",
              "       0, 0, 0, 0, 0, 0, 0, 0, 0, 0, 0, 0, 0, 0, 0, 0, 0, 0, 0, 0, 0, 0,\n",
              "       0, 0, 0, 0, 0, 0, 0, 0, 0, 0, 0, 0, 0, 0, 0, 0, 0, 0, 0, 0, 0, 0,\n",
              "       0, 0, 0, 0, 0, 0, 0, 0, 0, 0, 0, 0, 0, 0, 0, 0, 0, 0, 0, 0, 0, 0,\n",
              "       0, 0, 0, 0, 0, 0, 0, 0, 0, 0, 0, 0, 0, 0, 0, 0, 0, 0, 0, 0, 0, 0,\n",
              "       0, 0, 0, 0, 0, 0, 0, 0, 0, 0, 0, 0, 0, 0, 0, 0, 0, 0, 0, 0, 0, 0,\n",
              "       0, 0, 0, 0, 0, 0, 0, 0, 0, 0, 0, 0, 0, 0, 0, 0, 0, 0, 0, 0, 0, 0,\n",
              "       0, 0, 0, 0, 0, 0, 0, 0, 0, 0, 0, 0, 0, 0, 0, 0, 0, 0, 0, 0, 0, 0,\n",
              "       0, 0, 0, 0, 0, 0, 0, 0, 0, 0, 0, 0, 0, 0, 0, 0, 0, 0, 0, 0, 0, 0,\n",
              "       0, 0, 0, 0, 0, 0, 0, 0, 0, 0, 0, 0, 0, 0, 0, 0, 0, 0, 0, 0, 0, 0,\n",
              "       0, 0, 0, 0, 0, 0, 0, 0, 0, 0, 0, 0, 0, 0, 0, 0, 0, 0, 0, 0, 0, 0,\n",
              "       0, 0, 0, 0, 0, 0, 0, 0, 0, 0, 0, 0, 0, 0, 0, 0, 0, 0, 0, 0, 0, 0,\n",
              "       0, 0, 0, 0, 0, 0, 0, 0, 0, 0, 0, 0, 0, 0, 0, 0, 0, 0, 0, 0, 0, 0,\n",
              "       0, 0, 0, 0, 0, 0, 0, 0, 0, 0, 0, 0, 0, 0, 0, 0, 0, 0, 0, 0, 0, 0,\n",
              "       0, 0, 0, 0, 0, 0, 0, 0, 0, 0, 0, 0, 0, 0, 0, 0, 0, 0, 0, 0, 0, 0,\n",
              "       0, 0, 0, 0, 0, 0, 0, 0, 0, 0, 0, 0, 0, 0, 0, 0, 0, 0, 0, 0, 0, 0,\n",
              "       0, 0, 0, 0, 0, 0, 0, 0, 0, 0, 0, 0, 0, 0, 0, 0, 0, 0, 0, 0, 0, 0,\n",
              "       0, 0, 0, 0, 0, 0, 0, 0, 0, 0, 0, 0, 0, 0, 0, 0, 0, 0, 0, 0, 0, 0,\n",
              "       0, 0, 0, 0, 0, 0, 0, 0, 0, 0, 0, 0, 0, 0, 0, 0, 0, 0, 0, 0, 0, 0,\n",
              "       0, 0, 0, 0, 0, 0, 0, 0, 0, 0, 0, 0, 0, 0, 0, 0, 0, 0, 0, 0, 0, 0,\n",
              "       0, 0, 0, 0, 0, 0, 0, 0, 0, 0, 0, 0, 0, 0, 0, 0, 0, 0, 0, 0, 0, 0,\n",
              "       0, 0, 0, 0, 0, 0, 0, 0, 0, 0, 0, 0, 0, 0, 0, 0, 0, 0, 0, 0, 0, 0,\n",
              "       0, 0, 0, 0, 0, 0, 0, 0, 0, 0, 0, 0, 0, 0, 0, 0, 0, 0, 0, 0, 0, 0,\n",
              "       0, 0, 0, 0, 0, 0, 0, 0, 0, 0, 0, 0, 0, 0, 0, 0, 0, 0, 0, 0, 0, 0,\n",
              "       0, 0, 0, 0, 0, 0, 0, 0, 0, 0, 0, 0, 0, 0, 0, 0, 0, 0, 0, 0, 0, 0,\n",
              "       0, 0, 0, 0, 0, 0, 0, 0, 0, 0, 0, 0, 0, 0, 0, 0, 1, 0, 0, 0, 0, 0,\n",
              "       0, 0, 0, 0, 0, 0, 0, 0, 0, 0, 0, 0, 0, 0, 2, 0, 0, 0, 0, 0, 0, 0,\n",
              "       0, 0, 0, 0, 0, 0, 0, 0, 0, 0, 0, 0, 0, 0, 0, 0, 0, 0, 0, 0, 0, 0,\n",
              "       0, 0, 0, 0, 0, 0, 0, 0, 0, 0, 0, 0, 0, 0, 0, 0, 0, 0, 0, 0, 0, 0,\n",
              "       0, 0, 0, 0, 0, 0, 0, 0, 0, 0, 0, 0, 0, 0, 0, 0, 0, 0, 0, 0, 0, 0,\n",
              "       0, 0, 0, 0, 0, 0, 0, 0, 0, 0, 0, 0, 0, 0, 0, 0, 0, 0, 0, 0, 0, 0,\n",
              "       0, 0, 0, 0, 0, 0, 0, 0, 0, 0, 0, 0, 0, 0, 0, 0, 0, 0, 0, 0, 0, 0,\n",
              "       0, 0, 0, 0, 0, 0, 0, 0, 0, 0, 0, 0, 0, 0, 0, 0, 0, 0, 0, 0, 0, 0,\n",
              "       0, 0, 0, 0, 0, 0, 0, 0, 0, 0, 0, 0, 0, 0, 0, 0, 0, 0, 0, 0, 0, 0,\n",
              "       0, 0, 0, 0, 0, 0, 0, 0, 0, 0, 0, 0, 0, 0, 0, 0, 0, 0, 0, 0, 0, 0,\n",
              "       0, 0, 0, 0, 0, 0, 0, 0, 0, 0, 0, 0, 0, 0, 0, 0, 0, 0, 0, 0, 0, 0,\n",
              "       0, 0, 0, 0, 0, 0, 0, 0, 0, 0, 0, 0, 0, 0, 0, 0, 0, 0, 0, 0, 0, 0,\n",
              "       0, 0, 0, 0, 0, 0, 0, 0, 0, 0, 0, 0, 0, 0, 0, 0, 0, 0, 0, 0, 0, 0,\n",
              "       0, 0, 0, 0, 0, 0, 0, 0, 0, 0, 0, 0, 0, 0, 0, 0, 0, 0, 0, 0, 0, 0,\n",
              "       0, 0, 0, 0, 0, 0, 0, 0, 0, 0, 0, 0, 0, 0, 0, 0, 0, 0, 0, 0, 0, 0,\n",
              "       0, 0, 0, 0, 0, 0, 0, 0, 0, 0, 0, 0, 0, 0, 0, 0, 0, 0, 0, 0, 0, 0,\n",
              "       0, 0, 0, 0, 0, 0, 0, 0, 0, 0, 0, 0, 0, 0, 0, 0, 0, 0, 0, 0, 0, 0,\n",
              "       0, 0, 0, 0, 0, 0, 0, 0, 0, 0, 0, 0, 0, 0, 0, 0, 0, 0, 0, 0, 0, 0,\n",
              "       0, 0, 0, 0, 0, 0, 0, 0, 0, 0, 0, 0, 0, 0, 0, 0, 0, 0, 0, 0, 0, 0,\n",
              "       0, 0, 0, 0, 0, 0, 0, 0, 0, 0, 0, 0, 0, 0, 0, 0, 0, 0, 0, 0, 0, 0,\n",
              "       0, 0, 0, 0, 0, 0, 0, 0, 0, 0, 0, 0, 0, 0, 0, 0, 0, 0, 0, 0, 0, 0,\n",
              "       0, 0, 0, 0, 0, 0, 0, 0, 0, 0, 0, 0, 0, 0, 0, 0, 0, 0, 0, 0, 0, 0,\n",
              "       0, 0, 0, 0, 0, 0, 0, 0, 0, 0, 0, 0, 0, 0, 0, 0, 0, 0, 0, 0, 0, 0,\n",
              "       0, 0, 0, 0, 0, 0, 0, 0, 0, 0, 0, 0, 0, 0, 0, 0, 0, 0, 0, 0, 0, 0,\n",
              "       0, 0, 0, 0, 0, 0, 0, 0, 0, 0, 0, 0, 0, 0, 0, 0, 0, 0, 0, 0, 0, 0,\n",
              "       0, 0, 0, 0, 0, 0, 0, 0, 0, 0, 0, 0, 0, 0, 0, 0, 0, 0, 0, 0, 0, 0,\n",
              "       0, 0, 0, 0, 0, 0, 0, 0, 0, 0, 0, 0, 0, 0, 0, 0, 0, 0, 0, 0, 0, 0,\n",
              "       0, 0, 0, 0, 0, 0, 0, 0, 0, 0, 0, 0, 0, 0, 0, 0, 0, 0, 0, 0, 0, 0,\n",
              "       0, 0, 0, 0, 0, 0, 0, 0, 0, 0, 0, 0, 0, 0, 0, 0, 0, 0, 0, 0, 0, 0,\n",
              "       0, 0, 0, 0, 0, 0, 0, 0, 0, 0, 0, 0, 0, 0, 0, 0, 0, 0, 0, 0, 0, 0,\n",
              "       0, 0, 0, 0, 0, 0, 0, 0, 0, 0, 0, 0, 0, 0, 0, 0, 0, 0, 0, 0, 0, 0,\n",
              "       0, 0, 0, 0, 0, 0, 0, 0, 0, 0, 0, 0, 0, 0, 0, 0, 0, 0, 0, 0, 0, 0,\n",
              "       0, 0, 0, 0, 0, 0, 0, 0, 0, 0, 0, 0, 0, 0, 0, 0, 0, 0, 0, 0, 0, 0,\n",
              "       0, 0, 0, 0, 0, 0, 0, 0, 0, 0, 0, 0, 0, 0, 0, 0, 0, 0, 0, 0, 0, 0,\n",
              "       0, 0, 0, 0, 0, 0, 0, 0, 0, 0, 0, 0, 0, 0, 0, 0, 0, 0, 0, 0, 0, 0,\n",
              "       0, 0, 0, 0, 0, 0, 0, 0, 0, 0, 0, 0, 0, 0, 0, 0, 0, 0, 0, 0, 0, 0,\n",
              "       0, 0, 0, 0, 0, 1, 0, 0, 0, 0, 0, 0, 0, 0, 0, 0, 0, 0, 0, 0, 0, 0,\n",
              "       0, 0, 0, 0, 0, 0, 0, 0, 0, 0, 0, 0, 0, 0, 0, 0, 0, 0, 0, 0, 0, 0,\n",
              "       0, 0, 0, 0, 0, 0, 0, 0, 0, 0, 0, 0, 0, 0, 0, 0, 0, 0, 0, 0, 0, 0,\n",
              "       0, 0, 0, 0, 0, 0, 0, 0, 0, 0, 0, 0, 0, 0, 0, 0, 0, 0, 0, 0, 0, 0,\n",
              "       0, 0, 0, 0, 0, 0, 0, 0, 0, 0, 0, 0, 0, 0, 0, 0, 0, 0, 0, 0, 0, 0,\n",
              "       0, 0, 0, 0, 0, 0, 0, 0, 0, 0, 0, 0, 0, 0, 0, 0, 0, 0, 0, 0, 0, 0,\n",
              "       0, 0, 0, 0, 0, 0, 0, 0, 0, 0, 0, 0, 0, 0, 0, 0, 0, 0, 0, 0, 0, 0,\n",
              "       0, 0, 0, 0, 0, 0, 0, 0, 0, 0, 0, 0, 0, 0, 0, 0, 0, 0, 0, 0, 0, 0,\n",
              "       0, 0, 0, 0, 0, 0, 0, 0, 0, 0, 0, 0, 0, 0, 0, 0, 0, 0, 0, 0, 0, 0,\n",
              "       0, 0, 0, 0, 0, 0, 0, 0, 0, 0, 0, 0, 0, 0, 0, 0, 0, 0, 0, 0, 0, 0,\n",
              "       0, 0, 0, 0, 0, 0, 0, 0, 0, 0, 0, 0, 0, 0, 0, 0, 0, 0, 0, 0, 0, 0,\n",
              "       0, 0, 0, 0, 0, 0, 0, 0, 0, 0, 0, 0, 0, 0, 0, 0, 0, 0, 0, 0, 0, 0,\n",
              "       0, 0, 0, 0, 0, 0, 0, 0, 0, 0, 0, 0, 0, 0, 0, 0, 0, 0, 0, 0, 0, 0,\n",
              "       0, 0, 0, 0, 0, 0, 0, 0, 0, 0, 0, 0, 0, 0, 0, 0, 0, 0, 0, 0, 0, 0,\n",
              "       0, 0, 0, 0, 0, 0, 0, 0, 0, 0, 0, 0, 0, 0, 0, 0, 0, 0, 0, 0, 0, 0,\n",
              "       0, 0, 0, 0, 0, 0, 0, 0, 0, 0, 0, 0, 0, 0, 0, 0, 0, 0, 0, 0, 0, 0,\n",
              "       0, 0, 0, 0, 0, 0, 0, 0, 0, 0, 0, 0, 0, 0, 0, 0, 0, 0, 0, 0, 0, 0,\n",
              "       0, 0, 0, 0, 0, 0, 0, 0, 0, 0, 0, 0, 0, 0, 0, 0, 0, 0, 0, 0, 0, 0,\n",
              "       0, 1, 0, 0, 0, 0, 0, 0, 0, 0, 0, 0, 0, 0, 0, 0, 0, 0, 0, 0, 0, 0,\n",
              "       0, 0, 0, 0, 0, 0, 0, 0, 0, 0, 0, 0, 0, 0, 0, 0, 0, 0, 0, 0, 0, 0,\n",
              "       0, 0, 0, 0, 0, 0, 0, 0, 0, 0, 0, 0, 0, 0, 0, 0, 0, 0, 0, 0, 0, 0,\n",
              "       0, 0, 0, 0, 0, 0, 0, 0, 0, 0, 0, 0, 0, 0, 0, 0, 0, 0, 0, 0, 0, 0,\n",
              "       0, 0, 0, 0, 0, 0, 0, 0, 0, 0, 0, 0, 0, 0, 0, 0, 0, 0, 0, 0, 0, 0,\n",
              "       0, 0, 0, 0, 0, 0, 0, 0, 0, 0, 0, 0, 0, 0, 0, 0, 0, 0, 0, 0, 0, 0,\n",
              "       0, 0, 0, 0, 0, 0, 0, 0, 0, 0, 0, 0, 0, 0, 0, 0, 0, 0, 0, 0, 0, 0,\n",
              "       0, 0, 0, 0, 0, 0, 0, 0, 0, 0, 0, 0, 0, 0, 0, 0, 0, 0, 0, 0, 0, 0,\n",
              "       0, 0, 0, 0, 0, 0, 0, 0, 0, 0, 0, 0, 0, 0, 0, 0, 0, 0, 0, 0, 0, 0,\n",
              "       0, 0, 0, 0, 0, 0, 0, 0, 0, 0, 0, 0, 0, 0, 0, 0, 0, 0, 0, 0, 0, 0,\n",
              "       0, 0, 0, 0, 0, 0, 0, 0, 0, 0, 0, 0, 0, 0, 0, 0, 0, 0, 0, 0, 0, 0,\n",
              "       0, 0, 0, 0, 0, 0, 0, 0, 0, 0, 0, 0, 0, 0, 0, 0, 0, 0, 0, 0, 0, 0,\n",
              "       0, 0, 0, 0, 0, 0, 0, 0, 0, 0, 0, 0, 0, 0, 0, 0, 0, 0, 0, 0, 0, 0,\n",
              "       0, 0, 0, 0, 0, 0, 0, 0, 0, 0, 0, 0, 0, 0, 0, 0, 0, 0, 0, 0, 0, 0,\n",
              "       0, 0, 0, 0, 0, 0, 0, 0, 0, 0, 0, 0, 0, 0, 0, 0, 0, 0, 0, 0, 0, 0,\n",
              "       0, 0, 0, 0, 0, 0, 0, 0, 0, 1, 0, 0, 0, 0, 0, 0, 0, 0, 0, 0, 0, 0,\n",
              "       0, 0, 0, 0, 0, 0, 0, 0, 0, 0, 0, 0, 0, 0, 0, 0, 0, 0, 0, 0, 0, 0,\n",
              "       0, 0, 0, 0, 0, 0, 0, 0, 0, 0, 0, 0, 0, 0, 0, 0, 0, 0, 0, 0, 0, 0,\n",
              "       0, 0, 0, 0, 0, 0, 0, 0, 0, 0, 0, 0, 0, 0, 0, 0, 0, 0, 0, 0, 0, 0,\n",
              "       0, 0, 0, 0, 0, 0, 0, 0, 0, 0, 0, 0, 0, 0, 0, 0, 0, 0, 0, 0, 0, 0,\n",
              "       0, 0, 0, 0, 0, 0, 0, 0, 0, 0, 0, 0, 0, 0, 0, 0, 0, 0, 0, 0, 0, 0,\n",
              "       0, 0, 0, 0, 0, 0, 0, 0, 0, 0, 0, 0, 0, 0, 0, 0, 0, 0, 0, 0, 0, 0,\n",
              "       0, 0, 0, 0, 0, 0, 0, 0, 0, 0, 0, 0, 0, 0, 0, 0, 0, 0, 0, 0, 0, 0,\n",
              "       0, 0, 0, 0, 0, 0, 0, 0, 0, 0, 0, 0, 0, 0, 0, 0, 0, 0, 0, 0, 0, 0,\n",
              "       0, 0, 0, 0, 0, 0, 0, 0, 0, 0, 0, 0, 0, 0, 0, 0, 0, 0, 0, 0, 0, 0,\n",
              "       0, 0, 0, 0, 0, 0, 0, 0, 0, 0, 0, 0, 0, 0, 0, 0, 0, 0, 0, 0, 0, 0,\n",
              "       0, 0, 0, 0, 0, 0, 0, 0, 0, 0, 0, 0, 0, 0, 0, 0, 0, 0, 0, 0, 0, 0,\n",
              "       0, 0, 0, 0, 0, 0, 0, 0, 0, 0, 0, 0, 0, 0, 0, 0, 0, 0, 0, 0, 0, 0,\n",
              "       0, 0, 0, 0, 0, 0, 0, 0, 0, 0, 0, 0, 0, 0, 0, 0, 0, 0, 0, 0, 0, 0,\n",
              "       0, 0, 0, 0, 0, 0, 0, 0, 0, 0, 0, 0, 0, 0, 0, 0, 0, 0, 0, 0, 0, 0,\n",
              "       0, 0, 0, 0, 0, 0, 0, 0, 0, 0, 0, 0, 0, 0, 0, 0, 0, 0, 0, 0, 0, 0,\n",
              "       0, 0, 0, 0, 0, 0, 0, 0, 0, 0, 0, 0, 0, 0, 0, 0, 0, 0, 0, 0, 0, 0,\n",
              "       0, 0, 0, 0, 0, 0, 0, 0, 0, 0, 0, 0, 0, 0, 0, 0, 0, 0, 0, 0, 0, 0,\n",
              "       0, 0, 0, 0, 0, 0, 0, 0, 0, 0, 0, 0, 0, 0, 0, 0, 0, 0, 0, 0, 0, 0,\n",
              "       0, 0, 0, 0, 0, 0, 0, 0, 0, 0, 0, 0, 0, 0, 0, 0, 0, 0, 0, 0, 0, 0,\n",
              "       0, 0, 0, 0, 0, 0, 0, 0, 0, 0, 0, 0, 0, 0, 0, 0, 0, 0, 0, 0, 0, 0,\n",
              "       0, 0, 0, 0, 0, 0, 0, 0, 0, 0, 0, 0, 0, 0, 0, 0, 0, 0, 0, 0, 0, 0,\n",
              "       0, 0, 0, 0, 0, 0, 0, 0, 0, 0, 0, 0, 0, 0, 0, 0, 0, 0, 0, 0, 0, 0,\n",
              "       0, 0, 0, 0, 0, 0, 0, 0, 0, 0, 0, 0, 0, 0, 0, 0, 0, 0, 0, 0, 0, 0,\n",
              "       0, 0, 0, 0, 0, 0, 0, 0, 0, 0, 0, 0, 0, 0, 0, 0, 0, 0, 0, 0, 0, 0,\n",
              "       0, 0, 0, 0, 0, 0, 0, 0, 0, 0, 0, 0, 0, 0, 0, 0, 0, 0, 0, 0, 0, 0,\n",
              "       0, 0, 0, 0, 0, 0, 0, 0, 0, 0, 0, 0, 0, 0, 0, 0, 0, 0, 0, 0, 0, 0,\n",
              "       0, 0, 0, 0, 0, 0, 0, 0, 0, 0, 0, 0, 0, 0, 0, 0, 0, 0, 0, 0, 0, 0,\n",
              "       0, 0, 0, 0, 0, 0, 0, 0, 0, 0, 0, 0, 0, 0, 0, 0, 0, 0, 0, 0, 0, 0,\n",
              "       0, 0, 0, 0, 0, 0, 0, 0, 0, 0, 0, 0, 0, 0, 0, 0, 0, 0, 0, 0, 0, 0,\n",
              "       0, 0, 0, 0, 0, 0, 0, 0, 0, 0, 0, 0, 0, 0, 0, 0, 0, 0, 0, 0, 0, 0,\n",
              "       0, 0])"
            ]
          },
          "metadata": {
            "tags": []
          },
          "execution_count": 36
        }
      ]
    },
    {
      "cell_type": "code",
      "metadata": {
        "colab": {
          "base_uri": "https://localhost:8080/"
        },
        "id": "iKiNt_cYNXYo",
        "outputId": "2db34e24-cb8b-4172-e8ca-8d909d8ed0be"
      },
      "source": [
        "sum(X.toarray()[4560])"
      ],
      "execution_count": 37,
      "outputs": [
        {
          "output_type": "execute_result",
          "data": {
            "text/plain": [
              "20"
            ]
          },
          "metadata": {
            "tags": []
          },
          "execution_count": 37
        }
      ]
    },
    {
      "cell_type": "code",
      "metadata": {
        "trusted": true,
        "_uuid": "5168fb4ad641f712b5d9e6268bf02ea96fdfac62",
        "id": "vXd5fwiMxLYc",
        "colab": {
          "base_uri": "https://localhost:8080/"
        },
        "outputId": "653e08e4-2b6e-456a-be1c-fb7ecfdec1fd"
      },
      "source": [
        "print(vectorizer.get_feature_names()[3671])\n",
        "print(vectorizer.get_feature_names()[4560])"
      ],
      "execution_count": 38,
      "outputs": [
        {
          "output_type": "stream",
          "text": [
            "lying\n",
            "powers\n"
          ],
          "name": "stdout"
        }
      ]
    },
    {
      "cell_type": "code",
      "metadata": {
        "trusted": true,
        "_uuid": "1220b3cc2df7226c69142385389249f6184431f0",
        "id": "n0kFql08xLYh"
      },
      "source": [
        "from sklearn.model_selection import train_test_split\n",
        "msg_train,msg_test,label_train,label_test = train_test_split(message['tokenized_message'],message['Sentiment'],test_size=0.2)"
      ],
      "execution_count": 39,
      "outputs": []
    },
    {
      "cell_type": "code",
      "metadata": {
        "colab": {
          "base_uri": "https://localhost:8080/"
        },
        "id": "kMNDcMXLGW-J",
        "outputId": "7fb1b40f-ac14-435f-eff8-899ab60475fc"
      },
      "source": [
        "msg_train.head()"
      ],
      "execution_count": 40,
      "outputs": [
        {
          "output_type": "execute_result",
          "data": {
            "text/plain": [
              "22143    Support food service workers Email American University Demand food service workers receive full pay health benefits laid COVID19 Write one httpstcojqeDcvrZc9                                                        \n",
              "1851     someone risk category coronavirus Im currently concerned people panic buying rest us unable access food catching actual virus                                                                                        \n",
              "16121    nucleargrrl hoodnaturalist CarolineSeydel mean deaths caused economic shutdown least degree magnitude larger deaths covid19 still like Deaths higher energy prices largely unnoticed de                              \n",
              "25819    remaining open changes operations April limiting number customers time introducing online ordering making instore shopping experience safer Shop online httpstcolRwQCURAfH Read httpstco9HnqsxuDZx httpstcoFk5pf56D6N\n",
              "26845    OnaziOgenyi Hello sir please maxwell name please sir bread winer family speak home bcs covid19 cant go please need cash sir help stock food house acc 01756986                                                       \n",
              "Name: tokenized_message, dtype: object"
            ]
          },
          "metadata": {
            "tags": []
          },
          "execution_count": 40
        }
      ]
    },
    {
      "cell_type": "code",
      "metadata": {
        "id": "1EptnJgdGMUS"
      },
      "source": [
        "train_vectorized = vectorizer.transform(msg_train)\n",
        "test_vectorized = vectorizer.transform(msg_test)"
      ],
      "execution_count": 41,
      "outputs": []
    },
    {
      "cell_type": "code",
      "metadata": {
        "colab": {
          "base_uri": "https://localhost:8080/"
        },
        "id": "wuEx9PrvGhRh",
        "outputId": "bcbffa26-dd0f-482d-faf4-b8361bcb0939"
      },
      "source": [
        "train_vectorized"
      ],
      "execution_count": 42,
      "outputs": [
        {
          "output_type": "execute_result",
          "data": {
            "text/plain": [
              "<32925x6844 sparse matrix of type '<class 'numpy.int64'>'\n",
              "\twith 501062 stored elements in Compressed Sparse Row format>"
            ]
          },
          "metadata": {
            "tags": []
          },
          "execution_count": 42
        }
      ]
    },
    {
      "cell_type": "code",
      "metadata": {
        "id": "ltHiuyb2Gdxg"
      },
      "source": [
        "train_array= train_vectorized.toarray()\n",
        "test_array = test_vectorized.toarray()"
      ],
      "execution_count": 43,
      "outputs": []
    },
    {
      "cell_type": "code",
      "metadata": {
        "trusted": true,
        "_uuid": "9ae436fe7af2fca2dc7b0fd25d44567c88aa24b8",
        "id": "HLrQuWVyxLYf"
      },
      "source": [
        "from sklearn.naive_bayes import GaussianNB\n",
        "spam_detect_model = GaussianNB().fit(train_array,label_train)"
      ],
      "execution_count": 44,
      "outputs": []
    },
    {
      "cell_type": "code",
      "metadata": {
        "id": "koOOJdf0FTks"
      },
      "source": [
        "train_preds = spam_detect_model.predict(train_array)\n",
        "test_preds = spam_detect_model.predict(test_array)"
      ],
      "execution_count": 45,
      "outputs": []
    },
    {
      "cell_type": "code",
      "metadata": {
        "trusted": true,
        "_uuid": "03ac047e8e9e996e7723e901bf00fd7478ab9755",
        "id": "SCJo7wD7xLYg"
      },
      "source": [
        "from sklearn.metrics import classification_report,confusion_matrix"
      ],
      "execution_count": 46,
      "outputs": []
    },
    {
      "cell_type": "code",
      "metadata": {
        "colab": {
          "base_uri": "https://localhost:8080/"
        },
        "id": "Mb0ocgK0G8Vk",
        "outputId": "07fd74e2-7ce8-45ea-91bd-f4e86df2df75"
      },
      "source": [
        "# Confusion matrices for train and test \n",
        "\n",
        "print(confusion_matrix(label_train,train_preds))\n",
        "print(confusion_matrix(label_test,test_preds))"
      ],
      "execution_count": 47,
      "outputs": [
        {
          "output_type": "stream",
          "text": [
            "[[5227 6333  798]\n",
            " [  16 6129    4]\n",
            " [1552 8000 4866]]\n",
            "[[1132 1555  353]\n",
            " [ 127 1328  109]\n",
            " [ 523 2034 1071]]\n"
          ],
          "name": "stdout"
        }
      ]
    },
    {
      "cell_type": "code",
      "metadata": {
        "id": "fMyNnNYuBwNZ",
        "colab": {
          "base_uri": "https://localhost:8080/"
        },
        "outputId": "98219bab-783c-4b19-d970-423e55af7db0"
      },
      "source": [
        "# Print the classification report for train and test\n",
        "print(classification_report(label_train,train_preds))\n",
        "print(\"\\n\")\n",
        "print(classification_report(label_test,test_preds))"
      ],
      "execution_count": 48,
      "outputs": [
        {
          "output_type": "stream",
          "text": [
            "              precision    recall  f1-score   support\n",
            "\n",
            "    Negative       0.77      0.42      0.55     12358\n",
            "     Neutral       0.30      1.00      0.46      6149\n",
            "    Positive       0.86      0.34      0.48     14418\n",
            "\n",
            "    accuracy                           0.49     32925\n",
            "   macro avg       0.64      0.59      0.50     32925\n",
            "weighted avg       0.72      0.49      0.50     32925\n",
            "\n",
            "\n",
            "\n",
            "              precision    recall  f1-score   support\n",
            "\n",
            "    Negative       0.64      0.37      0.47      3040\n",
            "     Neutral       0.27      0.85      0.41      1564\n",
            "    Positive       0.70      0.30      0.42      3628\n",
            "\n",
            "    accuracy                           0.43      8232\n",
            "   macro avg       0.53      0.51      0.43      8232\n",
            "weighted avg       0.59      0.43      0.43      8232\n",
            "\n"
          ],
          "name": "stdout"
        }
      ]
    },
    {
      "cell_type": "code",
      "metadata": {
        "id": "gb7m_lvFCWsX"
      },
      "source": [
        "from sklearn.naive_bayes import MultinomialNB\n",
        "spam_detect_model = MultinomialNB().fit(train_array,label_train)"
      ],
      "execution_count": 49,
      "outputs": []
    },
    {
      "cell_type": "code",
      "metadata": {
        "id": "15QyDVfBCWo5"
      },
      "source": [
        "\n",
        "train_preds = spam_detect_model.predict(train_array)\n",
        "test_preds = spam_detect_model.predict(test_array)"
      ],
      "execution_count": 50,
      "outputs": []
    },
    {
      "cell_type": "code",
      "metadata": {
        "colab": {
          "base_uri": "https://localhost:8080/"
        },
        "id": "ocsIomODCWmr",
        "outputId": "763fb775-2095-4aaf-c427-d303c250ca32"
      },
      "source": [
        "print(confusion_matrix(label_train,train_preds))\n",
        "print(confusion_matrix(label_test,test_preds))"
      ],
      "execution_count": 51,
      "outputs": [
        {
          "output_type": "stream",
          "text": [
            "[[ 9515   985  1858]\n",
            " [  973  4004  1172]\n",
            " [ 1959  1075 11384]]\n",
            "[[2185  289  566]\n",
            " [ 336  817  411]\n",
            " [ 623  327 2678]]\n"
          ],
          "name": "stdout"
        }
      ]
    },
    {
      "cell_type": "code",
      "metadata": {
        "colab": {
          "base_uri": "https://localhost:8080/"
        },
        "id": "VGR5vTLyCWj8",
        "outputId": "7ca95e64-1e86-476d-dfa8-2c8510daedee"
      },
      "source": [
        "print(classification_report(label_train,train_preds))\n",
        "print(\"\\n\")\n",
        "print(classification_report(label_test,test_preds))\n"
      ],
      "execution_count": 52,
      "outputs": [
        {
          "output_type": "stream",
          "text": [
            "              precision    recall  f1-score   support\n",
            "\n",
            "    Negative       0.76      0.77      0.77     12358\n",
            "     Neutral       0.66      0.65      0.66      6149\n",
            "    Positive       0.79      0.79      0.79     14418\n",
            "\n",
            "    accuracy                           0.76     32925\n",
            "   macro avg       0.74      0.74      0.74     32925\n",
            "weighted avg       0.76      0.76      0.76     32925\n",
            "\n",
            "\n",
            "\n",
            "              precision    recall  f1-score   support\n",
            "\n",
            "    Negative       0.69      0.72      0.71      3040\n",
            "     Neutral       0.57      0.52      0.55      1564\n",
            "    Positive       0.73      0.74      0.74      3628\n",
            "\n",
            "    accuracy                           0.69      8232\n",
            "   macro avg       0.67      0.66      0.66      8232\n",
            "weighted avg       0.69      0.69      0.69      8232\n",
            "\n"
          ],
          "name": "stdout"
        }
      ]
    },
    {
      "cell_type": "code",
      "metadata": {
        "id": "QSxy8-o3CWhu"
      },
      "source": [
        " from sklearn.naive_bayes import BernoulliNB\n",
        "spam_detect_model = BernoulliNB().fit(train_array,label_train)"
      ],
      "execution_count": 53,
      "outputs": []
    },
    {
      "cell_type": "code",
      "metadata": {
        "id": "ASBRgbCICWel"
      },
      "source": [
        "train_preds = spam_detect_model.predict(train_array)\n",
        "test_preds = spam_detect_model.predict(test_array)"
      ],
      "execution_count": 54,
      "outputs": []
    },
    {
      "cell_type": "code",
      "metadata": {
        "colab": {
          "base_uri": "https://localhost:8080/"
        },
        "id": "OPidG-aACWbh",
        "outputId": "8155bafb-7969-4a93-ae7a-00955531aa36"
      },
      "source": [
        "print(confusion_matrix(label_train,train_preds))\n",
        "print(confusion_matrix(label_test,test_preds))"
      ],
      "execution_count": 55,
      "outputs": [
        {
          "output_type": "stream",
          "text": [
            "[[ 9154  1385  1819]\n",
            " [  645  4782   722]\n",
            " [ 1914  1498 11006]]\n",
            "[[2110  394  536]\n",
            " [ 216 1075  273]\n",
            " [ 598  443 2587]]\n"
          ],
          "name": "stdout"
        }
      ]
    },
    {
      "cell_type": "code",
      "metadata": {
        "colab": {
          "base_uri": "https://localhost:8080/"
        },
        "id": "rVoySCfgCWYX",
        "outputId": "cd6cf39d-111f-4c56-e3bd-648ccfb08c11"
      },
      "source": [
        "print(classification_report(label_train,train_preds))\n",
        "print(\"\\n\")\n",
        "print(classification_report(label_test,test_preds))\n"
      ],
      "execution_count": 56,
      "outputs": [
        {
          "output_type": "stream",
          "text": [
            "              precision    recall  f1-score   support\n",
            "\n",
            "    Negative       0.78      0.74      0.76     12358\n",
            "     Neutral       0.62      0.78      0.69      6149\n",
            "    Positive       0.81      0.76      0.79     14418\n",
            "\n",
            "    accuracy                           0.76     32925\n",
            "   macro avg       0.74      0.76      0.75     32925\n",
            "weighted avg       0.77      0.76      0.76     32925\n",
            "\n",
            "\n",
            "\n",
            "              precision    recall  f1-score   support\n",
            "\n",
            "    Negative       0.72      0.69      0.71      3040\n",
            "     Neutral       0.56      0.69      0.62      1564\n",
            "    Positive       0.76      0.71      0.74      3628\n",
            "\n",
            "    accuracy                           0.70      8232\n",
            "   macro avg       0.68      0.70      0.69      8232\n",
            "weighted avg       0.71      0.70      0.70      8232\n",
            "\n"
          ],
          "name": "stdout"
        }
      ]
    }
  ]
}